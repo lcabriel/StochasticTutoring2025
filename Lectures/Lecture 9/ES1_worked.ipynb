{
 "cells": [
  {
   "cell_type": "code",
   "execution_count": 1,
   "id": "3ff824a3-3c40-4e37-bc37-16a1e2859c1f",
   "metadata": {},
   "outputs": [],
   "source": [
    "import numpy as np\n",
    "import matplotlib.pyplot as plt\n",
    "import time\n",
    "import random\n",
    "from numpy.random import Generator, PCG64"
   ]
  },
  {
   "cell_type": "markdown",
   "id": "5904bcca-07c6-4806-a14f-c138bd582204",
   "metadata": {},
   "source": [
    "# Error computation on the distributions"
   ]
  },
  {
   "cell_type": "markdown",
   "id": "5991a930-bf2e-4816-bec7-ef323dea9707",
   "metadata": {},
   "source": [
    "In the first part of this lecture we will continue the topic of the error on the distributions trying to understand how we can compute the error between the analytical solution given by the Fokker-Plank equation and the distribution obtain with the simulations. We will also try to develop some possible ways to simulate in a more automated way the local behaviour representation and the representation of the error."
   ]
  },
  {
   "cell_type": "markdown",
   "id": "27405bb5-00b0-49bb-9cd8-3f992b07c4c0",
   "metadata": {},
   "source": [
    "For this task we will use the already studied **harvest process** for which we know all the conditions on the parameters and the bifurcations. We rembember that the problem equation was:\n",
    "\n",
    "$$\n",
    "\\frac{dx}{dt}=a_0\\left(x(1-x)\\right)-kx+s(x(1-x))\\xi(t)\n",
    "$$\n",
    "\n",
    "For comodity we will consider a situation in which $k/a_0<1$. For $s$ the integrability value is $s<\\sqrt{2(a_0-k)}$ so we do not have a fixed hard bound but considering the worst and best case we have that, given the condition on $k/a_0$, $0\\leq s\\leq\\sqrt{2}$. For the singular cases we will consider a restricted zone."
   ]
  },
  {
   "cell_type": "markdown",
   "id": "c99dc18a-39d5-442f-90c8-b21ea10bd7ef",
   "metadata": {},
   "source": [
    "For the Fokker-Plank equation, we can solve the equation finding that the not normalized solution is equal to \n",
    "\n",
    "$$\n",
    "P_s(x)=A(1-x)^{-\\frac{2(a_0+s^2-k)}{s^2}}x^{-\\frac{2(-a_0+s^2+k)}{s^2}}e^{\\frac{2k}{s^2(x-1)}}\n",
    "$$"
   ]
  },
  {
   "cell_type": "markdown",
   "id": "eed31463-5341-4df9-9cc5-87713cf4adba",
   "metadata": {},
   "source": [
    "Obviously the problem here is that we need some ways to obtain the normalization constant. This is too complex to integrate and obtain a general form to compute the normalization constant so we will need to integrate it numerically each time in its domain ( that is $[0,1)$) to compute it."
   ]
  },
  {
   "cell_type": "markdown",
   "id": "7ce6500f-684f-4f45-8115-da841ec1b218",
   "metadata": {},
   "source": [
    "## Step 1"
   ]
  },
  {
   "cell_type": "markdown",
   "id": "a5377f2e-c00c-40c4-a6ec-7f59f71f55c5",
   "metadata": {},
   "source": [
    "So we need to implement a method that allow us to compute the normalization value in the domain given $a_0,s,k$. We can simply then compute the integral using the trapezoidal rule (or other means if you like) and the normalization constant will be the inverse of this value. For this first tests we will use $a_0=1.0$, $k=0.3$ and $s=0.25$. We are also passing the domain's limits: we will see then the reason."
   ]
  },
  {
   "cell_type": "code",
   "execution_count": 2,
   "id": "1d8b8313-696d-46fb-964c-0415bc7a8392",
   "metadata": {},
   "outputs": [],
   "source": [
    "def compute_norm_cost(a0: float,k: float,s: float,N: int,omega_l:float,omega_t: float)->float:\n",
    "    '''\n",
    "    Given the three parameters, this function will compute the normalization\n",
    "    constant of the analytical distribution using the trapezoidal rule in N steps\n",
    "    '''\n",
    "\n",
    "    #Introduce the formula of the analytical distribution\n",
    "    P_s = lambda x: (1-x)**(-(2*(a0+s**2-k))/s**2)*x**(-(2*(-a0+s**2+k))/s**2)*np.exp(2*k/(s**2*(x-1)))\n",
    "\n",
    "    #Define the grid and the step\n",
    "    y = np.linspace(omega_l,omega_t,N+1)\n",
    "    h = 1.0/N\n",
    "\n",
    "    #Initialize integral\n",
    "    I = 0.0\n",
    "\n",
    "    #We need to stop at N-1 because the last point is equal to 1.0 and it's not defined for this value.\n",
    "    for i in range(N-1):\n",
    "        I += h*(P_s(y[i])+P_s(y[i+1]))/2\n",
    "\n",
    "    return 1.0/I"
   ]
  },
  {
   "cell_type": "code",
   "execution_count": 3,
   "id": "f1226fad-b122-4481-93d0-57683a68893a",
   "metadata": {},
   "outputs": [
    {
     "data": {
      "text/plain": [
       "177647.28981397636"
      ]
     },
     "execution_count": 3,
     "metadata": {},
     "output_type": "execute_result"
    }
   ],
   "source": [
    "compute_norm_cost(1.0,0.3,0.25,1000,0,1)"
   ]
  },
  {
   "cell_type": "markdown",
   "id": "7107b159-5f49-455f-aa6a-8c887ab03b65",
   "metadata": {},
   "source": [
    "## Step 2"
   ]
  },
  {
   "cell_type": "markdown",
   "id": "3128c67b-bb91-4b82-903a-ffc3fc4f5a86",
   "metadata": {},
   "source": [
    "Prepared all the pieces necessaries to obtain the analytical distribution we can move to the simulative part. We can start importing the code from the previous notebooks to produce the distributions."
   ]
  },
  {
   "cell_type": "code",
   "execution_count": 4,
   "id": "aff9e1d7-0775-43f6-978e-5f2df608460e",
   "metadata": {},
   "outputs": [],
   "source": [
    "#THE CLASS\n",
    "\n",
    "class Harvest(object):\n",
    "    '''\n",
    "    This function will simulate trajectories for an initialize\n",
    "    perturbed logistic system\n",
    "    '''\n",
    "    def __init__(self,a0: float,k: float,s:float)->None:\n",
    "        self.a0 = a0\n",
    "        self.k = k\n",
    "        self.s = s\n",
    "\n",
    "        if(a0<=0 or k<=0 or s<=0):\n",
    "            raise RuntimeError(\"One of the given parameter is 0 or negative\")\n",
    "        \n",
    "        return\n",
    "\n",
    "    def __checkInputs(self,x0: float,T: float,N: int)->None:\n",
    "        '''\n",
    "        Given the inputs for a trajectory, this method will\n",
    "        check if they are correct\n",
    "        '''\n",
    "        if x0<0:\n",
    "            raise RuntimeError(\"Initial population must be positive\")\n",
    "\n",
    "        if T<0:\n",
    "            raise RuntimeError(\"Time interval must have a positive lenght\")\n",
    "\n",
    "        if N<=1:\n",
    "            raise RuntimeError(\"The simulation must have at least two steps\")\n",
    "\n",
    "        return\n",
    "\n",
    "    def __RK4(self,t_n: float,y_n: float,h: float)->float:\n",
    "        '''\n",
    "        Given a point in the trajectory, the time instant and the step lenght,\n",
    "        this method will compute the variation for y using the RK4 for the \n",
    "        deterministic part of the PLS\n",
    "        '''\n",
    "        self.__checkInputs(y_n,t_n,10)\n",
    "        \n",
    "        if h<=0:\n",
    "            raise RuntimeError(\"Given h is negative or 0\")\n",
    "\n",
    "        f = lambda x: self.a0*x*(1-x)-self.k*x\n",
    "        \n",
    "        k_1 = f(y_n)\n",
    "        k_2 = f(y_n+h*k_1/2)\n",
    "        k_3 = f(y_n+h*k_2/2)\n",
    "        k_4 = f(y_n+h*k_3)\n",
    "\n",
    "        return h*(k_1+2*k_2+2*k_3+k_4)/6\n",
    "        \n",
    "    def simulateTraj(self,x0: float,T: float,N: int):\n",
    "        '''\n",
    "        Given the initial population value x0, the considered interval lenght T\n",
    "        and the number of step in the computation N, this method will return a\n",
    "        trajectory for the PLS.\n",
    "        '''\n",
    "        self.__checkInputs(x0,T,N)\n",
    "\n",
    "        if T==0:\n",
    "            return np.array([x0])\n",
    "\n",
    "        h = T/N\n",
    "        traj = np.zeros(N+1,dtype=float)\n",
    "        traj[0] = x0\n",
    "        time = np.zeros(N+1,dtype=float)\n",
    "        time[0] = 0.0\n",
    "\n",
    "        rng = Generator(PCG64())\n",
    "\n",
    "        for i in range(1,N+1):\n",
    "            time[i] = i*h\n",
    "            dx = self.__RK4(time[i-1],traj[i-1],h) \n",
    "            dx += self.s*traj[i-1]*(1.0-traj[i-1])*rng.normal()*np.sqrt(h) \n",
    "            traj[i] = traj[i-1] + dx\n",
    "            if traj[i]<0: traj[i]=0.0\n",
    "\n",
    "        return traj,time"
   ]
  },
  {
   "cell_type": "code",
   "execution_count": 5,
   "id": "167505fe-1fd5-4bda-ac19-a478ed1e8983",
   "metadata": {},
   "outputs": [],
   "source": [
    "#THE PRODUCTION CODE\n",
    "\n",
    "omega = [0.0,1.0] \n",
    "Nbins = 250 \n",
    "Nsim = 5000\n",
    "m = (omega[1]-omega[0])/Nbins\n",
    "system = Harvest(1.0,0.3,0.25)\n",
    "\n",
    "rng_0 = Generator(PCG64())\n",
    "\n",
    "bins = np.zeros(Nbins,dtype=float)\n",
    "\n",
    "for _ in range(Nsim):\n",
    "    ptraj,ttraj = system.simulateTraj(rng_0.uniform(low=omega[0],high=omega[1]),50,500)\n",
    "    for i in range(Nbins):\n",
    "        if ptraj[-1] < (m*(i+1)+omega[0]):\n",
    "            bins[i] += 1.0\n",
    "            break\n"
   ]
  },
  {
   "cell_type": "code",
   "execution_count": 6,
   "id": "c433829a-622b-4517-b8a6-cd3d5e623f65",
   "metadata": {},
   "outputs": [
    {
     "data": {
      "text/plain": [
       "[<matplotlib.lines.Line2D at 0x1fd56c23230>]"
      ]
     },
     "execution_count": 6,
     "metadata": {},
     "output_type": "execute_result"
    },
    {
     "data": {
      "image/png": "[encoded data removed]",
      "text/plain": [
       "<Figure size 640x480 with 1 Axes>"
      ]
     },
     "metadata": {},
     "output_type": "display_data"
    }
   ],
   "source": [
    "#THE PLOT\n",
    "\n",
    "x = np.linspace(omega[0],omega[1],Nbins)\n",
    "\n",
    "plt.xlabel(\"x\")\n",
    "plt.xlim(0.0,1.0)\n",
    "plt.plot(x,bins)"
   ]
  },
  {
   "cell_type": "markdown",
   "id": "b271940e-e389-411a-b024-3950c5343a40",
   "metadata": {},
   "source": [
    "We have applied no normalization on the dataset so we need to normalize it to be able to confront the results with the analytical solution. We can simply normalize dividing for N_sim*m"
   ]
  },
  {
   "cell_type": "code",
   "execution_count": 7,
   "id": "4de60c43-0972-4468-a6ce-dfcef48e3c1d",
   "metadata": {},
   "outputs": [
    {
     "data": {
      "text/plain": [
       "[<matplotlib.lines.Line2D at 0x1fd56cf4fb0>]"
      ]
     },
     "execution_count": 7,
     "metadata": {},
     "output_type": "execute_result"
    },
    {
     "data": {
      "image/png": "[encoded data removed]",
      "text/plain": [
       "<Figure size 640x480 with 1 Axes>"
      ]
     },
     "metadata": {},
     "output_type": "display_data"
    }
   ],
   "source": [
    "#Transforming the bins\n",
    "t_bins = bins/(Nsim*m)\n",
    "\n",
    "#Computing the analytical solution\n",
    "P_s = lambda x,a0,k,s: (1-x)**(-(2*(a0+s**2-k))/s**2)*x**(-(2*(-a0+s**2+k))/s**2)*np.exp(2*k/(s**2*(x-1)))\n",
    "y = np.linspace(0,1,251)\n",
    "y = y[0:-1]\n",
    "A = compute_norm_cost(1.0,0.3,0.25,1000,0,1)\n",
    "\n",
    "#Plot\n",
    "x = np.linspace(omega[0],omega[1],Nbins)\n",
    "\n",
    "plt.xlabel(\"x\")\n",
    "plt.xlim(0.0,1.0)\n",
    "plt.plot(x,t_bins,color=\"r\")\n",
    "plt.plot(y,A*P_s(y,1.0,0.3,0.25))"
   ]
  },
  {
   "cell_type": "markdown",
   "id": "09a982d6-10a6-41f5-853d-5f6596054234",
   "metadata": {},
   "source": [
    "As we can observe we have that the analytical distribution and the simulative one have a good match."
   ]
  },
  {
   "cell_type": "markdown",
   "id": "8fccb22f-9658-4022-a171-d9891b1f2628",
   "metadata": {},
   "source": [
    "## Step 3"
   ]
  },
  {
   "cell_type": "markdown",
   "id": "57c029b2-c8bf-41f5-8af2-ae14f0a1fb64",
   "metadata": {},
   "source": [
    "Ok now we need to compute the distance between the two distributions. There are a lot of ways but in this case we will use the **Kullback-Leiber distance or divergence**. This is a quantification of the distance between two distributions. It has not an absolut meaning beside from the 0 case in which we have no error so it can be used only under a comparison point of view. In our case having distributions such the one above where the two almost coincide give us some paragons.  \n",
    "\n",
    "The Kullback-Leiber divergence given two distributions $P(x)$ and $Q(x)$ is\n",
    "\n",
    "$$\n",
    "D_{KL}(P||Q)=\\sum_i P(i)\\log_2\\left(\\frac{P(i)}{Q(i)}\\right)\n",
    "$$\n",
    "\n",
    "Some important observations:\n",
    "\n",
    "- Firstly, the KL is not a symmetric distance so doing $D_{KL}(Q||P)$ will produce different results. For this reason is important to keep the role of the two distributions.\n",
    "- Secondly, the $Q(x)$ has a further hypothesis which is that $Q(x)>0$ $\\forall x$. So 0 values are not admitted for this distribution.\n",
    "\n",
    "For this reason, in our case the only possible solution will be to use as $P(x)$ the bins and as $Q(x)$ the analytical one."
   ]
  },
  {
   "cell_type": "markdown",
   "id": "78b1a2e4-bbc0-4d53-a256-cc1f00d3185c",
   "metadata": {},
   "source": [
    "To do a small double check we can print the values for the analytical distribution."
   ]
  },
  {
   "cell_type": "code",
   "execution_count": 8,
   "id": "286941fe-7746-41b0-be17-c85d8197af47",
   "metadata": {
    "scrolled": true
   },
   "outputs": [
    {
     "data": {
      "text/plain": [
       "array([0.00000000e+000, 1.54199740e-048, 2.26391280e-042, 9.39552703e-039,\n",
       "       3.52782063e-036, 3.55092058e-034, 1.55433048e-032, 3.82998740e-031,\n",
       "       6.19735983e-030, 7.27320240e-029, 6.62551290e-028, 4.91704835e-027,\n",
       "       3.08104566e-026, 1.67488333e-025, 8.06721484e-025, 3.50087469e-024,\n",
       "       1.38738491e-023, 5.07659582e-023, 1.73088955e-022, 5.54126997e-022,\n",
       "       1.67649718e-021, 4.82001706e-021, 1.32315335e-020, 3.48237743e-020,\n",
       "       8.81871358e-020, 2.15559358e-019, 5.09997573e-019, 1.17079112e-018,\n",
       "       2.61369197e-018, 5.68520507e-018, 1.20703766e-017, 2.50535453e-017,\n",
       "       5.09115220e-017, 1.01421154e-016, 1.98300020e-016, 3.80951687e-016,\n",
       "       7.19782439e-016, 1.33879018e-015, 2.45339616e-015, 4.43304609e-015,\n",
       "       7.90362170e-015, 1.39131750e-014, 2.41973940e-014, 4.16006719e-014,\n",
       "       7.07377933e-014, 1.19024534e-013, 1.98269292e-013, 3.27111306e-013,\n",
       "       5.34726873e-013, 8.66421256e-013, 1.39200576e-012, 2.21826156e-012,\n",
       "       3.50736247e-012, 5.50393379e-012, 8.57455450e-012, 1.32650874e-011,\n",
       "       2.03834138e-011, 3.11181804e-011, 4.72083352e-011, 7.11839462e-011,\n",
       "       1.06706587e-010, 1.59048167e-010, 2.35761393e-010, 3.47614359e-010,\n",
       "       5.09887640e-010, 7.44166897e-010, 1.08081009e-009, 1.56232963e-009,\n",
       "       2.24801069e-009, 3.22019358e-009, 4.59278823e-009, 6.52277210e-009,\n",
       "       9.22566236e-009, 1.29962642e-008, 1.82364008e-008, 2.54918525e-008,\n",
       "       3.55014041e-008, 4.92617631e-008, 6.81132194e-008, 9.38523259e-008,\n",
       "       1.28879683e-007, 1.76393189e-007, 2.40640018e-007, 3.27244221e-007,\n",
       "       4.43631467e-007, 5.99578182e-007, 8.07919575e-007, 1.08546006e-006,\n",
       "       1.45414078e-006, 1.94253285e-006, 2.58774220e-006, 3.43783307e-006,\n",
       "       4.55490340e-006, 6.01897742e-006, 7.93291986e-006, 1.04286241e-005,\n",
       "       1.36747846e-005, 1.78866343e-005, 2.33381123e-005, 3.03770310e-005,\n",
       "       3.94439309e-005, 5.10954628e-005, 6.60333072e-005, 8.51398506e-005,\n",
       "       1.09522081e-004, 1.40565457e-004, 1.79999832e-004, 2.29979928e-004,\n",
       "       2.93183283e-004, 3.72929149e-004, 4.73322409e-004, 5.99427278e-004,\n",
       "       7.57476326e-004, 9.55121265e-004, 1.20173291e-003, 1.50875883e-003,\n",
       "       1.89014834e-003, 2.36285600e-003, 2.94743571e-003, 3.66873965e-003,\n",
       "       4.55673699e-003, 5.64746966e-003, 6.98416308e-003, 8.61851194e-003,\n",
       "       1.06121615e-002, 1.30384065e-002, 1.59841289e-002, 1.95519977e-002,\n",
       "       2.38629499e-002, 2.90589722e-002, 3.53061991e-002, 4.27983363e-002,\n",
       "       5.17604130e-002, 6.24528574e-002, 7.51758758e-002, 9.02741026e-002,\n",
       "       1.08141467e-001, 1.29226199e-001, 1.54035884e-001, 1.83142401e-001,\n",
       "       2.17186618e-001, 2.56882584e-001, 3.03020999e-001, 3.56471627e-001,\n",
       "       4.18184314e-001, 4.89188179e-001, 5.70588545e-001, 6.63561062e-001,\n",
       "       7.69342514e-001, 8.89217701e-001, 1.02450183e+000, 1.17651785e+000,\n",
       "       1.34656815e+000, 1.53590026e+000, 1.74566616e+000, 1.97687507e+000,\n",
       "       2.23033987e+000, 2.50661741e+000, 2.80594362e+000, 3.12816450e+000,\n",
       "       3.47266470e+000, 3.83829596e+000, 4.22330801e+000, 4.62528561e+000,\n",
       "       5.04109526e+000, 5.46684632e+000, 5.89787099e+000, 6.32872826e+000,\n",
       "       6.75323656e+000, 7.16453957e+000, 7.55520891e+000, 7.91738626e+000,\n",
       "       8.24296578e+000, 8.52381561e+000, 8.75203504e+000, 8.92024056e+000,\n",
       "       9.02187162e+000, 9.05150343e+000, 9.00515153e+000, 8.88055056e+000,\n",
       "       8.67738819e+000, 8.39747485e+000, 8.04483105e+000, 7.62567695e+000,\n",
       "       7.14831313e+000, 6.62288808e+000, 6.06105530e+000, 5.47553168e+000,\n",
       "       4.87957753e+000, 4.28642711e+000, 3.70870504e+000, 3.15786832e+000,\n",
       "       2.64371415e+000, 2.17399128e+000, 1.75414464e+000, 1.38721294e+000,\n",
       "       1.07388497e+000, 8.12705499e-001, 6.00407646e-001, 4.32336298e-001,\n",
       "       3.02919545e-001, 2.06142424e-001, 1.35980386e-001, 8.67582053e-002,\n",
       "       5.34121930e-002, 3.16475199e-002, 1.79959463e-002, 9.79019493e-003,\n",
       "       5.07809044e-003, 2.50184696e-003, 1.16589524e-003, 5.11552282e-004,\n",
       "       2.10244795e-004, 8.04799288e-005, 2.85110439e-005, 9.28132277e-006,\n",
       "       2.75428257e-006, 7.38420643e-007, 1.77045738e-007, 3.75279322e-008,\n",
       "       6.94103353e-009, 1.10356409e-009, 1.48259329e-010, 1.65009153e-011,\n",
       "       1.48698675e-012, 1.05641733e-013, 5.73493225e-015, 2.29298831e-016,\n",
       "       6.46392403e-018, 1.21942921e-019, 1.44576183e-021, 9.98078733e-024,\n",
       "       3.65336840e-026, 6.31340394e-029, 4.45268784e-032, 1.06502349e-035,\n",
       "       6.80325578e-040, 8.48250785e-045, 1.35696848e-050, 1.56853637e-057,\n",
       "       5.84725852e-066, 2.18316831e-076, 1.40414460e-089, 9.69012104e-107,\n",
       "       6.90856436e-130, 1.15901037e-162, 2.23584594e-212, 0.00000000e+000,\n",
       "       0.00000000e+000, 0.00000000e+000])"
      ]
     },
     "execution_count": 8,
     "metadata": {},
     "output_type": "execute_result"
    }
   ],
   "source": [
    "A*P_s(y,1.0,0.3,0.25)"
   ]
  },
  {
   "cell_type": "markdown",
   "id": "488a5ccd-927c-4d1d-8a74-95a76dc7b277",
   "metadata": {},
   "source": [
    "As we can observe there are small values near the tails that reach the 0 values. We can opt for two possible solutions:\n",
    "\n",
    "- Do a correction to all of those points transforming them in some values near 0\n",
    "- Do not consider all the case in which the analytical solution is 0.\n",
    "\n",
    "Both of the solutions have some pros and cons. However we can try to think a bit upon the second solution which seems the easier under the coding POV. We can do some considerations:\n",
    "\n",
    "- Given the fact that we will stay in the parametrical condition for which our analytical distribution is valid we have that the behaviours of the two should not be too much different so we can expect to have the same critical points\n",
    "- If we have not the same critical points we can expect that the attractiveness of a critical point will be overevaluated in the simulation and for this reason another one disappear. So the number of the critical points of the simulations should be lesser or equal than the number of critical points of the analytical solution.\n",
    "\n",
    "For these reasons we can imagine that in the areas where the analytical solutions tends to 0 (the antimodes) we should have that the simulations should have almost 0 values and all the problems on the error should appear on the attractive critical points (both value differences and the absence of an attractor point for the simulations) and in their neighborhood. So we can opt for the second solution and do not count the 0 values situations for the analytical distribution.\n"
   ]
  },
  {
   "cell_type": "markdown",
   "id": "e77ecd7c-1cac-4535-b4f5-9b4020563fbc",
   "metadata": {},
   "source": [
    "So let's prepare a method to compute this distance. We have also to remember to adjust the case in which $P[i]=0$ manually to have no problem with the computations. Actually, we can join the case of $P[i]=0$ and $Q[i]=0$ because in the first case we have to manually sum 0 and in the second we need to skip that element on the sum but, at the end, the contribution is the same."
   ]
  },
  {
   "cell_type": "code",
   "execution_count": 9,
   "id": "6d32b78f-ddab-4bef-aa00-44efb3a758cc",
   "metadata": {},
   "outputs": [],
   "source": [
    "def kullback_leiber(P: np.array,Q: np.array)->float:\n",
    "    '''\n",
    "    This function will compute the Kullback-Leiber distance between\n",
    "    the distributions P and Q. P should be the simulative distribution\n",
    "    while Q the analytical one\n",
    "    '''\n",
    "\n",
    "    #First we have to check that the array have the same length\n",
    "    if(len(P)!=len(Q)):\n",
    "        raise RuntimeError(\"The length of the arrays of the two distributions must be the same\")\n",
    "\n",
    "    DKL = 0.0\n",
    "\n",
    "    for i in range(len(P)):\n",
    "        if(P[i]>0.0 and Q[i]>0.0):\n",
    "            DKL += P[i]*np.log2(P[i]/Q[i])\n",
    "\n",
    "    return DKL"
   ]
  },
  {
   "cell_type": "code",
   "execution_count": 10,
   "id": "4583fdb3-0a00-42c0-8c4b-5a37bb1cae0a",
   "metadata": {},
   "outputs": [
    {
     "name": "stdout",
     "output_type": "stream",
     "text": [
      "250 250\n"
     ]
    },
    {
     "data": {
      "text/plain": [
       "3.8850299489313587"
      ]
     },
     "execution_count": 10,
     "metadata": {},
     "output_type": "execute_result"
    }
   ],
   "source": [
    "print(len(t_bins),len(y))\n",
    "\n",
    "kullback_leiber(t_bins,A*P_s(y,1.0,0.3,0.25))"
   ]
  },
  {
   "cell_type": "markdown",
   "id": "5af44761-08bc-4a66-b92e-751a98bca4a3",
   "metadata": {},
   "source": [
    "Ok we gathered all the pieces to proceed on our analysis. As said, this value for the KL has no meaning per se and we need to compare the value with the others. Obviously doing again and again the computation will not produce the same results due to stochastic contributions to the trajcetories and the distributions."
   ]
  },
  {
   "cell_type": "markdown",
   "id": "164c88c0-0671-4425-b8f8-73ee751f0318",
   "metadata": {},
   "source": [
    "## Step 4"
   ]
  },
  {
   "cell_type": "markdown",
   "id": "366b49b1-146c-4d79-9d05-b282b85b8443",
   "metadata": {},
   "source": [
    "Now we can start to analyse the error for the different configurations. We have that the value of $k$ and $a_0$ are not actually dependant in their absolut value but the only important thing is their ratio $k/a_0$ so we can simply fix $a_0=1.0$ and change $k$. We have suppose that $0\\leq k/a_0\\leq 1$ so we will have the same domain for $k$ only. For $s$ we have seen that the meaningful value can change so we will consider the whole domain so $0\\leq s< \\sqrt{2}$. \n",
    "\n",
    "With these observations upon the domain of the parameter space we can define a 2D grid. I will consider 50 points for each axis and to avoid possible problems at the limit of our domain we will start not from 0 and we will not arrive to exactly the upper limit. This is needed because at the divergence point, even if the value is integrable we cannot have in the simulation an infinite high peak so the error will be infinity in this point. \n",
    "\n",
    "A similar problem happens when we have too small fluctuations in fact exists a certain value in which case we will have no more a finite peak but an infinite one. If you do some tests you will find that it's around $0.10-0.15$ for low $k$s but it has some kind of dependance from $k$ that makes it smaller with k growing. This case is no so easily eliminable without doing internal checks in the integral and KL methods so we will simply exclude this cases from our analysis starting from an $s_{base}=0.15$ "
   ]
  },
  {
   "cell_type": "code",
   "execution_count": 11,
   "id": "9f794bd4-03a2-4b87-bbd4-ca9fb1e04abf",
   "metadata": {},
   "outputs": [
    {
     "name": "stdout",
     "output_type": "stream",
     "text": [
      "[0.05 0.15 0.25 0.35 0.45 0.55 0.65 0.75 0.85 0.95]\n",
      "[0.21321068 0.33963203 0.46605339 0.59247475 0.7188961  0.84531746\n",
      " 0.97173882 1.09816017 1.22458153 1.35100288]\n"
     ]
    }
   ],
   "source": [
    "#CREATION OF THE GRID FOR THE PARAMETERS'SPACE\n",
    "\n",
    "N = 10\n",
    "\n",
    "delta_k = 1/N\n",
    "delta_s = (np.sqrt(2)-0.15)/N\n",
    "\n",
    "k_grid = np.zeros(N,dtype=float)\n",
    "s_grid = np.zeros(N,dtype=float)\n",
    "\n",
    "for i in range(N):\n",
    "    k_grid[i] = (i+0.5)*delta_k\n",
    "    s_grid[i] = (i+0.5)*delta_s+0.15\n",
    "\n",
    "print(k_grid)\n",
    "print(s_grid)"
   ]
  },
  {
   "cell_type": "code",
   "execution_count": 12,
   "id": "058775b5-f233-4f3e-84e1-35108192d865",
   "metadata": {},
   "outputs": [],
   "source": [
    "#PRODUCTION CODE\n",
    "\n",
    "#SET SIMULATIONS CHARACTERISTICS\n",
    "omega = [0.01,0.99] \n",
    "Nbins = 250 \n",
    "Nsim = 2500\n",
    "m = (omega[1]-omega[0])/Nbins\n",
    "\n",
    "#SET DOMAIN AND CHARACTERISTICS FOR THE ANALYTIC SOLUTION\n",
    "y = np.linspace(omega[0],omega[1],Nbins+1)\n",
    "y = y[0:-1]\n",
    "P_s = lambda x,a0,k,s: (1-x)**(-(2*(a0+s**2-k))/s**2)*x**(-(2*(-a0+s**2+k))/s**2)*np.exp(2*k/(s**2*(x-1)))\n",
    "\n",
    "#SET THE ERROR MATRIX\n",
    "err = np.zeros((len(k_grid),len(s_grid)),dtype=float)\n",
    "\n",
    "for k in range(len(k_grid)):\n",
    "    for j in range(len(s_grid)):\n",
    "        if(s_grid[j]**2<2*(1.0-k_grid[k])):\n",
    "            system = Harvest(1.0,k_grid[k],s_grid[j])\n",
    "            \n",
    "            rng_0 = Generator(PCG64())\n",
    "            \n",
    "            bins = np.zeros(Nbins,dtype=float)\n",
    "            \n",
    "            for _ in range(Nsim):\n",
    "                ptraj,ttraj = system.simulateTraj(rng_0.uniform(low=omega[0],high=omega[1]),50,500)\n",
    "                for i in range(Nbins):\n",
    "                    if ptraj[-1] < (m*(i+1)+omega[0]):\n",
    "                        bins[i] += 1.0\n",
    "                        break\n",
    "\n",
    "            t_bins = bins/(Nsim*m)\n",
    "            A = compute_norm_cost(1.0,k_grid[k],s_grid[j],1000,omega[0],omega[1])\n",
    "\n",
    "            err[k,j]=kullback_leiber(t_bins,A*P_s(y,1.0,k_grid[k],s_grid[j]))"
   ]
  },
  {
   "cell_type": "code",
   "execution_count": 13,
   "id": "8eab1728-72ca-4000-9e7c-d24c256271f6",
   "metadata": {},
   "outputs": [
    {
     "name": "stderr",
     "output_type": "stream",
     "text": [
      "C:\\Users\\loren\\AppData\\Local\\Temp\\ipykernel_21952\\918668956.py:9: RuntimeWarning: divide by zero encountered in log\n",
      "  plt.pcolormesh(s_grid,k_grid,np.log(err),cmap='plasma')\n"
     ]
    },
    {
     "data": {
      "text/plain": [
       "<matplotlib.collections.QuadMesh at 0x1fd56cb7830>"
      ]
     },
     "execution_count": 13,
     "metadata": {},
     "output_type": "execute_result"
    },
    {
     "data": {
      "image/png": "[encoded data removed]",
      "text/plain": [
       "<Figure size 640x480 with 1 Axes>"
      ]
     },
     "metadata": {},
     "output_type": "display_data"
    }
   ],
   "source": [
    "x=np.linspace(0,10,100)\n",
    "\n",
    "plt.plot(x,(1-x**2/2),color='r')\n",
    "plt.title(\"Log colormesh of the error for each config.\")\n",
    "plt.xlabel(\"s\")\n",
    "plt.ylabel(\"k/a0\")\n",
    "plt.xlim(min(s_grid-delta_s/2),max(s_grid+delta_s/2))\n",
    "plt.ylim(min(k_grid-delta_k/2),max(k_grid+delta_k/2))\n",
    "plt.pcolormesh(s_grid,k_grid,np.log(err),cmap='plasma')"
   ]
  },
  {
   "cell_type": "markdown",
   "id": "b2181942-d6ba-4dc7-9bbf-706cff88c450",
   "metadata": {},
   "source": [
    "The red line is a delimitation marker for the integrable region.\n",
    "We can make some observations looking at this graphical representation:\n",
    "\n",
    "1. Firstly we can think a bit about the errors we are finding. Considering our cut upon the domain we can firmly say that the upper left blue square is probably wrong. In fact for that value we should have our attractor point located in $0.95$+something due to the $s$ (do you remember what happens when you grow with $s$ to the upper stable point?). With the domain truncation, most of our points of interest are probably outside in this case.\n",
    "2. Anyway, for the other points we have obtained good results. If you like, you can also use library such as Seaborn to print the value of each cell upon it to have an improve readability. Looking at the colormesh we can see that the error grows with bigger fluctuations (it makes sense) and grows with greater $k$. In this way know where our simulation can move away from the solutions.\n",
    "3. An indirect gain obtainable with this computation is, modifying the code a bit, that we can save in some variables all of these distributions and in such way produce, using an automated codes, all the plots. With all the plots obtained we can also create a mega-plot similar to the colormesh above but with the plot distribution in each cell. This mega-plot will allow us to see rapidly the differences moving along the parameters."
   ]
  }
 ],
 "metadata": {
  "kernelspec": {
   "display_name": "Python 3 (ipykernel)",
   "language": "python",
   "name": "python3"
  },
  "language_info": {
   "codemirror_mode": {
    "name": "ipython",
    "version": 3
   },
   "file_extension": ".py",
   "mimetype": "text/x-python",
   "name": "python",
   "nbconvert_exporter": "python",
   "pygments_lexer": "ipython3",
   "version": "3.9.18"
  }
 },
 "nbformat": 4,
 "nbformat_minor": 5
}
