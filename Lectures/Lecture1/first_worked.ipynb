{
 "cells": [
  {
   "cell_type": "code",
   "execution_count": 1,
   "id": "2d99335e-5b87-408f-bbe6-d69efeb71fb7",
   "metadata": {},
   "outputs": [],
   "source": [
    "import numpy as np\n",
    "import matplotlib.pyplot as plt\n",
    "import time\n",
    "import random"
   ]
  },
  {
   "cell_type": "markdown",
   "id": "bf37d854-2b25-4035-99a7-6948f59980c7",
   "metadata": {},
   "source": [
    "## Introductory Exercise"
   ]
  },
  {
   "cell_type": "markdown",
   "id": "0efb3f8a-0eb2-4403-88a9-7bfc36932838",
   "metadata": {},
   "source": [
    "With this lecture we will start to explore the topic of the simulations of Stochastic Differential Equations which will be the main topic of the tutoring sessions and we will analyze it under many different point of views and methods. For this first lecture we will solve a trivial problem and we will try to simulate the trajectories \n",
    "to obtain than the steady state probability distribution. The steady state probability distribution will be of fundamental importance because it's the starting point of the whole qualitative analysis of Stochastic Dynamic Systems."
   ]
  },
  {
   "cell_type": "markdown",
   "id": "b2b19bad-0583-4ea8-afc8-00e6318337fb",
   "metadata": {},
   "source": [
    "**PROBLEM**: We want to model the classical problem of the perturbed logistic system. This system is characterize by the following Ito equation:\n",
    "\n",
    "$$\n",
    "dx=[rx-x^2]dt+axdW\n",
    "$$\n",
    "\n",
    "which is associated to the deterministic problem $x'=rx-x^2$ where $r\\rightarrow r+a\\xi(t)$."
   ]
  },
  {
   "cell_type": "markdown",
   "id": "67fd75fb-34ae-4918-9d0e-cefd8280d832",
   "metadata": {},
   "source": [
    "We can also compute the probability distribution for our problem solving the associated FP equation:\n",
    "\n",
    "$$\n",
    "P_s(x)=Ax^{\\frac{2r}{a^2}-2}e^{-\\frac{2x}{a^2}}\n",
    "$$\n",
    "\n",
    "However there could be some problems now: in fact this probability distribution to be defined needs to set a correct normalization constant $A$ however this can be computed only when $P_s$ is integrable and this happens when $2r/a^2>1$ however this does not mean that outside of this region the distribution has no sense but it's simply not possible to compute the integral to obtain $A$ so we will need to set it manually or compute it using other methods and tools."
   ]
  },
  {
   "cell_type": "markdown",
   "id": "4f4e2bf0-fefa-491b-b901-7b4081d21315",
   "metadata": {},
   "source": [
    "### Step 1"
   ]
  },
  {
   "cell_type": "markdown",
   "id": "9b1a8d83-ff09-4733-b141-8b07e4245975",
   "metadata": {},
   "source": [
    "Let's start to understand how to simulate the SDE. If it was a normal differential equation it would be quite an easy task: we can simply estimate the evolution using a FD methods such as the RK4. So our general idea is to implement a trajectory computation method that will use RK4 adding the stochastic contribution. About error the major issue will be to find a good random algorithm so we will use the **pcg**."
   ]
  },
  {
   "cell_type": "code",
   "execution_count": 2,
   "id": "353d1e57-8a29-4483-a197-7c30a62c6c87",
   "metadata": {},
   "outputs": [],
   "source": [
    "from numpy.random import Generator, PCG64"
   ]
  },
  {
   "cell_type": "markdown",
   "id": "f67365b9-e0b9-4df6-a3ac-5badcf99f431",
   "metadata": {},
   "source": [
    "**MEMO 1**: The RK4 method is a FD forward method of order $O(h^4)$ for the cumulative error (error on the last point). Given a DS with formula\n",
    "\n",
    "$$\n",
    "\\frac{dy}{dt}=f(t,y),\\qquad y(t_0)=y_0\n",
    "$$\n",
    "\n",
    "the iterative map that will give us the point of the trajectory is:\n",
    "\n",
    "$$\n",
    "y_{n+1}=y_{n}+\\frac{h}{6}(k_1+2k_2+2k_3+k_4)\n",
    "$$\n",
    "\n",
    "where\n",
    "\n",
    "$$\n",
    "k_1=f(t_n,y_n),\\qquad k_2=f\\left(t_n+\\frac{h}{2},y_n+h\\frac{k_1}{2}\\right),\\qquad k_3=f\\left(t_n+\\frac{h}{2},y_n+h\\frac{k_2}{2}\\right),\\qquad k_4=f(t_n+h,y_n+hk_3)\n",
    "$$"
   ]
  },
  {
   "cell_type": "markdown",
   "id": "8f293a37-442e-4e0c-a5ed-f1b92ee04198",
   "metadata": {},
   "source": [
    "**MEMO 2**: To simulate a white noise we can use the fact that $dW=G(t)\\sqrt{dt}$ where $G(t)$ is a normal random value. Simulating the two part of the equation with different methods is perfectly meaningful and possible (**adding method**) "
   ]
  },
  {
   "cell_type": "code",
   "execution_count": 3,
   "id": "e8c7e261-82ed-4d0f-a9c0-00324c43c7e8",
   "metadata": {},
   "outputs": [],
   "source": [
    "class PLS(object):\n",
    "    '''\n",
    "    This function will simulate trajectories for an initialize\n",
    "    perturbed logistic system\n",
    "    '''\n",
    "\n",
    "    #CONSTRUCTOR\n",
    "    def __init__(self,r: float,a: float)->None:\n",
    "        self.r = r\n",
    "        self.a = a\n",
    "        \n",
    "        #No check are needed because the system works for all the values but maybe \n",
    "        #for certain it's not meaningful\n",
    "        \n",
    "        return\n",
    "\n",
    "    def __checkInputs(self,x0: float,T: float,N: int)->None:\n",
    "        '''\n",
    "        Given the inputs for a trajectory, this method will\n",
    "        check if they are correct\n",
    "        '''\n",
    "        #x0 checks:\n",
    "        if x0<0:\n",
    "            raise RuntimeError(\"Initial population must be positive\")\n",
    "\n",
    "        #T checks:\n",
    "        if T<0:\n",
    "            raise RuntimeError(\"Time interval must have a positive lenght\")\n",
    "\n",
    "        #N checks:\n",
    "        if N<=1:\n",
    "            raise RuntimeError(\"The simulation must have at least two steps\")\n",
    "\n",
    "        return\n",
    "\n",
    "    def __RK4(self,t_n: float,y_n: float,h: float)->float:\n",
    "        '''\n",
    "        Given a point in the trajectory, the time instant and the step lenght,\n",
    "        this method will compute the variation for y using the RK4 for the \n",
    "        deterministic part of the PLS\n",
    "        '''\n",
    "        #Perform the check of the inputs. For N we hard code a good N\n",
    "        #because we want to recycle the function\n",
    "        self.__checkInputs(y_n,t_n,10)\n",
    "        if h<=0:\n",
    "            raise RuntimeError(\"Given h is negative or 0\")\n",
    "\n",
    "        f = lambda x: self.r*x-x*x\n",
    "        \n",
    "        k_1 = f(y_n)\n",
    "        k_2 = f(y_n+h*k_1/2)\n",
    "        k_3 = f(y_n+h*k_2/2)\n",
    "        k_4 = f(y_n+h*k_3)\n",
    "\n",
    "        return h*(k_1+2*k_2+2*k_3+k_4)/6\n",
    "        \n",
    "        \n",
    "    \n",
    "    def simulateTraj(self,x0: float,T: float,N: int):\n",
    "        '''\n",
    "        Given the initial population value x0, the considered interval lenght T\n",
    "        and the number of step in the computation N, this method will return a\n",
    "        trajectory for the PLS.\n",
    "        '''\n",
    "        #Check the inputs\n",
    "        self.__checkInputs(x0,T,N)\n",
    "\n",
    "        if T==0:\n",
    "            return np.array([x0])\n",
    "\n",
    "        #Setup step lenght and traj array\n",
    "        h = T/N\n",
    "        traj = np.zeros(N+1,dtype=float)\n",
    "        traj[0] = x0\n",
    "        time = np.zeros(N+1,dtype=float)\n",
    "        time[0] = 0.0\n",
    "\n",
    "        #Setup random generator\n",
    "        rng = Generator(PCG64())\n",
    "\n",
    "        for i in range(1,N+1):\n",
    "            time[i] = i*h\n",
    "            dx = self.__RK4(time[i-1],traj[i-1],h) #determinstic part\n",
    "            dx += self.a*traj[i-1]*rng.normal()*np.sqrt(h) #noise part\n",
    "            traj[i] = traj[i-1] + dx\n",
    "\n",
    "        return traj,time"
   ]
  },
  {
   "cell_type": "code",
   "execution_count": 4,
   "id": "7bc1169e-13d3-4649-ac1f-cba2d53d8fc5",
   "metadata": {},
   "outputs": [
    {
     "name": "stdout",
     "output_type": "stream",
     "text": [
      "[ 1.          1.37459361  1.61984182  1.68714844  2.23987942  3.17915395\n",
      "  3.48089847  3.58009235  5.17867235  6.21713006  6.87375992  8.88902409\n",
      " 12.00840124  9.63848417 13.05309286 14.2174714  10.91313385 13.21681804\n",
      " 12.43730188 14.71777369 12.52652282 10.67748654 10.84227243 13.41769364\n",
      " 12.18714952  9.34193372 11.60374895 16.37468106 12.63503193 11.96535764\n",
      " 11.22011605 12.29467479 17.46482117 14.58865335 17.31457763 19.95182359\n",
      " 20.84827064 16.38230844 13.4386486  12.9434764  16.45076935 15.44814624\n",
      " 16.04256045 18.37121237 23.81917976 23.99218245 25.89747263 22.58159288\n",
      " 19.10412078 19.56994263 15.44352444 15.29118937 16.58368241 15.8998754\n",
      " 17.69253015 14.76754477 13.76191896 12.51228925 14.76847171 14.99217041\n",
      " 14.46822596 14.67002015 10.83256606 12.40014585 12.6493731  15.51386568\n",
      " 15.2989326  14.32811368 15.45341306 15.46566244 18.44154613 18.76764051\n",
      " 19.41145448 13.13692537 10.62220471 10.67211137 11.3130915  13.46775923\n",
      " 11.56133348 13.5192717  17.00606224 17.21204666 20.9028845  23.86226235\n",
      " 26.2188736  16.83495035 13.78917079 12.20623128 13.13774034 13.69154047\n",
      " 13.37237554 14.38230766 12.93181988 14.03656296 11.66763663 12.90396886\n",
      "  9.33870297  8.22255157  9.18603024  9.90622361  9.04431456  9.97450782\n",
      " 13.15551797 13.03948048 11.839323   12.38420029 14.64108396 12.50175681\n",
      " 14.2858555  16.77414574 15.48303168 13.44512616 16.74516848 18.7313738\n",
      " 19.38429301 17.6351995  13.4009985  12.62172496 11.94613921 13.45201728\n",
      " 14.49298852 14.65846662 15.00747313 14.13521335 12.73426702 11.07779724\n",
      " 12.40122993 11.48445298 12.3943152  13.37000743 15.02590496 17.5433084\n",
      " 15.5571914  15.90836507 17.59058878 16.33530505 17.10706634 13.59723619\n",
      " 11.39439119 12.86312138 14.35757341 13.22791647 14.08899624 15.52206615\n",
      " 15.68088475 13.27365044 14.03972968 14.22565655 14.36058987 16.48492865\n",
      " 15.06795912 14.79098746 15.60918073 16.09934293 15.8268784  13.27438295\n",
      " 13.48160948 16.44113738 17.14202034 18.18408796 19.21677156 21.30856375\n",
      " 20.13905016 20.78086718 12.99548106 15.23989793 16.42567807 17.65574083\n",
      " 20.91207791 19.39118241 19.83623243 19.15722458 17.09482137 16.33041886\n",
      " 15.40545664 13.6499566  15.75279213 14.1456058  14.70009153 15.59423634\n",
      " 16.11903367 14.19938472 14.56874229 17.84614268 13.12376932 17.29083478\n",
      " 15.231037   18.07894442 20.79615117 15.94609828 16.06243188 16.57359992\n",
      " 15.64061794 15.7114606  13.74397431 13.86454171 14.31065206 14.84278383\n",
      " 12.47244534 14.3848672  17.70524067 11.05818416 11.78419132 10.79948308\n",
      " 12.92515106 15.68469398 17.4684186  18.49405851 17.9479298  16.15499543\n",
      " 16.81268112 15.44394578 13.26414614 14.09324682 15.58128203 10.49674791\n",
      " 11.70980448 13.20897512 16.19196164 19.04010721 21.48644354 20.62198674\n",
      " 19.50032798 20.33194875 20.290166   19.12185488 20.58333686 19.58473584\n",
      " 17.991853   15.84327459 16.30305638 18.12761325 15.8244645  14.37303662\n",
      " 13.82403489 14.12661604 17.23384501 14.13803356 17.06057044 16.02416102\n",
      " 19.55012791 17.77118805 15.12944241  9.05154704 10.99943397  7.62786214\n",
      "  8.71317784  7.73159942  9.86630833 10.13154541 10.44834965 11.16968364\n",
      " 12.53030885 13.83248805 15.13025286 20.2199768  15.79299052 17.70730054\n",
      " 16.38395553 21.5013114  17.40223844 16.59557369 16.56591703 14.5937958\n",
      " 14.71469934 14.47155916 13.57350712 16.12701558 11.55297082 13.43705268\n",
      " 17.84089231 13.56725178 16.39648948 17.01753906 19.62502397 15.08425186\n",
      " 16.76923599 15.6248162  14.65259387 20.28414995 18.59287125 20.27696289\n",
      " 15.77755395 19.81995386 19.75069715 14.71629884 16.21346015 12.46694901\n",
      " 13.60169433 16.25987478 13.28113068 11.33184129 13.12423798 10.9704932\n",
      " 10.66483961 12.81333598 12.32496457 17.26280276 12.09652229 13.69976816\n",
      " 13.3114143  13.2889714  14.01121259 16.33537013 18.57901756 21.34843849\n",
      " 19.03427521 20.91238795 19.63160033 19.81831869 11.03960933  9.4005414\n",
      " 12.023075   14.50618185  6.82330887  8.2614159  10.4593584  10.57784082\n",
      "  9.9697088  11.80659954 12.94685268 13.91234211 10.43320899  9.90476077\n",
      " 14.10838683 13.1830046  12.36674488 13.55291699  9.62321285 10.32668334\n",
      " 14.29606599 16.84894188 18.73760061 18.56674521 18.32572876 16.91057114\n",
      " 15.4049705  10.64283073 12.2601699  12.56738179 10.84603947 14.17416388\n",
      " 12.26490886 14.24129706 17.34116951 17.65122487 15.39411398 13.2684259\n",
      " 13.44097547 15.09473855 15.66679737 11.51694962  9.84135431  8.96471043\n",
      " 11.922961   14.33363238 16.24732365 16.28585911 15.81671407 13.05046609\n",
      " 13.73025933 12.37670743 13.05543852 14.66953412 12.82041035 15.12958991\n",
      " 18.83181414 14.88861543 16.50941623 18.692368   14.96283334 15.56180896\n",
      " 12.82951964 10.02882689 10.64474067  8.31432969 10.44855197 13.82163239\n",
      " 13.23658674 17.4279914  16.27150252 18.8977931  19.64665146 19.36985556\n",
      " 13.16690259 15.0107732  17.1220222  18.28924439 17.67247316 12.12409868\n",
      " 10.38259797 12.58394667 10.14774346 11.11432708 13.01711947 12.97612045\n",
      " 15.16112452 15.01920188 15.92109709 16.76599491 15.07349265 16.37247873\n",
      " 15.93361666 14.73895186 18.56087455 16.38704363 18.96139731 15.65726572\n",
      " 19.31650369 17.01773752 20.30085534 17.87752763 15.03852074 15.06442256\n",
      " 15.05364335 13.655856   14.03020881 14.8137213  13.98430036 15.76079028\n",
      " 17.35567843 13.02770129 15.80667665 16.97947163 14.58381814 10.45202549\n",
      " 12.53978549 10.03194238 11.34138898 13.04520017 10.44340473 11.10020161\n",
      " 13.37762504 13.57282514 13.4052503  13.26548177 14.73806037 13.92458308\n",
      " 15.19195697 14.71610292 15.39105204 13.96975235 14.37732192 15.18222694\n",
      " 11.52001266 11.87834193 13.09194947 12.55481377 11.52426186 10.34071149\n",
      "  9.26750708 11.37983315 13.32446691 13.40551888 14.58349072 16.12025253\n",
      " 14.80522262 14.65907773 13.48201996 16.45476207 14.84543901 16.06431316\n",
      " 18.35792278 15.3318232  15.669159   13.44699259 13.58716368 16.0987561\n",
      " 16.21099806 14.94468551 15.36473632 15.29247949 14.11407324 14.45179148\n",
      " 15.38086092 16.07033367 17.00569744 16.81018603 17.52270865 14.42907172\n",
      " 14.04593987 16.32486073 16.47549071 12.51812094 10.78644467 11.68359411\n",
      " 11.36331218 12.49105157 16.13106614 14.61624243 15.8588319  12.47603531\n",
      " 12.01491955 11.58452044 12.67716305 13.83541291 14.39260638 15.288779\n",
      " 16.14196633 17.24235199 16.76239946]\n"
     ]
    }
   ],
   "source": [
    "system = PLS(15,1)\n",
    "\n",
    "tr1, time1 = system.simulateTraj(1,10,500)\n",
    "print(tr1)"
   ]
  },
  {
   "cell_type": "code",
   "execution_count": 5,
   "id": "f674b3bf-b085-494c-befe-70f40cb02148",
   "metadata": {},
   "outputs": [
    {
     "data": {
      "text/plain": [
       "[<matplotlib.lines.Line2D at 0x22bc59ce570>]"
      ]
     },
     "execution_count": 5,
     "metadata": {},
     "output_type": "execute_result"
    },
    {
     "data": {
      "image/png": "[encoded data removed]",
      "text/plain": [
       "<Figure size 640x480 with 1 Axes>"
      ]
     },
     "metadata": {},
     "output_type": "display_data"
    }
   ],
   "source": [
    "plt.plot(time1,tr1)"
   ]
  },
  {
   "cell_type": "markdown",
   "id": "74dfa8b0-df49-4d9c-8a7a-25e349c57319",
   "metadata": {},
   "source": [
    "### Step 2"
   ]
  },
  {
   "cell_type": "markdown",
   "id": "385058bf-10da-4caa-a372-98619da4bec8",
   "metadata": {},
   "source": [
    "Now we are able to study the steady state probability distribution. It's quite simple: we will consider an uniform probability distribution for the starting $x_0$ and generated a certain number of simulations we will collect the final value in bins. This will need some work due to the potentially unlimited domain so we will need to do some progressive corrections"
   ]
  },
  {
   "cell_type": "code",
   "execution_count": 6,
   "id": "4668bfde-32c5-4f83-90a6-3ead9492f009",
   "metadata": {},
   "outputs": [],
   "source": [
    "#It will require some computational time...\n",
    "\n",
    "omega = [5,30] #0,100\n",
    "Nbins = 250 #100\n",
    "Nsim = 10000 #10000\n",
    "k = (omega[1]-omega[0])/Nbins\n",
    "system = PLS(15,1)\n",
    "\n",
    "rng_0 = Generator(PCG64())\n",
    "\n",
    "bins = np.zeros(Nbins,dtype=float)\n",
    "\n",
    "for _ in range(Nsim):\n",
    "    ptraj,ttraj = system.simulateTraj(rng_0.uniform(low=omega[0],high=omega[1]),5,1000)\n",
    "    for i in range(Nbins):\n",
    "        if ptraj[-1] < (k*(i+1)+omega[0]):\n",
    "            bins[i] += 1.0\n",
    "            break\n",
    "\n",
    "bins = bins/(Nsim*k)"
   ]
  },
  {
   "cell_type": "code",
   "execution_count": 7,
   "id": "e1de989a-8d62-44d0-824d-f4a082c8e68d",
   "metadata": {},
   "outputs": [
    {
     "name": "stdout",
     "output_type": "stream",
     "text": [
      "[0.    0.    0.    0.    0.    0.    0.    0.    0.    0.    0.    0.\n",
      " 0.001 0.    0.001 0.001 0.    0.    0.001 0.    0.001 0.    0.003 0.004\n",
      " 0.001 0.003 0.003 0.005 0.008 0.006 0.005 0.007 0.005 0.007 0.012 0.01\n",
      " 0.009 0.012 0.015 0.014 0.019 0.017 0.019 0.018 0.031 0.03  0.029 0.036\n",
      " 0.036 0.035 0.043 0.034 0.045 0.057 0.05  0.057 0.062 0.069 0.057 0.089\n",
      " 0.079 0.072 0.082 0.087 0.086 0.101 0.113 0.098 0.136 0.103 0.111 0.088\n",
      " 0.108 0.124 0.109 0.13  0.143 0.137 0.137 0.144 0.135 0.135 0.137 0.15\n",
      " 0.161 0.131 0.161 0.133 0.126 0.127 0.145 0.149 0.153 0.155 0.159 0.146\n",
      " 0.121 0.146 0.112 0.114 0.127 0.137 0.153 0.121 0.122 0.124 0.12  0.122\n",
      " 0.135 0.123 0.102 0.119 0.1   0.105 0.108 0.105 0.091 0.095 0.087 0.076\n",
      " 0.089 0.075 0.074 0.081 0.071 0.07  0.07  0.053 0.058 0.072 0.052 0.041\n",
      " 0.049 0.048 0.049 0.054 0.055 0.038 0.041 0.05  0.029 0.04  0.03  0.019\n",
      " 0.027 0.022 0.03  0.022 0.019 0.016 0.023 0.017 0.013 0.023 0.02  0.013\n",
      " 0.013 0.013 0.015 0.012 0.014 0.012 0.009 0.006 0.007 0.007 0.012 0.005\n",
      " 0.007 0.005 0.007 0.003 0.005 0.003 0.007 0.005 0.002 0.003 0.002 0.003\n",
      " 0.002 0.001 0.003 0.005 0.004 0.002 0.002 0.002 0.002 0.002 0.003 0.004\n",
      " 0.    0.    0.    0.    0.001 0.001 0.001 0.    0.001 0.001 0.002 0.\n",
      " 0.    0.    0.    0.001 0.001 0.    0.    0.001 0.    0.    0.    0.\n",
      " 0.001 0.    0.    0.001 0.    0.    0.    0.    0.    0.001 0.    0.001\n",
      " 0.    0.    0.    0.    0.    0.    0.    0.    0.    0.001 0.    0.\n",
      " 0.    0.    0.    0.    0.    0.    0.    0.    0.    0.   ]\n",
      "10.0\n"
     ]
    }
   ],
   "source": [
    "print(bins)\n",
    "print(np.sum(bins))"
   ]
  },
  {
   "cell_type": "code",
   "execution_count": 8,
   "id": "077a5d42-875d-4d18-b149-2f9ddc655649",
   "metadata": {},
   "outputs": [
    {
     "data": {
      "text/plain": [
       "<BarContainer object of 250 artists>"
      ]
     },
     "execution_count": 8,
     "metadata": {},
     "output_type": "execute_result"
    },
    {
     "data": {
      "image/png": "[encoded data removed]",
      "text/plain": [
       "<Figure size 640x480 with 1 Axes>"
      ]
     },
     "metadata": {},
     "output_type": "display_data"
    }
   ],
   "source": [
    "x = np.linspace(omega[0],omega[1],Nbins)\n",
    "\n",
    "plt.xlabel(\"x\")\n",
    "\n",
    "plt.bar(x,bins)"
   ]
  },
  {
   "cell_type": "markdown",
   "id": "eac180ba-8dd4-4f93-9709-dfa6b63debc4",
   "metadata": {},
   "source": [
    "### Step 3"
   ]
  },
  {
   "cell_type": "code",
   "execution_count": 9,
   "id": "17811733-2a6a-4841-a792-d1836fd87b02",
   "metadata": {},
   "outputs": [],
   "source": [
    "A = 5.678987961480652177734375*10.0**(20)"
   ]
  },
  {
   "cell_type": "code",
   "execution_count": 10,
   "id": "41f5fd42-44ab-44c4-9035-7548fa25dd2c",
   "metadata": {},
   "outputs": [],
   "source": [
    "P = lambda x: np.power(x,28)*np.exp(-2*x)/A"
   ]
  },
  {
   "cell_type": "code",
   "execution_count": 11,
   "id": "6dcf26a3-fba0-4112-ad45-8a80026f07b4",
   "metadata": {},
   "outputs": [
    {
     "name": "stdout",
     "output_type": "stream",
     "text": [
      "[2.97813482e-06 4.25107702e-06 6.00261619e-06 8.38782587e-06\n",
      " 1.16036753e-05 1.58978999e-05 2.15791316e-05 2.90283310e-05\n",
      " 3.87115370e-05 5.11939148e-05 6.71550437e-05 8.74053420e-05\n",
      " 1.12903481e-04 1.44774584e-04 1.84328963e-04 2.33081075e-04\n",
      " 2.92768361e-04 3.65369543e-04 4.53121943e-04 5.58537336e-04\n",
      " 6.84415828e-04 8.33857231e-04 1.01026939e-03 1.21737296e-03\n",
      " 1.45920206e-03 1.74010043e-03 2.06471259e-03 2.43796957e-03\n",
      " 2.86506915e-03 3.35145008e-03 3.90276046e-03 4.52482006e-03\n",
      " 5.22357683e-03 6.00505772e-03 6.87531421e-03 7.84036290e-03\n",
      " 8.90612188e-03 1.00783434e-02 1.13625437e-02 1.27639306e-02\n",
      " 1.42873305e-02 1.59371146e-02 1.77171264e-02 1.96306110e-02\n",
      " 2.16801474e-02 2.38675848e-02 2.61939839e-02 2.86595640e-02\n",
      " 3.12636573e-02 3.40046703e-02 3.68800540e-02 3.98862828e-02\n",
      " 4.30188426e-02 4.62722291e-02 4.96399553e-02 5.31145700e-02\n",
      " 5.66876853e-02 6.03500142e-02 6.40914177e-02 6.79009604e-02\n",
      " 7.17669753e-02 7.56771352e-02 7.96185318e-02 8.35777601e-02\n",
      " 8.75410090e-02 9.14941547e-02 9.54228578e-02 9.93126628e-02\n",
      " 1.03149098e-01 1.06917775e-01 1.10604489e-01 1.14195313e-01\n",
      " 1.17676696e-01 1.21035546e-01 1.24259325e-01 1.27336116e-01\n",
      " 1.30254709e-01 1.33004659e-01 1.35576349e-01 1.37961042e-01\n",
      " 1.40150923e-01 1.42139138e-01 1.43919820e-01 1.45488107e-01\n",
      " 1.46840157e-01 1.47973150e-01 1.48885282e-01 1.49575757e-01\n",
      " 1.50044765e-01 1.50293459e-01 1.50323923e-01 1.50139135e-01\n",
      " 1.49742924e-01 1.49139927e-01 1.48335535e-01 1.47335838e-01\n",
      " 1.46147573e-01 1.44778064e-01 1.43235160e-01 1.41527172e-01\n",
      " 1.39662819e-01 1.37651156e-01 1.35501523e-01 1.33223477e-01\n",
      " 1.30826738e-01 1.28321128e-01 1.25716522e-01 1.23022790e-01\n",
      " 1.20249749e-01 1.17407118e-01 1.14504474e-01 1.11551206e-01\n",
      " 1.08556488e-01 1.05529235e-01 1.02478079e-01 9.94113393e-02\n",
      " 9.63370017e-02 9.32626949e-02 9.01956762e-02 8.71428167e-02\n",
      " 8.41105916e-02 8.11050718e-02 7.81319194e-02 7.51963860e-02\n",
      " 7.23033121e-02 6.94571307e-02 6.66618711e-02 6.39211663e-02\n",
      " 6.12382610e-02 5.86160220e-02 5.60569490e-02 5.35631875e-02\n",
      " 5.11365428e-02 4.87784939e-02 4.64902089e-02 4.42725611e-02\n",
      " 4.21261448e-02 4.00512921e-02 3.80480894e-02 3.61163940e-02\n",
      " 3.42558512e-02 3.24659099e-02 3.07458399e-02 2.90947468e-02\n",
      " 2.75115883e-02 2.59951885e-02 2.45442532e-02 2.31573831e-02\n",
      " 2.18330878e-02 2.05697983e-02 1.93658789e-02 1.82196392e-02\n",
      " 1.71293444e-02 1.60932256e-02 1.51094893e-02 1.41763260e-02\n",
      " 1.32919186e-02 1.24544495e-02 1.16621079e-02 1.09130956e-02\n",
      " 1.02056328e-02 9.53796329e-03 8.90835874e-03 8.31512286e-03\n",
      " 7.75659482e-03 7.23115234e-03 6.73721422e-03 6.27324256e-03\n",
      " 5.83774451e-03 5.42927375e-03 5.04643152e-03 4.68786746e-03\n",
      " 4.35228006e-03 4.03841697e-03 3.74507492e-03 3.47109959e-03\n",
      " 3.21538519e-03 2.97687386e-03 2.75455503e-03 2.54746447e-03\n",
      " 2.35468343e-03 2.17533748e-03 2.00859546e-03 1.85366816e-03\n",
      " 1.70980714e-03 1.57630336e-03 1.45248582e-03 1.33772024e-03\n",
      " 1.23140761e-03 1.13298283e-03 1.04191329e-03 9.57697507e-04\n",
      " 8.79863739e-04 8.07968627e-04 7.41595864e-04 6.80354893e-04\n",
      " 6.23879633e-04 5.71827228e-04 5.23876854e-04 4.79728538e-04\n",
      " 4.39102037e-04 4.01735742e-04 3.67385631e-04 3.35824260e-04\n",
      " 3.06839797e-04 2.80235097e-04 2.55826812e-04 2.33444556e-04\n",
      " 2.12930094e-04 1.94136578e-04 1.76927823e-04 1.61177619e-04\n",
      " 1.46769074e-04 1.33593999e-04 1.21552325e-04 1.10551554e-04\n",
      " 1.00506236e-04 9.13374835e-05 8.29725128e-05 7.53442099e-05\n",
      " 6.83907274e-05 6.20551038e-05 5.62849087e-05 5.10319095e-05\n",
      " 4.62517608e-05 4.19037135e-05 3.79503444e-05 3.43573029e-05\n",
      " 3.10930764e-05 2.81287706e-05 2.54379064e-05 2.29962303e-05\n",
      " 2.07815392e-05 1.87735171e-05 1.69535840e-05 1.53047565e-05\n",
      " 1.38115176e-05 1.24596977e-05 1.12363633e-05 1.01297149e-05\n",
      " 9.12899311e-06 8.22439085e-06 7.40697373e-06 6.66860590e-06\n",
      " 6.00188209e-06 5.40006501e-06 4.85702786e-06 4.36720141e-06\n",
      " 3.92552552e-06 3.52740454e-06]\n"
     ]
    }
   ],
   "source": [
    "prob_dist = P(x)\n",
    "print(prob_dist)"
   ]
  },
  {
   "cell_type": "code",
   "execution_count": 12,
   "id": "ba5d83ca-9d51-44d9-bf24-b2f048f74d39",
   "metadata": {},
   "outputs": [
    {
     "data": {
      "text/plain": [
       "[<matplotlib.lines.Line2D at 0x22bc7436f00>]"
      ]
     },
     "execution_count": 12,
     "metadata": {},
     "output_type": "execute_result"
    },
    {
     "data": {
      "image/png": "[encoded data removed]",
      "text/plain": [
       "<Figure size 640x480 with 1 Axes>"
      ]
     },
     "metadata": {},
     "output_type": "display_data"
    }
   ],
   "source": [
    "plt.xlabel(\"x\")\n",
    "\n",
    "plt.bar(x,bins)\n",
    "plt.plot(x,prob_dist,color='r')"
   ]
  },
  {
   "cell_type": "code",
   "execution_count": null,
   "id": "46877c45-c657-449c-992a-23f50b932ff0",
   "metadata": {},
   "outputs": [],
   "source": []
  }
 ],
 "metadata": {
  "kernelspec": {
   "display_name": "Python 3 (ipykernel)",
   "language": "python",
   "name": "python3"
  },
  "language_info": {
   "codemirror_mode": {
    "name": "ipython",
    "version": 3
   },
   "file_extension": ".py",
   "mimetype": "text/x-python",
   "name": "python",
   "nbconvert_exporter": "python",
   "pygments_lexer": "ipython3",
   "version": "3.12.2"
  }
 },
 "nbformat": 4,
 "nbformat_minor": 5
}
