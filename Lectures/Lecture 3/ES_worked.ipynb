{
 "cells": [
  {
   "cell_type": "code",
   "execution_count": 1,
   "id": "2d99335e-5b87-408f-bbe6-d69efeb71fb7",
   "metadata": {},
   "outputs": [],
   "source": [
    "import numpy as np\n",
    "import matplotlib.pyplot as plt\n",
    "import time\n",
    "import random"
   ]
  },
  {
   "cell_type": "markdown",
   "id": "bf37d854-2b25-4035-99a7-6948f59980c7",
   "metadata": {},
   "source": [
    "## Introductory Exercise"
   ]
  },
  {
   "cell_type": "markdown",
   "id": "0efb3f8a-0eb2-4403-88a9-7bfc36932838",
   "metadata": {},
   "source": [
    "With this lecture we will start to explore the topic of the simulations of Stochastic Differential Equations which will be the main topic of the tutoring sessions and we will analyze it under many different point of views and methods. For this first lecture we will solve a trivial problem and we will try to simulate the trajectories \n",
    "to obtain than the steady state probability distribution. The steady state probability distribution will be of fundamental importance because it's the starting point of the whole qualitative analysis of Stochastic Dynamic Systems."
   ]
  },
  {
   "cell_type": "markdown",
   "id": "b2b19bad-0583-4ea8-afc8-00e6318337fb",
   "metadata": {},
   "source": [
    "**PROBLEM**: We want to model the classical problem of the perturbed logistic system. This system is characterize by the following Ito equation:\n",
    "\n",
    "$$\n",
    "dx=[rx-x^2]dt+axdW\n",
    "$$\n",
    "\n",
    "which is associated to the deterministic problem $x'=rx-x^2$ where $r\\rightarrow r+a\\xi(t)$."
   ]
  },
  {
   "cell_type": "markdown",
   "id": "67fd75fb-34ae-4918-9d0e-cefd8280d832",
   "metadata": {},
   "source": [
    "We can also compute the probability distribution for our problem solving the associated FP equation:\n",
    "\n",
    "$$\n",
    "P_s(x)=Ax^{\\frac{2r}{a^2}-2}e^{-\\frac{2x}{a^2}}\n",
    "$$\n",
    "\n",
    "However there could be some problems now: in fact this probability distribution to be defined needs to set a correct normalization constant $A$ however this can be computed only when $P_s$ is integrable and this happens when $2r/a^2>1$ however this does not mean that outside of this region the distribution has no sense but it's simply not possible to compute the integral to obtain $A$ so we will need to set it manually or compute it using other methods and tools."
   ]
  },
  {
   "cell_type": "markdown",
   "id": "4f4e2bf0-fefa-491b-b901-7b4081d21315",
   "metadata": {},
   "source": [
    "### Step 1"
   ]
  },
  {
   "cell_type": "markdown",
   "id": "9b1a8d83-ff09-4733-b141-8b07e4245975",
   "metadata": {},
   "source": [
    "Let's start to understand how to simulate the SDE. If it was a normal differential equation it would be quite an easy task: we can simply estimate the evolution using a FD methods such as the RK4. So our general idea is to implement a trajectory computation method that will use RK4 adding the stochastic contribution. About error the major issue will be to find a good random algorithm so we will use the **pcg**."
   ]
  },
  {
   "cell_type": "code",
   "execution_count": 2,
   "id": "353d1e57-8a29-4483-a197-7c30a62c6c87",
   "metadata": {},
   "outputs": [],
   "source": [
    "from numpy.random import Generator, PCG64"
   ]
  },
  {
   "cell_type": "markdown",
   "id": "f67365b9-e0b9-4df6-a3ac-5badcf99f431",
   "metadata": {},
   "source": [
    "**MEMO 1**: The RK4 method is a FD forward method of order $O(h^4)$ for the cumulative error (error on the last point). Given an DS with formula\n",
    "\n",
    "$$\n",
    "\\frac{dy}{dt}=f(t,y),\\qquad y(t_0)=y_0\n",
    "$$\n",
    "\n",
    "the iterative map that will give us the point of the trajectory is:\n",
    "\n",
    "$$\n",
    "y_{n+1}=y_{n}+\\frac{h}{6}(k_1+2k_2+2k_3+k_4)\n",
    "$$\n",
    "\n",
    "where\n",
    "\n",
    "$$\n",
    "k_1=f(t_n,y_n),\\qquad k_2=f\\left(t_n+\\frac{h}{2},y_n+h\\frac{k_1}{2}\\right),\\qquad k_3=f\\left(t_n+\\frac{h}{2},y_n+h\\frac{k_2}{2}\\right),\\qquad k_4=f(t_n+h,y_n+hk_3)\n",
    "$$"
   ]
  },
  {
   "cell_type": "markdown",
   "id": "8f293a37-442e-4e0c-a5ed-f1b92ee04198",
   "metadata": {},
   "source": [
    "**MEMO 2**: To simulate a white noise we can use the fact that $dW=G(t)\\sqrt{dt}$ where $G(t)$ is a normal random value"
   ]
  },
  {
   "cell_type": "code",
   "execution_count": 3,
   "id": "e8c7e261-82ed-4d0f-a9c0-00324c43c7e8",
   "metadata": {},
   "outputs": [],
   "source": [
    "class PLS(object):\n",
    "    '''\n",
    "    This function will simulate trajectories for an initialize\n",
    "    perturbed logistic system\n",
    "    '''\n",
    "\n",
    "    #CONSTRUCTOR\n",
    "    def __init__(self,r: float,a: float)->None:\n",
    "        self.r = r\n",
    "        self.a = a\n",
    "        \n",
    "        #No check are needed because the system works for all the values but maybe \n",
    "        #for certain it's not meaningful\n",
    "        \n",
    "        return\n",
    "\n",
    "    def __checkInputs(self,x0: float,T: float,N: int)->None:\n",
    "        '''\n",
    "        Given the inputs for a trajectory, this method will\n",
    "        check if they are correct\n",
    "        '''\n",
    "        #x0 checks:\n",
    "        if x0<0:\n",
    "            raise RuntimeError(\"Initial population must be positive\")\n",
    "\n",
    "        #T checks:\n",
    "        if T<0:\n",
    "            raise RuntimeError(\"Time interval must have a positive lenght\")\n",
    "\n",
    "        #N checks:\n",
    "        if N<=1:\n",
    "            raise RuntimeError(\"The simulation must have at least two steps\")\n",
    "\n",
    "        return\n",
    "\n",
    "    def __RK4(self,t_n: float,y_n: float,h: float)->float:\n",
    "        '''\n",
    "        Given a point in the trajectory, the time instant and the step lenght,\n",
    "        this method will compute the variation for y using the RK4 for the \n",
    "        deterministic part of the PLS\n",
    "        '''\n",
    "        #Perform the check of the inputs. For N we hard code a good N.\n",
    "        self.__checkInputs(y_n,t_n,10)\n",
    "        if h<=0:\n",
    "            raise RuntimeError(\"Given h is negative or 0\")\n",
    "\n",
    "        f = lambda x: self.r*x-x*x\n",
    "        \n",
    "        k_1 = f(y_n)\n",
    "        k_2 = f(y_n+h*k_1/2)\n",
    "        k_3 = f(y_n+h*k_2/2)\n",
    "        k_4 = f(y_n+h*k_3)\n",
    "\n",
    "        return h*(k_1+2*k_2+2*k_3+k_4)/6\n",
    "        \n",
    "        \n",
    "    \n",
    "    def simulateTraj(self,x0: float,T: float,N: int):\n",
    "        '''\n",
    "        Given the initial population value x0, the considered interval lenght T\n",
    "        and the number of step in the computation N, this method will return a\n",
    "        trajectory for the PLS.\n",
    "        '''\n",
    "        #Check the inputs\n",
    "        self.__checkInputs(x0,T,N)\n",
    "\n",
    "        if T==0:\n",
    "            return np.array([x0])\n",
    "\n",
    "        #Setup step lenght and traj array\n",
    "        h = T/N\n",
    "        traj = np.zeros(N+1,dtype=float)\n",
    "        traj[0] = x0\n",
    "        time = np.zeros(N+1,dtype=float)\n",
    "        time[0] = 0.0\n",
    "\n",
    "        #Setup random generator\n",
    "        rng = Generator(PCG64())\n",
    "\n",
    "        for i in range(1,N+1):\n",
    "            time[i] = i*h\n",
    "            dx = self.__RK4(time[i-1],traj[i-1],h) #determinstic part\n",
    "            dx += self.a*traj[i-1]*rng.normal()*np.sqrt(h) #noise part\n",
    "            traj[i] = traj[i-1] + dx\n",
    "\n",
    "        return traj,time"
   ]
  },
  {
   "cell_type": "code",
   "execution_count": 4,
   "id": "7bc1169e-13d3-4649-ac1f-cba2d53d8fc5",
   "metadata": {},
   "outputs": [
    {
     "name": "stdout",
     "output_type": "stream",
     "text": [
      "[ 1.          1.31988791  1.92400614  2.78751995  3.91173936  4.1320548\n",
      "  5.02103419  5.89616712  6.85400414  8.3105641   7.97249011  7.86271393\n",
      " 10.02260553 10.884394   12.37843728 12.46584946 10.73403566 12.88785778\n",
      " 11.61670499 10.57473829 12.87547143 12.59194408 13.49169402 12.61625595\n",
      " 16.18643258 14.04154006 13.54828873 15.18455511 16.39178503 18.77121042\n",
      " 22.07797599 20.60821847 21.44649069 25.11461206 19.48469773 21.59842844\n",
      " 17.41430278 13.96650704 15.28577203 19.04526517 18.48310191 18.42573198\n",
      " 16.37160737 16.3225632  19.22961518 17.27808649 19.51028386 20.63155377\n",
      " 19.60451578 14.73798104 16.53205131 10.0335761  10.1873704  10.29136524\n",
      " 10.82646526 10.48045126 10.05353423 11.65427654 11.93530617 13.50884962\n",
      " 14.67213291 16.09034312 17.82078088 16.93363407 16.07625857 16.63105621\n",
      " 13.09563946 14.3622167  13.6745757  15.17539831 14.05492155 14.94943687\n",
      " 13.00928295 14.01817332 15.58750736 11.75813878 11.75179641 11.4942356\n",
      " 12.03667272 10.24774137 12.1323482  11.54832541 14.12357724 18.60879537\n",
      " 15.03815133 14.43041992 14.35295513 13.49655607 12.00127538 10.56137343\n",
      " 12.51784237 11.694      11.47623958 12.41190741 13.46228416 15.7051945\n",
      " 20.62427316 20.72440157 24.61793956 22.67284447 24.19575033 21.16799703\n",
      " 20.449633   14.54098496 18.90298773 16.29928171 15.41537351 15.36725858\n",
      " 15.244616   16.3081228  13.62541488 16.23142286 12.95199062 16.46106935\n",
      " 17.40701651 19.24511727 13.35500869 14.72314258 12.49380043 15.77234731\n",
      " 16.02285282 12.39264894 13.50114054 14.88299913 15.13220353 14.54529041\n",
      " 12.85705152 16.00737117 16.12937002 14.16468156 13.73210226 16.41916252\n",
      " 17.98324888 16.60127728 18.37276139 18.21517157 18.21979342 17.01757306\n",
      " 17.67452888 16.84890025 14.93396098 12.01559246 14.0427434  14.77345749\n",
      " 16.76246368 18.4280505  22.48535888 20.94181727 16.2001321  16.3065082\n",
      " 16.48539585 18.55033007 20.25373531 16.46459201 17.90673885 17.1273878\n",
      " 19.59847817 11.89120761 13.29429622 14.2065969  12.24856373 10.1255723\n",
      "  8.97863561  7.88163301 10.44728587  9.05729651  9.84793955 10.27304186\n",
      "  9.81289538 10.17407179  8.18522719  8.39682386 11.73659798 13.9663067\n",
      " 14.72875851 14.99520411 14.14507798 15.07354381 15.27040828 15.11990258\n",
      " 10.2690836   9.73930035  9.67560768 12.91944364 11.04623838  9.65831599\n",
      " 11.65232847 11.00922998 12.81906275 15.40883474 14.41938921 18.99767366\n",
      " 14.00992965 11.77721128 14.94605101 17.07703857 13.53495625 11.88364994\n",
      " 15.71977837 15.67568511 17.15031852 18.62157192 15.41909717 20.85299867\n",
      " 18.7735712  17.06868417 17.25933206 18.94232082 15.30037399 15.68333766\n",
      " 13.20642567 14.01472326 17.45568421 17.92774431 13.19692436 14.26208801\n",
      " 15.27135767 13.6335438  11.30886869 15.30151352 17.28041215 18.71877768\n",
      " 16.63374585 16.15714904 20.25409518 19.09126559 21.40227459 20.80955349\n",
      " 15.01825897 13.29384746 12.48213328 16.9859176  16.57809227 13.56740248\n",
      " 14.7108381  15.47070979 16.74449807 11.88269484 11.5594524  11.02611208\n",
      " 12.73029179 11.46343957 11.94662298 14.78024607 19.59293231 17.56960366\n",
      " 11.91523796 15.46386903 13.69575822 11.96586943 10.07829823 11.49715727\n",
      " 10.61159678 13.96485775 13.92016041 15.48433071 17.14398848 13.95568058\n",
      " 15.02484489 13.54918996 15.90681398 19.81109407 24.52842783 22.35215412\n",
      " 19.32434361 11.89628001 13.20257368 15.1749111  13.44307587 13.03167496\n",
      " 15.22772506 16.24873688 13.46006566 14.6978441  17.00215365 16.53124834\n",
      " 14.45807855 15.60618987 14.3962642  15.46318398 16.59138599 16.15734769\n",
      " 18.48272939 16.20079447 19.14270905 15.9386842  20.88975562 20.0362305\n",
      " 16.89410949 13.52770709 16.52829756 19.95758047 17.94868739 11.95733295\n",
      " 11.2934537   9.9574993  11.54680948 12.79415461 14.23853029 17.26537451\n",
      " 17.27732385 12.27797045 13.25018731 14.29287916  9.44729826 10.26737937\n",
      " 10.67868563 12.7413033  14.25172167 15.19056266 15.38909904 18.14859946\n",
      " 16.65141949 16.98480772 20.16182286 15.59675497 14.93640479 11.8509977\n",
      " 13.65258553 17.60265249 15.98839574 16.82377891 14.39473202 12.13132922\n",
      " 12.75534853 12.78265162 11.50017656 13.29115381 14.10798346 12.5508786\n",
      " 11.56616682 10.96782693 10.82404184  8.38738182 12.33549638 12.52290583\n",
      " 10.9823068  12.70928186 16.98418258 17.92450975 19.13537364 18.12336419\n",
      " 16.36926505 17.757713   18.46746049 18.29860813 19.6474186  16.54175516\n",
      " 14.82744332 12.78065281 15.16354503 14.79892719 14.57422888 13.67094134\n",
      " 15.33259453 16.09518328 16.02199383 16.0626995  16.80601676 15.26431709\n",
      " 16.79547756 17.71335002 15.03975552 12.12999526 13.15390598 11.08530809\n",
      " 11.97813561 13.1133353  12.68100108 13.99532614 14.33494717 15.12196106\n",
      "  9.10761236 10.63733902 12.88291236 11.84061306 14.23435998 15.67899495\n",
      " 14.42119227 14.45543342 18.89104038 18.78976764 18.07927928 15.69250236\n",
      " 16.13957364 16.04943235 14.31256223 14.39724555 10.87509635 13.78735001\n",
      " 17.33645709 17.64473354 16.68775627 14.03252056 14.28691796 14.49215305\n",
      " 11.83624502 13.3241752  14.20298071 16.07235471 14.85613322 13.11685334\n",
      " 13.69047376 16.06326733 14.08961132 13.52727837 18.22183027 20.45469282\n",
      " 27.2301268  19.07455722 23.10367304 21.14834903 18.39666746 12.71978815\n",
      " 17.39252531 16.49767397 11.71394906 12.49034539 13.33704376 15.92693713\n",
      " 19.41069523 16.03290424 13.85379258 13.48651196 15.66898299 17.64761372\n",
      " 17.40907005 18.94798767 20.82812052 16.48684912 15.88804814 16.41638745\n",
      " 14.06594794 15.74293683 18.89949124 10.63705364 10.11860128 12.67339033\n",
      " 15.74022898 10.50893324 13.2387086  17.9933808  22.64255309 15.42807773\n",
      " 12.95925278 13.84662637 13.12350518 12.33402391 11.9590673  12.86492491\n",
      " 13.84509108 16.05352202 15.98741697 14.38803168 19.90385585 16.17979289\n",
      " 14.50612143 15.48593749 12.65072844 13.69947971 12.88241874 14.57097177\n",
      " 14.71018309 11.04051441 12.47283617 16.36355878 14.43469742 12.3762051\n",
      " 13.77975121 12.10578863 16.66456155 13.68010633 14.94834685 12.00547857\n",
      " 12.61181934 13.65247862 16.01063339 14.43206238 10.1493006  12.68176987\n",
      " 14.15504769 12.02047011 12.66901941 11.51876287 13.00370079 16.16722859\n",
      " 14.49860267 14.17894051 13.70240766 13.64551885 14.93571618 11.40369577\n",
      "  9.5017532  12.35778167 11.96061168 12.84755394 15.5277732  14.89245636\n",
      " 15.83069179 18.46315751 17.26090874]\n"
     ]
    }
   ],
   "source": [
    "system = PLS(15,\n",
    "\n",
    "tr1, time1 = system.simulateTraj(1,10,500)\n",
    "print(tr1)"
   ]
  },
  {
   "cell_type": "code",
   "execution_count": 5,
   "id": "f674b3bf-b085-494c-befe-70f40cb02148",
   "metadata": {},
   "outputs": [
    {
     "data": {
      "text/plain": [
       "[<matplotlib.lines.Line2D at 0x208c72de480>]"
      ]
     },
     "execution_count": 5,
     "metadata": {},
     "output_type": "execute_result"
    },
    {
     "data": {
      "image/png": "[encoded data removed]",
      "text/plain": [
       "<Figure size 640x480 with 1 Axes>"
      ]
     },
     "metadata": {},
     "output_type": "display_data"
    }
   ],
   "source": [
    "plt.plot(time1,tr1)"
   ]
  },
  {
   "cell_type": "markdown",
   "id": "74dfa8b0-df49-4d9c-8a7a-25e349c57319",
   "metadata": {},
   "source": [
    "### Step 2"
   ]
  },
  {
   "cell_type": "markdown",
   "id": "385058bf-10da-4caa-a372-98619da4bec8",
   "metadata": {},
   "source": [
    "Now we are able to study the steady state probability distribution. It's quite simple: we will consider an uniform probability distribution for the starting $x_0$ and generated a certain number of simulations we will collect the final value in bins. This will need some work due to the potentially unlimited domain so we will need to do some progressive corrections"
   ]
  },
  {
   "cell_type": "code",
   "execution_count": 6,
   "id": "4668bfde-32c5-4f83-90a6-3ead9492f009",
   "metadata": {},
   "outputs": [],
   "source": [
    "omega = [5,30] #0,100\n",
    "Nbins = 250 #100\n",
    "Nsim = 10000 #10000\n",
    "k = (omega[1]-omega[0])/Nbins\n",
    "system = PLS(15,1)\n",
    "\n",
    "rng_0 = Generator(PCG64())\n",
    "\n",
    "bins = np.zeros(Nbins,dtype=float)\n",
    "\n",
    "for _ in range(Nsim):\n",
    "    ptraj,ttraj = system.simulateTraj(rng_0.uniform(low=omega[0],high=omega[1]),5,1000)\n",
    "    for i in range(Nbins):\n",
    "        if ptraj[-1] < (k*(i+1)+omega[0]):\n",
    "            bins[i] += 1.0\n",
    "            break\n",
    "\n",
    "bins = bins/(Nsim*k)"
   ]
  },
  {
   "cell_type": "code",
   "execution_count": 7,
   "id": "e1de989a-8d62-44d0-824d-f4a082c8e68d",
   "metadata": {},
   "outputs": [
    {
     "name": "stdout",
     "output_type": "stream",
     "text": [
      "[0.    0.    0.    0.    0.    0.    0.    0.    0.    0.    0.    0.\n",
      " 0.    0.    0.001 0.001 0.    0.    0.    0.    0.001 0.002 0.    0.001\n",
      " 0.    0.001 0.002 0.003 0.005 0.006 0.004 0.001 0.006 0.009 0.009 0.011\n",
      " 0.012 0.01  0.01  0.018 0.021 0.018 0.023 0.021 0.024 0.024 0.031 0.039\n",
      " 0.033 0.029 0.044 0.048 0.044 0.057 0.055 0.062 0.074 0.07  0.072 0.072\n",
      " 0.074 0.082 0.087 0.083 0.082 0.11  0.102 0.105 0.109 0.11  0.107 0.106\n",
      " 0.11  0.123 0.122 0.124 0.129 0.121 0.154 0.109 0.131 0.139 0.136 0.147\n",
      " 0.159 0.145 0.141 0.135 0.151 0.159 0.145 0.142 0.146 0.14  0.129 0.139\n",
      " 0.132 0.121 0.141 0.132 0.139 0.122 0.132 0.132 0.121 0.122 0.132 0.138\n",
      " 0.12  0.113 0.117 0.121 0.093 0.102 0.093 0.096 0.114 0.097 0.113 0.095\n",
      " 0.065 0.072 0.077 0.072 0.062 0.073 0.072 0.061 0.06  0.056 0.057 0.051\n",
      " 0.045 0.039 0.05  0.037 0.054 0.041 0.037 0.044 0.039 0.03  0.026 0.038\n",
      " 0.029 0.03  0.031 0.025 0.016 0.02  0.017 0.014 0.02  0.022 0.015 0.02\n",
      " 0.015 0.018 0.02  0.013 0.015 0.011 0.014 0.013 0.007 0.007 0.008 0.008\n",
      " 0.008 0.004 0.007 0.004 0.002 0.003 0.004 0.002 0.009 0.004 0.003 0.003\n",
      " 0.005 0.005 0.001 0.003 0.001 0.003 0.002 0.001 0.    0.001 0.001 0.\n",
      " 0.001 0.001 0.001 0.    0.002 0.    0.    0.    0.002 0.001 0.    0.\n",
      " 0.    0.001 0.002 0.    0.    0.    0.    0.    0.    0.    0.    0.\n",
      " 0.    0.    0.    0.    0.    0.    0.    0.    0.    0.    0.    0.\n",
      " 0.001 0.    0.    0.    0.    0.    0.    0.    0.    0.    0.    0.\n",
      " 0.001 0.    0.    0.    0.    0.    0.    0.    0.    0.   ]\n",
      "10.000000000000002\n"
     ]
    }
   ],
   "source": [
    "print(bins)\n",
    "print(np.sum(bins))"
   ]
  },
  {
   "cell_type": "code",
   "execution_count": 8,
   "id": "077a5d42-875d-4d18-b149-2f9ddc655649",
   "metadata": {},
   "outputs": [
    {
     "data": {
      "text/plain": [
       "<BarContainer object of 250 artists>"
      ]
     },
     "execution_count": 8,
     "metadata": {},
     "output_type": "execute_result"
    },
    {
     "data": {
      "image/png": "[encoded data removed]",
      "text/plain": [
       "<Figure size 640x480 with 1 Axes>"
      ]
     },
     "metadata": {},
     "output_type": "display_data"
    }
   ],
   "source": [
    "x = np.linspace(omega[0],omega[1],Nbins)\n",
    "\n",
    "plt.xlabel(\"x\")\n",
    "\n",
    "plt.bar(x,bins)"
   ]
  },
  {
   "cell_type": "markdown",
   "id": "eac180ba-8dd4-4f93-9709-dfa6b63debc4",
   "metadata": {},
   "source": [
    "### Step 3"
   ]
  },
  {
   "cell_type": "code",
   "execution_count": 9,
   "id": "17811733-2a6a-4841-a792-d1836fd87b02",
   "metadata": {},
   "outputs": [],
   "source": [
    "A = 5.678987961480652177734375*10.0**(20)"
   ]
  },
  {
   "cell_type": "code",
   "execution_count": 10,
   "id": "41f5fd42-44ab-44c4-9035-7548fa25dd2c",
   "metadata": {},
   "outputs": [],
   "source": [
    "P = lambda x: np.power(x,28)*np.exp(-2*x)/A"
   ]
  },
  {
   "cell_type": "code",
   "execution_count": 11,
   "id": "6dcf26a3-fba0-4112-ad45-8a80026f07b4",
   "metadata": {},
   "outputs": [
    {
     "name": "stdout",
     "output_type": "stream",
     "text": [
      "[2.97813482e-06 4.25107702e-06 6.00261619e-06 8.38782587e-06\n",
      " 1.16036753e-05 1.58978999e-05 2.15791316e-05 2.90283310e-05\n",
      " 3.87115370e-05 5.11939148e-05 6.71550437e-05 8.74053420e-05\n",
      " 1.12903481e-04 1.44774584e-04 1.84328963e-04 2.33081075e-04\n",
      " 2.92768361e-04 3.65369543e-04 4.53121943e-04 5.58537336e-04\n",
      " 6.84415828e-04 8.33857231e-04 1.01026939e-03 1.21737296e-03\n",
      " 1.45920206e-03 1.74010043e-03 2.06471259e-03 2.43796957e-03\n",
      " 2.86506915e-03 3.35145008e-03 3.90276046e-03 4.52482006e-03\n",
      " 5.22357683e-03 6.00505772e-03 6.87531421e-03 7.84036290e-03\n",
      " 8.90612188e-03 1.00783434e-02 1.13625437e-02 1.27639306e-02\n",
      " 1.42873305e-02 1.59371146e-02 1.77171264e-02 1.96306110e-02\n",
      " 2.16801474e-02 2.38675848e-02 2.61939839e-02 2.86595640e-02\n",
      " 3.12636573e-02 3.40046703e-02 3.68800540e-02 3.98862828e-02\n",
      " 4.30188426e-02 4.62722291e-02 4.96399553e-02 5.31145700e-02\n",
      " 5.66876853e-02 6.03500142e-02 6.40914177e-02 6.79009604e-02\n",
      " 7.17669753e-02 7.56771352e-02 7.96185318e-02 8.35777601e-02\n",
      " 8.75410090e-02 9.14941547e-02 9.54228578e-02 9.93126628e-02\n",
      " 1.03149098e-01 1.06917775e-01 1.10604489e-01 1.14195313e-01\n",
      " 1.17676696e-01 1.21035546e-01 1.24259325e-01 1.27336116e-01\n",
      " 1.30254709e-01 1.33004659e-01 1.35576349e-01 1.37961042e-01\n",
      " 1.40150923e-01 1.42139138e-01 1.43919820e-01 1.45488107e-01\n",
      " 1.46840157e-01 1.47973150e-01 1.48885282e-01 1.49575757e-01\n",
      " 1.50044765e-01 1.50293459e-01 1.50323923e-01 1.50139135e-01\n",
      " 1.49742924e-01 1.49139927e-01 1.48335535e-01 1.47335838e-01\n",
      " 1.46147573e-01 1.44778064e-01 1.43235160e-01 1.41527172e-01\n",
      " 1.39662819e-01 1.37651156e-01 1.35501523e-01 1.33223477e-01\n",
      " 1.30826738e-01 1.28321128e-01 1.25716522e-01 1.23022790e-01\n",
      " 1.20249749e-01 1.17407118e-01 1.14504474e-01 1.11551206e-01\n",
      " 1.08556488e-01 1.05529235e-01 1.02478079e-01 9.94113393e-02\n",
      " 9.63370017e-02 9.32626949e-02 9.01956762e-02 8.71428167e-02\n",
      " 8.41105916e-02 8.11050718e-02 7.81319194e-02 7.51963860e-02\n",
      " 7.23033121e-02 6.94571307e-02 6.66618711e-02 6.39211663e-02\n",
      " 6.12382610e-02 5.86160220e-02 5.60569490e-02 5.35631875e-02\n",
      " 5.11365428e-02 4.87784939e-02 4.64902089e-02 4.42725611e-02\n",
      " 4.21261448e-02 4.00512921e-02 3.80480894e-02 3.61163940e-02\n",
      " 3.42558512e-02 3.24659099e-02 3.07458399e-02 2.90947468e-02\n",
      " 2.75115883e-02 2.59951885e-02 2.45442532e-02 2.31573831e-02\n",
      " 2.18330878e-02 2.05697983e-02 1.93658789e-02 1.82196392e-02\n",
      " 1.71293444e-02 1.60932256e-02 1.51094893e-02 1.41763260e-02\n",
      " 1.32919186e-02 1.24544495e-02 1.16621079e-02 1.09130956e-02\n",
      " 1.02056328e-02 9.53796329e-03 8.90835874e-03 8.31512286e-03\n",
      " 7.75659482e-03 7.23115234e-03 6.73721422e-03 6.27324256e-03\n",
      " 5.83774451e-03 5.42927375e-03 5.04643152e-03 4.68786746e-03\n",
      " 4.35228006e-03 4.03841697e-03 3.74507492e-03 3.47109959e-03\n",
      " 3.21538519e-03 2.97687386e-03 2.75455503e-03 2.54746447e-03\n",
      " 2.35468343e-03 2.17533748e-03 2.00859546e-03 1.85366816e-03\n",
      " 1.70980714e-03 1.57630336e-03 1.45248582e-03 1.33772024e-03\n",
      " 1.23140761e-03 1.13298283e-03 1.04191329e-03 9.57697507e-04\n",
      " 8.79863739e-04 8.07968627e-04 7.41595864e-04 6.80354893e-04\n",
      " 6.23879633e-04 5.71827228e-04 5.23876854e-04 4.79728538e-04\n",
      " 4.39102037e-04 4.01735742e-04 3.67385631e-04 3.35824260e-04\n",
      " 3.06839797e-04 2.80235097e-04 2.55826812e-04 2.33444556e-04\n",
      " 2.12930094e-04 1.94136578e-04 1.76927823e-04 1.61177619e-04\n",
      " 1.46769074e-04 1.33593999e-04 1.21552325e-04 1.10551554e-04\n",
      " 1.00506236e-04 9.13374835e-05 8.29725128e-05 7.53442099e-05\n",
      " 6.83907274e-05 6.20551038e-05 5.62849087e-05 5.10319095e-05\n",
      " 4.62517608e-05 4.19037135e-05 3.79503444e-05 3.43573029e-05\n",
      " 3.10930764e-05 2.81287706e-05 2.54379064e-05 2.29962303e-05\n",
      " 2.07815392e-05 1.87735171e-05 1.69535840e-05 1.53047565e-05\n",
      " 1.38115176e-05 1.24596977e-05 1.12363633e-05 1.01297149e-05\n",
      " 9.12899311e-06 8.22439085e-06 7.40697373e-06 6.66860590e-06\n",
      " 6.00188209e-06 5.40006501e-06 4.85702786e-06 4.36720141e-06\n",
      " 3.92552552e-06 3.52740454e-06]\n"
     ]
    }
   ],
   "source": [
    "prob_dist = P(x)\n",
    "print(prob_dist)"
   ]
  },
  {
   "cell_type": "code",
   "execution_count": 12,
   "id": "ba5d83ca-9d51-44d9-bf24-b2f048f74d39",
   "metadata": {},
   "outputs": [
    {
     "data": {
      "text/plain": [
       "[<matplotlib.lines.Line2D at 0x208c8dfe990>]"
      ]
     },
     "execution_count": 12,
     "metadata": {},
     "output_type": "execute_result"
    },
    {
     "data": {
      "image/png": "[encoded data removed]",
      "text/plain": [
       "<Figure size 640x480 with 1 Axes>"
      ]
     },
     "metadata": {},
     "output_type": "display_data"
    }
   ],
   "source": [
    "plt.xlabel(\"x\")\n",
    "\n",
    "plt.bar(x,bins)\n",
    "plt.plot(x,prob_dist,color='r')"
   ]
  },
  {
   "cell_type": "code",
   "execution_count": null,
   "id": "46877c45-c657-449c-992a-23f50b932ff0",
   "metadata": {},
   "outputs": [],
   "source": []
  }
 ],
 "metadata": {
  "kernelspec": {
   "display_name": "Python 3 (ipykernel)",
   "language": "python",
   "name": "python3"
  },
  "language_info": {
   "codemirror_mode": {
    "name": "ipython",
    "version": 3
   },
   "file_extension": ".py",
   "mimetype": "text/x-python",
   "name": "python",
   "nbconvert_exporter": "python",
   "pygments_lexer": "ipython3",
   "version": "3.12.2"
  }
 },
 "nbformat": 4,
 "nbformat_minor": 5
}
