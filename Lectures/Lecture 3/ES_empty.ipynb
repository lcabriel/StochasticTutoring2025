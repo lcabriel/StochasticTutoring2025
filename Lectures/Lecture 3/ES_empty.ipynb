{
 "cells": [
  {
   "cell_type": "code",
   "execution_count": 1,
   "id": "2d99335e-5b87-408f-bbe6-d69efeb71fb7",
   "metadata": {},
   "outputs": [],
   "source": [
    "import numpy as np\n",
    "import matplotlib.pyplot as plt\n",
    "import time\n",
    "import random"
   ]
  },
  {
   "cell_type": "markdown",
   "id": "bf37d854-2b25-4035-99a7-6948f59980c7",
   "metadata": {},
   "source": [
    "## Introductory Exercise"
   ]
  },
  {
   "cell_type": "markdown",
   "id": "0efb3f8a-0eb2-4403-88a9-7bfc36932838",
   "metadata": {},
   "source": [
    "With this lecture we will start to explore the topic of the simulations of Stochastic Differential Equations which will be the main topic of the tutoring sessions and we will analyze it under many different point of views and methods. For this first lecture we will solve a trivial problem and we will try to simulate the trajectories \n",
    "to obtain than the steady state probability distribution. The steady state probability distribution will be of fundamental importance because it's the starting point of the whole qualitative analysis of Stochastic Dynamic Systems."
   ]
  },
  {
   "cell_type": "markdown",
   "id": "b2b19bad-0583-4ea8-afc8-00e6318337fb",
   "metadata": {},
   "source": [
    "**PROBLEM**: We want to model the classical problem of the perturbed logistic system. This system is characterize by the following Ito equation:\n",
    "\n",
    "$$\n",
    "dx=[rx-x^2]dt+axdW\n",
    "$$\n",
    "\n",
    "which is associated to the deterministic problem $x'=rx-x^2$ where $r\\rightarrow r+a\\xi(t)$."
   ]
  },
  {
   "cell_type": "markdown",
   "id": "67fd75fb-34ae-4918-9d0e-cefd8280d832",
   "metadata": {},
   "source": [
    "We can also compute the probability distribution for our problem solving the associated FP equation:\n",
    "\n",
    "$$\n",
    "P_s(x)=Ax^{\\frac{2r}{a^2}-2}e^{-\\frac{2x}{a^2}}\n",
    "$$\n",
    "\n",
    "However there could be some problems now: in fact this probability distribution to be defined needs to set a correct normalization constant $A$ however this can be computed only when $P_s$ is integrable and this happens when $2r/a^2>1$ however this does not mean that outside of this region the distribution has no sense but it's simply not possible to compute the integral to obtain $A$ so we will need to set it manually or compute it using other methods and tools."
   ]
  },
  {
   "cell_type": "markdown",
   "id": "4f4e2bf0-fefa-491b-b901-7b4081d21315",
   "metadata": {},
   "source": [
    "### Step 1"
   ]
  },
  {
   "cell_type": "markdown",
   "id": "9b1a8d83-ff09-4733-b141-8b07e4245975",
   "metadata": {},
   "source": [
    "Let's start to understand how to simulate the SDE. If it was a normal differential equation it would be quite an easy task: we can simply estimate the evolution using a FD methods such as the RK4. So our general idea is to implement a trajectory computation method that will use RK4 adding the stochastic contribution. About error the major issue will be to find a good random algorithm so we will use the **pcg**."
   ]
  },
  {
   "cell_type": "code",
   "execution_count": 2,
   "id": "353d1e57-8a29-4483-a197-7c30a62c6c87",
   "metadata": {},
   "outputs": [],
   "source": [
    "from numpy.random import Generator, PCG64"
   ]
  },
  {
   "cell_type": "markdown",
   "id": "f67365b9-e0b9-4df6-a3ac-5badcf99f431",
   "metadata": {},
   "source": [
    "**MEMO 1**: The RK4 method is a FD forward method of order $O(h^4)$ for the cumulative error (error on the last point). Given an DS with formula\n",
    "\n",
    "$$\n",
    "\\frac{dy}{dt}=f(t,y),\\qquad y(t_0)=y_0\n",
    "$$\n",
    "\n",
    "the iterative map that will give us the point of the trajectory is:\n",
    "\n",
    "$$\n",
    "y_{n+1}=y_{n}+\\frac{h}{6}(k_1+2k_2+2k_3+k_4)\n",
    "$$\n",
    "\n",
    "where\n",
    "\n",
    "$$\n",
    "k_1=f(t_n,y_n),\\qquad k_2=f\\left(t_n+\\frac{h}{2},y_n+h\\frac{k_1}{2}\\right),\\qquad k_3=f\\left(t_n+\\frac{h}{2},y_n+h\\frac{k_2}{2}\\right),\\qquad k_4=f(t_n+h,y_n+hk_3)\n",
    "$$"
   ]
  },
  {
   "cell_type": "markdown",
   "id": "8f293a37-442e-4e0c-a5ed-f1b92ee04198",
   "metadata": {},
   "source": [
    "**MEMO 2**: To simulate a white noise we can use the fact that $dW=G(t)\\sqrt{dt}$ where $G(t)$ is a normal random value"
   ]
  },
  {
   "cell_type": "code",
   "execution_count": 3,
   "id": "e8c7e261-82ed-4d0f-a9c0-00324c43c7e8",
   "metadata": {},
   "outputs": [],
   "source": [
    "class PLS(object):\n",
    "    '''\n",
    "    This function will simulate trajectories for an initialize\n",
    "    perturbed logistic system\n",
    "    '''\n",
    "\n",
    "    #CONSTRUCTOR\n",
    "    def __init__(self,r: float,a: float)->None:\n",
    "        self.r = r\n",
    "        self.a = a\n",
    "        \n",
    "        #No check are needed because the system works for all the values but maybe \n",
    "        #for certain it's not meaningful\n",
    "        \n",
    "        return\n",
    "\n",
    "    def __checkInputs(self,x0: float,T: float,N: int)->None:\n",
    "        '''\n",
    "        Given the inputs for a trajectory, this method will\n",
    "        check if they are correct\n",
    "        '''\n",
    "        #x0 checks:\n",
    "        if x0<0:\n",
    "            raise RuntimeError(\"Initial population must be positive\")\n",
    "\n",
    "        #T checks:\n",
    "        if T<0:\n",
    "            raise RuntimeError(\"Time interval must have a positive lenght\")\n",
    "\n",
    "        #N checks:\n",
    "        if N<=1:\n",
    "            raise RuntimeError(\"The simulation must have at least two steps\")\n",
    "\n",
    "        return\n",
    "\n",
    "    def __RK4(self,t_n: float,y_n: float,h: float)->float:\n",
    "        '''\n",
    "        Given a point in the trajectory, the time instant and the step lenght,\n",
    "        this method will compute the variation for y using the RK4 for the \n",
    "        deterministic part of the PLS\n",
    "        '''\n",
    "        \n",
    "        \n",
    "    \n",
    "    def simulateTraj(self,x0: float,T: float,N: int):\n",
    "        '''\n",
    "        Given the initial population value x0, the considered interval lenght T\n",
    "        and the number of step in the computation N, this method will return a\n",
    "        trajectory for the PLS.\n",
    "        '''"
   ]
  },
  {
   "cell_type": "code",
   "execution_count": null,
   "id": "7bc1169e-13d3-4649-ac1f-cba2d53d8fc5",
   "metadata": {},
   "outputs": [],
   "source": []
  },
  {
   "cell_type": "code",
   "execution_count": null,
   "id": "f674b3bf-b085-494c-befe-70f40cb02148",
   "metadata": {},
   "outputs": [],
   "source": []
  },
  {
   "cell_type": "markdown",
   "id": "74dfa8b0-df49-4d9c-8a7a-25e349c57319",
   "metadata": {},
   "source": [
    "### Step 2"
   ]
  },
  {
   "cell_type": "markdown",
   "id": "385058bf-10da-4caa-a372-98619da4bec8",
   "metadata": {},
   "source": [
    "Now we are able to study the steady state probability distribution. It's quite simple: we will consider an uniform probability distribution for the starting $x_0$ and generated a certain number of simulations we will collect the final value in bins. This will need some work due to the potentially unlimited domain so we will need to do some progressive corrections"
   ]
  },
  {
   "cell_type": "code",
   "execution_count": null,
   "id": "4668bfde-32c5-4f83-90a6-3ead9492f009",
   "metadata": {},
   "outputs": [],
   "source": []
  },
  {
   "cell_type": "code",
   "execution_count": null,
   "id": "e1de989a-8d62-44d0-824d-f4a082c8e68d",
   "metadata": {},
   "outputs": [],
   "source": []
  },
  {
   "cell_type": "code",
   "execution_count": null,
   "id": "077a5d42-875d-4d18-b149-2f9ddc655649",
   "metadata": {},
   "outputs": [],
   "source": []
  },
  {
   "cell_type": "markdown",
   "id": "eac180ba-8dd4-4f93-9709-dfa6b63debc4",
   "metadata": {},
   "source": [
    "### Step 3"
   ]
  },
  {
   "cell_type": "code",
   "execution_count": 4,
   "id": "17811733-2a6a-4841-a792-d1836fd87b02",
   "metadata": {},
   "outputs": [],
   "source": [
    "A = 5.678987961480652177734375*10.0**(20)"
   ]
  },
  {
   "cell_type": "code",
   "execution_count": 5,
   "id": "41f5fd42-44ab-44c4-9035-7548fa25dd2c",
   "metadata": {},
   "outputs": [],
   "source": [
    "P = lambda x: np.power(x,28)*np.exp(-2*x)/A"
   ]
  },
  {
   "cell_type": "code",
   "execution_count": 6,
   "id": "6dcf26a3-fba0-4112-ad45-8a80026f07b4",
   "metadata": {},
   "outputs": [
    {
     "ename": "NameError",
     "evalue": "name 'x' is not defined",
     "output_type": "error",
     "traceback": [
      "\u001b[1;31m---------------------------------------------------------------------------\u001b[0m",
      "\u001b[1;31mNameError\u001b[0m                                 Traceback (most recent call last)",
      "Cell \u001b[1;32mIn[6], line 1\u001b[0m\n\u001b[1;32m----> 1\u001b[0m prob_dist \u001b[38;5;241m=\u001b[39m P(x)\n\u001b[0;32m      2\u001b[0m \u001b[38;5;28mprint\u001b[39m(prob_dist)\n",
      "\u001b[1;31mNameError\u001b[0m: name 'x' is not defined"
     ]
    }
   ],
   "source": [
    "prob_dist = P(x)\n",
    "print(prob_dist)"
   ]
  },
  {
   "cell_type": "code",
   "execution_count": null,
   "id": "ba5d83ca-9d51-44d9-bf24-b2f048f74d39",
   "metadata": {},
   "outputs": [],
   "source": []
  }
 ],
 "metadata": {
  "kernelspec": {
   "display_name": "Python 3 (ipykernel)",
   "language": "python",
   "name": "python3"
  },
  "language_info": {
   "codemirror_mode": {
    "name": "ipython",
    "version": 3
   },
   "file_extension": ".py",
   "mimetype": "text/x-python",
   "name": "python",
   "nbconvert_exporter": "python",
   "pygments_lexer": "ipython3",
   "version": "3.12.2"
  }
 },
 "nbformat": 4,
 "nbformat_minor": 5
}
