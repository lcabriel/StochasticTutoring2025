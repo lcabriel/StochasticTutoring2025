{
 "cells": [
  {
   "cell_type": "code",
   "execution_count": 1,
   "id": "4e93206f-e5f8-4a82-a1b6-a254ffb1f77c",
   "metadata": {},
   "outputs": [],
   "source": [
    "import numpy as np\n",
    "import matplotlib.pyplot as plt"
   ]
  },
  {
   "cell_type": "markdown",
   "id": "86efabf2-dff6-49c8-8873-666293b8fb88",
   "metadata": {},
   "source": [
    "## Exercise 1"
   ]
  },
  {
   "cell_type": "markdown",
   "id": "8e3b0396-c106-4e7e-a3ce-5c8ad5308d0c",
   "metadata": {},
   "source": [
    "Model:\n",
    "\n",
    "Let's consider the following problem about gambling: \n",
    "\n",
    "We have a game where, each turn, I have the probability to win a 1€ equal to $p_1=0.3$, to win 2€ equal to $p_2=0.1$ ad to lose 1€ equal to $p_{-1}=0.6$. The game ends if the player's sum reach N€ or 0€ with $N=5$. For the sake of this simulation, having capped the sum to 5€, we will consider the $p_1$ for the transition $4\\rightarrow 5$ equal to $0.4$ to grant the well definition of the problem.  \n",
    "\n",
    "We have to model this scenario defining the transition matrix, implement a function to check if the matrix is well-defined and test the defined matrix. At last calculate, given a initial probability distribution, the probability for each state after 8 steps."
   ]
  },
  {
   "cell_type": "markdown",
   "id": "e152b676-6d12-469a-9266-d6cb5d088cf3",
   "metadata": {},
   "source": [
    "![Alt text](es1.PNG \"graph\")"
   ]
  },
  {
   "cell_type": "code",
   "execution_count": 2,
   "id": "b737b221-d8b7-4972-822b-d556da7a8cf5",
   "metadata": {},
   "outputs": [],
   "source": [
    "#MATRIX DEFINITION:\n",
    "\n",
    "game_matrix = np.matrix([\n",
    "    [1.0,0,0,0,0,0],\n",
    "    [0.6,0,0.3,0.1,0,0],\n",
    "    [0,0.6,0,0.3,0.1,0],\n",
    "    [0,0,0.6,0,0.3,0.1],\n",
    "    [0,0,0,0.6,0,0.4],\n",
    "    [0,0,0,0,0,1.0]\n",
    "])"
   ]
  },
  {
   "cell_type": "code",
   "execution_count": 3,
   "id": "62438a14-1f63-449f-94ad-c5138e89492c",
   "metadata": {},
   "outputs": [],
   "source": [
    "#A well defined matrix is squared, with all probability values and sum up to one.\n",
    "#We will check the sum up to an epsilon equal to 1e-7 due to machine error\n",
    "\n",
    "def defined_check(M: np.matrix)->None:\n",
    "    '''\n",
    "    It will check if the given transition matrix is well defined\n",
    "    '''\n",
    "    #Check if the matrix is squared\n",
    "    if(np.shape(M)[0]!=np.shape(M)[1]):\n",
    "       raise RuntimeError(\"Number of rows is different from the number of columns\")\n",
    "\n",
    "    for i in range(len(M)):\n",
    "        s = 0\n",
    "        \n",
    "        for j in range(len(M)):\n",
    "            #Check if the values are actualy probabilities\n",
    "            if(M[i,j]>1 or M[i,j]<0):\n",
    "                raise RuntimeError(\"An element of the transition matrix is not a probability: \"+str(i)+\",\"+str(j))\n",
    "            \n",
    "            s = s + M[i,j]\n",
    "\n",
    "        #Check if the rows sum up to 1\n",
    "        if(s-1>0.00000001):\n",
    "            raise RuntimeError(\"The matrix is not well defined. Goes over 1 in the row \"+str(i)+\" with a value \"+str(s))\n",
    "         "
   ]
  },
  {
   "cell_type": "code",
   "execution_count": 4,
   "id": "5a4e3e36-86e7-4e70-8972-8eec4dd49823",
   "metadata": {
    "scrolled": true
   },
   "outputs": [],
   "source": [
    "defined_check(game_matrix)"
   ]
  },
  {
   "cell_type": "code",
   "execution_count": 5,
   "id": "9f9f3561-9814-491a-b29e-c05673ff62cf",
   "metadata": {},
   "outputs": [],
   "source": [
    "def DTMC_pred_forward(p0: np.array,mat: np.matrix, time: int)->np.array: #POSSIBILE ASSIGNMENT FARE LA MATRICE OPPOSTA\n",
    "    '''\n",
    "    Calculate, given an initial probability array p0 of the states\n",
    "    what will be the probability array after \"time\" interactions\n",
    "    '''\n",
    "    #if time=0 no projections have to be made\n",
    "    if(time==0):\n",
    "        return p0\n",
    "\n",
    "    #if time is negative it as no sense \n",
    "    if(time<0):\n",
    "        raise RuntimeError(\"Negative time for forward prediction\")\n",
    "\n",
    "    #Default:\n",
    "    matpow = mat\n",
    "    for i in range(1,time):\n",
    "        matpow = np.matmul(matpow,mat)\n",
    "\n",
    "    return np.array(np.dot(p0,matpow))[0]"
   ]
  },
  {
   "cell_type": "code",
   "execution_count": 6,
   "id": "0dc61341-f858-40e6-b8e4-0270ad9ec856",
   "metadata": {},
   "outputs": [
    {
     "name": "stdout",
     "output_type": "stream",
     "text": [
      "[0.626328   0.02659392 0.0431568  0.03281472 0.01872072 0.25238584]\n"
     ]
    }
   ],
   "source": [
    "prob_init = np.array([0,0,1,0,0,0])\n",
    "prob_out = DTMC_pred_forward(prob_init,game_matrix,8)\n",
    "\n",
    "print(prob_out)"
   ]
  },
  {
   "cell_type": "markdown",
   "id": "6aa6b9ee-9207-477a-afd3-d07f5efebc5e",
   "metadata": {},
   "source": [
    "## Exercise 2"
   ]
  },
  {
   "cell_type": "markdown",
   "id": "dac43963-98d2-42d2-9e25-14b77e6b76bd",
   "metadata": {},
   "source": [
    "Let's implement a basic class for the DTMC to use and modify then in the following exercises. We will simply copy and paste the function defined above and give them a general form."
   ]
  },
  {
   "cell_type": "code",
   "execution_count": 7,
   "id": "2c9b9bbc-a72a-4725-a3db-6ebc8487d1f4",
   "metadata": {},
   "outputs": [],
   "source": [
    "class DTMC(object):\n",
    "\n",
    "    #CONSTRUCTOR\n",
    "    def __init__(self,P: np.matrix)->None:\n",
    "        self.transition_mat=P\n",
    "        self._msize=len(P)\n",
    "        self.defined_check(self,self.transition_mat)\n",
    "        return\n",
    "\n",
    "    #CHECK METHOD\n",
    "    @staticmethod\n",
    "    def defined_check(self, M: np.matrix)->None:\n",
    "        '''\n",
    "        It will check if the given transition matrix is well defined\n",
    "        '''\n",
    "        #Check if the matrix is squared\n",
    "        if(np.shape(M)[0]!=np.shape(M)[1]):\n",
    "           raise RuntimeError(\"Number of rows is different from the number of columns\")\n",
    "    \n",
    "        for i in range(self._msize):\n",
    "            s = 0\n",
    "            \n",
    "            for j in range(self._msize):\n",
    "                #Check if the values are actualy probabilities\n",
    "                if(M[i,j]>1 or M[i,j]<0):\n",
    "                    raise RuntimeError(\"An element of the transition matrix is not a probability: \"+str(i)+\",\"+str(j))\n",
    "                \n",
    "                s = s + M[i,j]\n",
    "    \n",
    "            #Check if the rows sum up to 1\n",
    "            if(s-1>0.00000001):\n",
    "                raise RuntimeError(\"The matrix is not well defined. Goes over 1 in the row \"+str(i)+\" with a value \"+str(s))\n",
    "\n",
    "        return\n",
    "\n",
    "    #PREDICTION METHOD\n",
    "    def compute_pred_forward(self, p0: np.array, time: int)->np.array:\n",
    "        '''\n",
    "        Calculate, given an initial probability array p0 of the states\n",
    "        what will be the probability array after \"time\" interactions\n",
    "        '''\n",
    "        #if time=0 no projections have to be made\n",
    "        if(time==0):\n",
    "            return p0\n",
    "    \n",
    "        #if time is negative it as no sense \n",
    "        if(time<0):\n",
    "            raise RuntimeError(\"Negative time for forward prediction\")\n",
    "    \n",
    "        #Default:\n",
    "        matpow = self.transition_mat\n",
    "        for i in range(1,time):\n",
    "            matpow = np.matmul(matpow,self.transition_mat)\n",
    "    \n",
    "        return np.array(np.dot(p0,matpow))[0]"
   ]
  },
  {
   "cell_type": "code",
   "execution_count": 8,
   "id": "a3c02878-e3d3-4bbf-8ee4-96089f64fecb",
   "metadata": {},
   "outputs": [
    {
     "name": "stdout",
     "output_type": "stream",
     "text": [
      "[0.626328   0.02659392 0.0431568  0.03281472 0.01872072 0.25238584]\n"
     ]
    }
   ],
   "source": [
    "chain = DTMC(game_matrix)\n",
    "prob_init = np.array([0,0,1,0,0,0])\n",
    "prob_out = chain.compute_pred_forward(prob_init,8)\n",
    "\n",
    "print(prob_out)"
   ]
  },
  {
   "cell_type": "markdown",
   "id": "b3257eef-3628-4019-a72a-7d47850e28da",
   "metadata": {},
   "source": [
    "## Exercise 3"
   ]
  },
  {
   "cell_type": "markdown",
   "id": "c3e84910-1a65-4744-ae5c-1192c827a036",
   "metadata": {},
   "source": [
    "Considering the model in the Exercise 1. We will now try to implement a version where there is no limit in how much money the Player can hold. In other words the space of the states is now coincident with $\\mathbb{N}$ and the only absorbing state will be 0€. "
   ]
  },
  {
   "cell_type": "code",
   "execution_count": 9,
   "id": "53edc854-844f-4a00-8a66-925bb566a7d0",
   "metadata": {},
   "outputs": [],
   "source": [
    "#NOW, TO DEFINE THE MATRIX WITHOUT DOING SIMULATIONS, WE HAVE TO USE AN ADAPTIVE METHOD. THERE ARE TWO GENERAL WAY:\n",
    "#- THE FULL MATRIX AS DONE BEFORE\n",
    "#- USING A SPARSE MATRIX SYSTEM: THIS IS MORE CHEAP IN TERM OF SPACE BUT REQUIRE A BIT MORE OF IMPLEMENTATION ESPECIALLY TO DO THE MULTIPLICATIONS THEN.\n",
    "#  IT'S EVENTUALLY POSSIBLE TO USE THE SPARSE MATRICES OF SCIPY\n",
    "\n",
    "# WE WILL TRY THE FIRST WAY"
   ]
  },
  {
   "cell_type": "code",
   "execution_count": 10,
   "id": "f18f8141-43b1-42b2-8af4-3bd8f028ba93",
   "metadata": {},
   "outputs": [],
   "source": [
    "def compute_game_matrix(p0: np.array, N: int)->np.matrix:\n",
    "    '''\n",
    "    This function will compute the matrix for the game with adapting\n",
    "    to the prob_init number of values and iterations\n",
    "    '''\n",
    "\n",
    "    #The size of the matrix will be the size of the p0 + N*2 + 1 in our problem\n",
    "    #The last one will not be reachable but is needed to close the problem\n",
    "    \n",
    "    m_size = len(p0)+N*2+1\n",
    "    M = np.matrix(np.zeros((m_size,m_size),dtype=float)) #Matrix definition\n",
    "\n",
    "    #Setup the 0 state\n",
    "    M[0,0] = 1.0\n",
    "\n",
    "    #Setup the other states until the -2\n",
    "    for i in range(1,m_size-2):\n",
    "        M[i,i-1] = 0.6\n",
    "        M[i,i+1] = 0.3\n",
    "        M[i,i+2] = 0.1\n",
    "\n",
    "    #Setup the -2\n",
    "    M[-2,-3] = 0.6\n",
    "    M[-2,-1] = 0.4\n",
    "\n",
    "    #Setup the last\n",
    "    M[-1,-1] = 1.0\n",
    "        \n",
    "    return M\n",
    "    "
   ]
  },
  {
   "cell_type": "code",
   "execution_count": 11,
   "id": "17e042e4-8ea2-4e8e-82d5-5f5e8f7df516",
   "metadata": {},
   "outputs": [],
   "source": [
    "def vector_expansion(p0: np.array, N: int)->np.array:\n",
    "    '''\n",
    "    This function will expand the initial probability array\n",
    "    to the correct size for the number of the iterations\n",
    "    '''\n",
    "\n",
    "    v_size = N*2+1\n",
    "\n",
    "    prob_init = np.concatenate([p0,np.zeros(v_size,dtype=float)],axis=0)\n",
    "    \n",
    "    return prob_init"
   ]
  },
  {
   "cell_type": "code",
   "execution_count": 13,
   "id": "f529769a-5fc6-4e2f-9c8f-a262a27f5619",
   "metadata": {},
   "outputs": [],
   "source": [
    "prob_init = np.array([0.1,0.1,0.1,0.1,0.1,0.1,0.1,0.1,0.1,0.1])\n",
    "n_iterations = 20\n",
    "\n",
    "game_matrix_nolimit = compute_game_matrix(prob_init,n_iterations)\n",
    "prob_init = vector_expansion(prob_init,n_iterations)"
   ]
  },
  {
   "cell_type": "code",
   "execution_count": 14,
   "id": "763b741b-ff89-4fd7-a47a-926b64f9f304",
   "metadata": {},
   "outputs": [
    {
     "name": "stdout",
     "output_type": "stream",
     "text": [
      "[3.50922112e-01 3.45954240e-02 5.39110080e-02 7.06371840e-02\n",
      " 7.52950080e-02 8.04148560e-02 7.30386720e-02 6.76209060e-02\n",
      " 5.57795700e-02 4.45859910e-02 3.35537910e-02 2.34075150e-02\n",
      " 1.55973870e-02 9.61758900e-03 5.52779700e-03 2.96975100e-03\n",
      " 1.45863900e-03 6.57280000e-04 2.69695000e-04 9.79750000e-05\n",
      " 3.11950000e-05 8.51500000e-06 1.83700000e-06 2.77000000e-07\n",
      " 2.50000000e-08 1.00000000e-09 0.00000000e+00 0.00000000e+00\n",
      " 0.00000000e+00 0.00000000e+00 0.00000000e+00 0.00000000e+00\n",
      " 0.00000000e+00 0.00000000e+00 0.00000000e+00 0.00000000e+00\n",
      " 0.00000000e+00 0.00000000e+00 0.00000000e+00 0.00000000e+00\n",
      " 0.00000000e+00 0.00000000e+00 0.00000000e+00 0.00000000e+00\n",
      " 0.00000000e+00 0.00000000e+00 0.00000000e+00 0.00000000e+00\n",
      " 0.00000000e+00 0.00000000e+00 0.00000000e+00]\n"
     ]
    }
   ],
   "source": [
    "chain = DTMC(game_matrix_nolimit)\n",
    "prob_out = chain.compute_pred_forward(prob_init,8)\n",
    "\n",
    "print(prob_out)"
   ]
  },
  {
   "cell_type": "code",
   "execution_count": 15,
   "id": "05453c47-4f51-452f-8a82-d55d527f031b",
   "metadata": {},
   "outputs": [
    {
     "data": {
      "text/plain": [
       "<BarContainer object of 51 artists>"
      ]
     },
     "execution_count": 15,
     "metadata": {},
     "output_type": "execute_result"
    },
    {
     "data": {
      "image/png": "[encoded data removed]",
      "text/plain": [
       "<Figure size 640x480 with 1 Axes>"
      ]
     },
     "metadata": {},
     "output_type": "display_data"
    }
   ],
   "source": [
    "x = np.linspace(0,len(prob_out)-1,len(prob_out))\n",
    "\n",
    "plt.xlabel(\"€\")\n",
    "\n",
    "plt.bar(x,prob_out)"
   ]
  },
  {
   "cell_type": "markdown",
   "id": "a33c2c25-e2e6-4ddf-834e-717390243cdc",
   "metadata": {},
   "source": [
    "## Exercise 4"
   ]
  },
  {
   "cell_type": "markdown",
   "id": "9acac13a-6909-4b16-8cc2-eaa0389c4757",
   "metadata": {},
   "source": [
    "As seen in the exercise above for infinite chains the usage of a matrix can be quite difficult even in a sparse implementation. However another problem working with matrix can appear when working with event spaces with too many elements that will produce enormous matrices or nonhomogenous probability situations. This problem can appear when using a too great number of iterations.\n",
    "\n",
    "In this case a simulative approach can be useful. We will try to write in this way the problem in the cell below and do some simuation given a starting probability array. This simulation method is based on an experimental mind set in which i send some entities inside the system and see how it reacts to them."
   ]
  },
  {
   "cell_type": "markdown",
   "id": "2ac201bf-44e4-4a61-a54a-ed30a2111df4",
   "metadata": {},
   "source": [
    "**PROBLEM**: Given a space of 1000 possible states. Suppose we are in a state $i$ we will have the following possible transitions:\n",
    "\n",
    "- $i\\rightarrow i\\pm 1$ with $p=0.25$\n",
    "- $i\\rightarrow i\\pm 2$ with $p=0.125$\n",
    "- $i\\rightarrow i\\pm 3$ with $p=0.0625$\n",
    "- $i\\rightarrow i\\pm 4$ with $p=0.03125$\n",
    "- $i\\rightarrow i\\pm 5$ with $p=0.03125$\n",
    "\n",
    "Suppose cyclic conditions at the border of the space. So if $i=4$ the transition to $-5$ will point to $999+4-5=998$. In a similar way if $i=998$ the transition $+5$ will have to point at $i=4$."
   ]
  },
  {
   "cell_type": "code",
   "execution_count": 16,
   "id": "e6eabd44-64ba-4cac-93ae-5789a0940360",
   "metadata": {},
   "outputs": [],
   "source": [
    "import random\n",
    "import time\n",
    "random.seed(time.time())"
   ]
  },
  {
   "cell_type": "code",
   "execution_count": 17,
   "id": "6092bb83-73f8-456f-a73e-7de8fe50e4b3",
   "metadata": {},
   "outputs": [],
   "source": [
    "#LET'S IMPLEMENT IS USING THE ABOVE CLASS OF DTMC. WE HAVE TO REMOVE THE MATRIX METHODS TO DO THE SIMULATIVE APPROACH\n",
    "class DTMC_1000(object):\n",
    "\n",
    "    #CONSTRUCTOR\n",
    "    def __init__(self)->None:\n",
    "        self.n_states=1000\n",
    "        return\n",
    "\n",
    "    #COMPUTE CUMULATIVE PROBABILITY ARRAY\n",
    "    def __cumulativeTransformer(self,p0:np.array)->np.array:\n",
    "        '''\n",
    "        Given a probability array this function will compute\n",
    "        the cumulative of such distribution.\n",
    "        '''\n",
    "        p = np.zeros(len(p0),dtype=float)\n",
    "        p[0] = p0[0]\n",
    "\n",
    "        for i in range(1,len(p)):\n",
    "            p[i] = p0[i] + p[i-1]\n",
    "        \n",
    "        return p\n",
    "\n",
    "    #INITIAL STATE COMPUTING\n",
    "    def __obtainState(self,p0:np.array)->int:\n",
    "        '''\n",
    "        Given a probability distribution of the state this function will\n",
    "        produce a weighted random state.\n",
    "        '''\n",
    "        p = self.__cumulativeTransformer(p0)\n",
    "\n",
    "        r = random.random()\n",
    "        s = 0\n",
    "        \n",
    "        for i in range(len(p0)):\n",
    "            if((r<p[i]) and ((p[i]-p[i-1])>0.0000001)):\n",
    "                s = i\n",
    "                break\n",
    "        \n",
    "        return s\n",
    "\n",
    "    def __createProbTransitions(self,S: int)->np.array:\n",
    "        '''\n",
    "        Given the starting state. The method will produce the probability\n",
    "        distribution of the transitions\n",
    "        '''\n",
    "        p = np.zeros(self.n_states,dtype=float)\n",
    "\n",
    "        steps = [-5,-4,-3,-2,-1,1,2,3,4,5]\n",
    "        values = [0.03125,0.03125,0.0625,0.125,0.25,0.25,0.125,0.0625,0.03125,0.03125]\n",
    "\n",
    "        for i in range(len(steps)):\n",
    "            if((S+steps[i])<1000):\n",
    "                p[S+steps[i]]=values[i]\n",
    "            else:\n",
    "                p[S+steps[i]-1000]=values[i]\n",
    "\n",
    "        return p\n",
    "        \n",
    "\n",
    "    #SIMULATION METHOD\n",
    "    def __simulateTraj(self,p0:np.array,time: int)->int:\n",
    "        '''\n",
    "        This function will simulate a trajectory of the DTMC_1000\n",
    "        '''\n",
    "        state = self.__obtainState(p0)\n",
    "\n",
    "        for i in range(time):\n",
    "            p = self.__createProbTransitions(state)\n",
    "            state = self.__obtainState(p)\n",
    "\n",
    "        return state\n",
    "        \n",
    "    \n",
    "    #MAIN PREDICTION METHOD\n",
    "    def compute_pred_forward(self, p0: np.array, time: int, N: int)->np.array:\n",
    "        '''\n",
    "        Calculate, given an initial probability array p0 of the states\n",
    "        what will be the probability array after \"time\" interactions.\n",
    "        N simulation will be performed.\n",
    "        '''\n",
    "        #if time=0 no projections have to be made\n",
    "        if(time==0):\n",
    "            return p0\n",
    "    \n",
    "        #if time is negative it as no sense \n",
    "        if(time<0):\n",
    "            raise RuntimeError(\"Negative time for forward prediction\")\n",
    "\n",
    "        #Check N\n",
    "        if(N<0):\n",
    "            raise RuntimeError(\"Negative number of simulations\")\n",
    "    \n",
    "        #Create the bins vector\n",
    "        bins = np.zeros(self.n_states,dtype=float)\n",
    "        \n",
    "        for i in range(N):\n",
    "            s = self.__simulateTraj(p0,time)\n",
    "            bins[s] += 1.0\n",
    "\n",
    "        #Normalization\n",
    "        bins = bins/N\n",
    "        \n",
    "        return bins"
   ]
  },
  {
   "cell_type": "code",
   "execution_count": 18,
   "id": "49d73af7-89a1-4571-b1d5-451be1b4ba13",
   "metadata": {},
   "outputs": [],
   "source": [
    "chain = DTMC_1000()\n",
    "\n",
    "p_init = np.zeros(1000,dtype=float)\n",
    "p_init[500] = 1.0\n",
    "\n",
    "p_out = chain.compute_pred_forward(p_init,30,1000)"
   ]
  },
  {
   "cell_type": "code",
   "execution_count": 19,
   "id": "0b18c587-4259-4424-a1be-959218dd00fe",
   "metadata": {
    "scrolled": true
   },
   "outputs": [
    {
     "name": "stdout",
     "output_type": "stream",
     "text": [
      "[0.    0.    0.    0.    0.    0.    0.    0.    0.    0.    0.    0.\n",
      " 0.    0.    0.    0.    0.    0.    0.    0.    0.    0.    0.    0.\n",
      " 0.    0.    0.    0.    0.    0.    0.    0.    0.    0.    0.    0.\n",
      " 0.    0.    0.    0.    0.    0.    0.    0.    0.    0.    0.    0.\n",
      " 0.    0.    0.    0.    0.    0.    0.    0.    0.    0.    0.    0.\n",
      " 0.    0.    0.    0.    0.    0.    0.    0.    0.    0.    0.    0.\n",
      " 0.    0.    0.    0.    0.    0.    0.    0.    0.    0.    0.    0.\n",
      " 0.    0.    0.    0.    0.    0.    0.    0.    0.    0.    0.    0.\n",
      " 0.    0.    0.    0.    0.    0.    0.    0.    0.    0.    0.    0.\n",
      " 0.    0.    0.    0.    0.    0.    0.    0.    0.    0.    0.    0.\n",
      " 0.    0.    0.    0.    0.    0.    0.    0.    0.    0.    0.    0.\n",
      " 0.    0.    0.    0.    0.    0.    0.    0.    0.    0.    0.    0.\n",
      " 0.    0.    0.    0.    0.    0.    0.    0.    0.    0.    0.    0.\n",
      " 0.    0.    0.    0.    0.    0.    0.    0.    0.    0.    0.    0.\n",
      " 0.    0.    0.    0.    0.    0.    0.    0.    0.    0.    0.    0.\n",
      " 0.    0.    0.    0.    0.    0.    0.    0.    0.    0.    0.    0.\n",
      " 0.    0.    0.    0.    0.    0.    0.    0.    0.    0.    0.    0.\n",
      " 0.    0.    0.    0.    0.    0.    0.    0.    0.    0.    0.    0.\n",
      " 0.    0.    0.    0.    0.    0.    0.    0.    0.    0.    0.    0.\n",
      " 0.    0.    0.    0.    0.    0.    0.    0.    0.    0.    0.    0.\n",
      " 0.    0.    0.    0.    0.    0.    0.    0.    0.    0.    0.    0.\n",
      " 0.    0.    0.    0.    0.    0.    0.    0.    0.    0.    0.    0.\n",
      " 0.    0.    0.    0.    0.    0.    0.    0.    0.    0.    0.    0.\n",
      " 0.    0.    0.    0.    0.    0.    0.    0.    0.    0.    0.    0.\n",
      " 0.    0.    0.    0.    0.    0.    0.    0.    0.    0.    0.    0.\n",
      " 0.    0.    0.    0.    0.    0.    0.    0.    0.    0.    0.    0.\n",
      " 0.    0.    0.    0.    0.    0.    0.    0.    0.    0.    0.    0.\n",
      " 0.    0.    0.    0.    0.    0.    0.    0.    0.    0.    0.    0.\n",
      " 0.    0.    0.    0.    0.    0.    0.    0.    0.    0.    0.    0.\n",
      " 0.    0.    0.    0.    0.    0.    0.    0.    0.    0.    0.    0.\n",
      " 0.    0.    0.    0.    0.    0.    0.    0.    0.    0.    0.    0.\n",
      " 0.    0.    0.    0.    0.    0.    0.    0.    0.    0.    0.    0.\n",
      " 0.    0.    0.    0.    0.    0.    0.    0.    0.    0.    0.    0.\n",
      " 0.    0.    0.    0.    0.    0.    0.    0.    0.    0.    0.    0.\n",
      " 0.    0.    0.    0.    0.    0.    0.    0.    0.    0.    0.    0.\n",
      " 0.    0.    0.    0.    0.    0.    0.    0.    0.    0.    0.    0.\n",
      " 0.    0.    0.    0.    0.    0.    0.    0.    0.    0.    0.    0.\n",
      " 0.    0.    0.    0.    0.    0.    0.    0.    0.    0.    0.    0.\n",
      " 0.    0.    0.    0.    0.    0.    0.    0.001 0.001 0.    0.002 0.002\n",
      " 0.    0.    0.004 0.005 0.001 0.001 0.003 0.006 0.009 0.01  0.004 0.003\n",
      " 0.009 0.005 0.01  0.013 0.014 0.014 0.019 0.024 0.022 0.029 0.024 0.025\n",
      " 0.02  0.027 0.028 0.032 0.03  0.031 0.022 0.031 0.03  0.038 0.036 0.029\n",
      " 0.034 0.035 0.032 0.034 0.021 0.024 0.019 0.013 0.02  0.015 0.014 0.011\n",
      " 0.014 0.017 0.01  0.011 0.008 0.01  0.003 0.007 0.004 0.004 0.005 0.006\n",
      " 0.002 0.006 0.001 0.001 0.003 0.    0.    0.    0.    0.001 0.    0.\n",
      " 0.001 0.    0.    0.    0.    0.    0.    0.    0.    0.    0.    0.\n",
      " 0.    0.    0.    0.    0.    0.    0.    0.    0.    0.    0.    0.\n",
      " 0.    0.    0.    0.    0.    0.    0.    0.    0.    0.    0.    0.\n",
      " 0.    0.    0.    0.    0.    0.    0.    0.    0.    0.    0.    0.\n",
      " 0.    0.    0.    0.    0.    0.    0.    0.    0.    0.    0.    0.\n",
      " 0.    0.    0.    0.    0.    0.    0.    0.    0.    0.    0.    0.\n",
      " 0.    0.    0.    0.    0.    0.    0.    0.    0.    0.    0.    0.\n",
      " 0.    0.    0.    0.    0.    0.    0.    0.    0.    0.    0.    0.\n",
      " 0.    0.    0.    0.    0.    0.    0.    0.    0.    0.    0.    0.\n",
      " 0.    0.    0.    0.    0.    0.    0.    0.    0.    0.    0.    0.\n",
      " 0.    0.    0.    0.    0.    0.    0.    0.    0.    0.    0.    0.\n",
      " 0.    0.    0.    0.    0.    0.    0.    0.    0.    0.    0.    0.\n",
      " 0.    0.    0.    0.    0.    0.    0.    0.    0.    0.    0.    0.\n",
      " 0.    0.    0.    0.    0.    0.    0.    0.    0.    0.    0.    0.\n",
      " 0.    0.    0.    0.    0.    0.    0.    0.    0.    0.    0.    0.\n",
      " 0.    0.    0.    0.    0.    0.    0.    0.    0.    0.    0.    0.\n",
      " 0.    0.    0.    0.    0.    0.    0.    0.    0.    0.    0.    0.\n",
      " 0.    0.    0.    0.    0.    0.    0.    0.    0.    0.    0.    0.\n",
      " 0.    0.    0.    0.    0.    0.    0.    0.    0.    0.    0.    0.\n",
      " 0.    0.    0.    0.    0.    0.    0.    0.    0.    0.    0.    0.\n",
      " 0.    0.    0.    0.    0.    0.    0.    0.    0.    0.    0.    0.\n",
      " 0.    0.    0.    0.    0.    0.    0.    0.    0.    0.    0.    0.\n",
      " 0.    0.    0.    0.    0.    0.    0.    0.    0.    0.    0.    0.\n",
      " 0.    0.    0.    0.    0.    0.    0.    0.    0.    0.    0.    0.\n",
      " 0.    0.    0.    0.    0.    0.    0.    0.    0.    0.    0.    0.\n",
      " 0.    0.    0.    0.    0.    0.    0.    0.    0.    0.    0.    0.\n",
      " 0.    0.    0.    0.    0.    0.    0.    0.    0.    0.    0.    0.\n",
      " 0.    0.    0.    0.    0.    0.    0.    0.    0.    0.    0.    0.\n",
      " 0.    0.    0.    0.    0.    0.    0.    0.    0.    0.    0.    0.\n",
      " 0.    0.    0.    0.    0.    0.    0.    0.    0.    0.    0.    0.\n",
      " 0.    0.    0.    0.    0.    0.    0.    0.    0.    0.    0.    0.\n",
      " 0.    0.    0.    0.    0.    0.    0.    0.    0.    0.    0.    0.\n",
      " 0.    0.    0.    0.    0.    0.    0.    0.    0.    0.    0.    0.\n",
      " 0.    0.    0.    0.    0.    0.    0.    0.    0.    0.    0.    0.\n",
      " 0.    0.    0.    0.    0.    0.    0.    0.    0.    0.    0.    0.\n",
      " 0.    0.    0.    0.    0.    0.    0.    0.    0.    0.    0.    0.\n",
      " 0.    0.    0.    0.    0.    0.    0.    0.    0.    0.    0.    0.\n",
      " 0.    0.    0.    0.    0.    0.    0.    0.    0.    0.    0.    0.\n",
      " 0.    0.    0.    0.   ]\n"
     ]
    }
   ],
   "source": [
    "print(p_out)"
   ]
  },
  {
   "cell_type": "code",
   "execution_count": 20,
   "id": "f61611f1-3927-4c64-85a4-3f964832f516",
   "metadata": {},
   "outputs": [
    {
     "data": {
      "text/plain": [
       "<BarContainer object of 1000 artists>"
      ]
     },
     "execution_count": 20,
     "metadata": {},
     "output_type": "execute_result"
    },
    {
     "data": {
      "image/png": "[encoded data removed]",
      "text/plain": [
       "<Figure size 640x480 with 1 Axes>"
      ]
     },
     "metadata": {},
     "output_type": "display_data"
    }
   ],
   "source": [
    "x = np.linspace(0,len(p_out)-1,len(p_out))\n",
    "\n",
    "plt.xlabel(\"states\")\n",
    "plt.xlim(450,550)\n",
    "\n",
    "plt.bar(x,p_out)"
   ]
  },
  {
   "cell_type": "markdown",
   "id": "715b474a-6774-4a94-9bea-93d7ff2d4287",
   "metadata": {},
   "source": [
    "## Exercise 5"
   ]
  },
  {
   "cell_type": "markdown",
   "id": "50e7015b-dfbb-4fe7-9dca-e3427f85180f",
   "metadata": {},
   "source": [
    "In this exercise we will start to work with some unhomogenous matrix. This type of problems we will allow us to present another important type of simulations.\n",
    "\n",
    "Generally speaking there are two huge macro approach to the simulations in systems: the SD and the ABM. For the SD the book Thinking in Systems can be useful. However certain problem can be described using both the two approach while other can be written using only one of the two approches. Some problems are even an hybrid between two of them. If you want, at the end of this course I can do a small lecture about these two approaches. \n",
    "\n",
    "However, the simulations of all these kind of systems can be done again with one of the two methods and sometimes the implentation and simulation method will not coincide. "
   ]
  },
  {
   "cell_type": "markdown",
   "id": "b01daf9b-8aed-447f-b928-c0b5a7ea8fb4",
   "metadata": {},
   "source": [
    "We want to take in consideration the classical SIR problem.\n",
    "\n",
    "**SIR**: the SIR model is the most basic mathematical model to describe the behaviour of an epidemy. It works pretty well with malaria and it's used as base model to most complex epidemic model. According to the SIR, during an epidemy, all thhe population can be categorized in three classes: Susceptible, Infect, Removed. At each time instant we have that a person can pass from a class to another with a certain probability. The problem is that this probability is not fixed in time but depends on how many subjects there are for each category (es. the infection of a subsceptible is proportionaly frequent to the number of infects).\n",
    "We have the following defined transition\n",
    "\n",
    "- S -> I\n",
    "- I -> R\n",
    "\n",
    "This POV is based on a ABM approach but this problem can be also treated in SD considering not the single person but the number of subjects in each category."
   ]
  },
  {
   "cell_type": "markdown",
   "id": "4d0746ab-07a6-4e52-9703-2cb180645ace",
   "metadata": {},
   "source": [
    "Now we want to model a DTMC that will tell us given the starting probability for a person to be in each one of the categories the probability vector after a certain time of iterations $n$. Obviously the scenario we will change according to distribution of the population between the three categories at the beginning of the simulation. "
   ]
  },
  {
   "cell_type": "markdown",
   "id": "bbebbfd4-3622-4f02-a0c7-56132fc69699",
   "metadata": {},
   "source": [
    "The general idea to solve this problem is the subsequent. We will compute given a probability distribution using the matrix method. To compute the matrix we will performed a simulation with 1000 Agents that form the population that will evolve. This method allows us to consider a different initial probability distribution for the population and for our simulation. \n",
    "Technically doing this is as having a single person with an initial probability of being in one of the three states and look how it evolves. Obviously having different behaviours for the population we will need also to repeat this experiment multiple time and consider the mean probability distribution. \n",
    "\n",
    "This is not the only simulative method. There are different possibilities modelling different aspects. It's also theoretically possible to consider the population in a SD approach and evolve it. Obviously in this situation the equations will be different and computation of the matrix will be based on different mathematical operations. It's also possible to consider the population distribution and evolve it separately using the matrix and produce the newest with the new distribution."
   ]
  },
  {
   "cell_type": "code",
   "execution_count": null,
   "id": "16df10b3-f813-4a2f-af22-7207e4d02f5a",
   "metadata": {},
   "outputs": [],
   "source": []
  },
  {
   "cell_type": "code",
   "execution_count": null,
   "id": "4ab5dec8-b677-454c-bd06-bb0af1b52b43",
   "metadata": {},
   "outputs": [],
   "source": []
  },
  {
   "cell_type": "code",
   "execution_count": null,
   "id": "dfb0d16e-d83d-4899-8619-87e6f3ec060c",
   "metadata": {},
   "outputs": [],
   "source": []
  },
  {
   "cell_type": "code",
   "execution_count": null,
   "id": "e87d2066-7146-44cb-8fab-52d80da6f708",
   "metadata": {},
   "outputs": [],
   "source": []
  }
 ],
 "metadata": {
  "kernelspec": {
   "display_name": "Python 3 (ipykernel)",
   "language": "python",
   "name": "python3"
  },
  "language_info": {
   "codemirror_mode": {
    "name": "ipython",
    "version": 3
   },
   "file_extension": ".py",
   "mimetype": "text/x-python",
   "name": "python",
   "nbconvert_exporter": "python",
   "pygments_lexer": "ipython3",
   "version": "3.12.2"
  }
 },
 "nbformat": 4,
 "nbformat_minor": 5
}
