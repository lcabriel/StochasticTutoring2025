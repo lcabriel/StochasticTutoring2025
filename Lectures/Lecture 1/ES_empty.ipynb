{
 "cells": [
  {
   "cell_type": "code",
   "execution_count": null,
   "id": "4e93206f-e5f8-4a82-a1b6-a254ffb1f77c",
   "metadata": {},
   "outputs": [],
   "source": []
  },
  {
   "cell_type": "markdown",
   "id": "86efabf2-dff6-49c8-8873-666293b8fb88",
   "metadata": {},
   "source": [
    "## Exercise 1"
   ]
  },
  {
   "cell_type": "markdown",
   "id": "8e3b0396-c106-4e7e-a3ce-5c8ad5308d0c",
   "metadata": {},
   "source": [
    "Model:\n",
    "\n",
    "Let's consider the following problem about gambling: \n",
    "\n",
    "We have a game where, each turn, I have the probability to win a 1€ equal to $p_1=0.3$, to win 2€ equal to $p_2=0.1$ ad to lose 1€ equal to $p_{-1}=0.6$. The game ends if the player's sum reach N€ or 0€ with $N=5$. For the sake of this simulation, having capped the sum to 5€, we will consider the $p_1$ for the transition $4\\rightarrow 5$ equal to $0.4$ to grant the well definition of the problem.  \n",
    "\n",
    "We have to model this scenario defining the transition matrix, implement a function to check if the matrix is well-defined and test the defined matrix. At last calculate, given a initial probability distribution, the probability for each state after 8 steps."
   ]
  },
  {
   "cell_type": "markdown",
   "id": "e152b676-6d12-469a-9266-d6cb5d088cf3",
   "metadata": {},
   "source": [
    "![Alt text](es1.PNG \"graph\")"
   ]
  },
  {
   "cell_type": "code",
   "execution_count": null,
   "id": "b737b221-d8b7-4972-822b-d556da7a8cf5",
   "metadata": {},
   "outputs": [],
   "source": []
  },
  {
   "cell_type": "code",
   "execution_count": null,
   "id": "62438a14-1f63-449f-94ad-c5138e89492c",
   "metadata": {},
   "outputs": [],
   "source": []
  },
  {
   "cell_type": "code",
   "execution_count": null,
   "id": "5a4e3e36-86e7-4e70-8972-8eec4dd49823",
   "metadata": {
    "scrolled": true
   },
   "outputs": [],
   "source": []
  },
  {
   "cell_type": "code",
   "execution_count": null,
   "id": "9f9f3561-9814-491a-b29e-c05673ff62cf",
   "metadata": {},
   "outputs": [],
   "source": []
  },
  {
   "cell_type": "code",
   "execution_count": null,
   "id": "0dc61341-f858-40e6-b8e4-0270ad9ec856",
   "metadata": {},
   "outputs": [],
   "source": []
  },
  {
   "cell_type": "markdown",
   "id": "6aa6b9ee-9207-477a-afd3-d07f5efebc5e",
   "metadata": {},
   "source": [
    "## Exercise 2"
   ]
  },
  {
   "cell_type": "markdown",
   "id": "dac43963-98d2-42d2-9e25-14b77e6b76bd",
   "metadata": {},
   "source": [
    "Let's implement a basic class for the DTMC to use and modify then in the following exercises. We will simply copy and paste the function defined above and give them a general form."
   ]
  },
  {
   "cell_type": "code",
   "execution_count": null,
   "id": "2c9b9bbc-a72a-4725-a3db-6ebc8487d1f4",
   "metadata": {},
   "outputs": [],
   "source": []
  },
  {
   "cell_type": "code",
   "execution_count": null,
   "id": "a3c02878-e3d3-4bbf-8ee4-96089f64fecb",
   "metadata": {},
   "outputs": [],
   "source": []
  },
  {
   "cell_type": "markdown",
   "id": "b3257eef-3628-4019-a72a-7d47850e28da",
   "metadata": {},
   "source": [
    "## Exercise 3"
   ]
  },
  {
   "cell_type": "markdown",
   "id": "c3e84910-1a65-4744-ae5c-1192c827a036",
   "metadata": {},
   "source": [
    "Considering the model in the Exercise 1. We will now try to implement a version where there is no limit in how much money the Player can hold. In other words the space of the states is now coincident with $\\mathbb{N}$ and the only absorbing state will be 0€. "
   ]
  },
  {
   "cell_type": "code",
   "execution_count": null,
   "id": "53edc854-844f-4a00-8a66-925bb566a7d0",
   "metadata": {},
   "outputs": [],
   "source": []
  },
  {
   "cell_type": "code",
   "execution_count": null,
   "id": "f18f8141-43b1-42b2-8af4-3bd8f028ba93",
   "metadata": {},
   "outputs": [],
   "source": []
  },
  {
   "cell_type": "code",
   "execution_count": null,
   "id": "17e042e4-8ea2-4e8e-82d5-5f5e8f7df516",
   "metadata": {},
   "outputs": [],
   "source": []
  },
  {
   "cell_type": "code",
   "execution_count": null,
   "id": "f529769a-5fc6-4e2f-9c8f-a262a27f5619",
   "metadata": {},
   "outputs": [],
   "source": []
  },
  {
   "cell_type": "code",
   "execution_count": null,
   "id": "763b741b-ff89-4fd7-a47a-926b64f9f304",
   "metadata": {},
   "outputs": [],
   "source": []
  },
  {
   "cell_type": "code",
   "execution_count": null,
   "id": "05453c47-4f51-452f-8a82-d55d527f031b",
   "metadata": {},
   "outputs": [],
   "source": []
  },
  {
   "cell_type": "markdown",
   "id": "a33c2c25-e2e6-4ddf-834e-717390243cdc",
   "metadata": {},
   "source": [
    "## Exercise 4"
   ]
  },
  {
   "cell_type": "markdown",
   "id": "9acac13a-6909-4b16-8cc2-eaa0389c4757",
   "metadata": {},
   "source": [
    "As seen in the exercise above for infinite chains the usage of a matrix can be quite difficult even in a sparse implementation. However another problem working with matrix can appear when working with event spaces with too many elements that will produce enormous matrices or nonhomogenous probability situations. This problem can appear when using a too great number of iterations.\n",
    "\n",
    "In this case a simulative approach can be useful. We will try to write in this way the problem in the cell below and do some simuation given a starting probability array. This simulation method is based on an experimental mind set in which i send some entities inside the system and see how it reacts to them."
   ]
  },
  {
   "cell_type": "markdown",
   "id": "2ac201bf-44e4-4a61-a54a-ed30a2111df4",
   "metadata": {},
   "source": [
    "**PROBLEM**: Given a space of 1000 possible states. Suppose we are in a state $i$ we will have the following possible transitions:\n",
    "\n",
    "- $i\\rightarrow i\\pm 1$ with $p=0.25$\n",
    "- $i\\rightarrow i\\pm 2$ with $p=0.125$\n",
    "- $i\\rightarrow i\\pm 3$ with $p=0.0625$\n",
    "- $i\\rightarrow i\\pm 4$ with $p=0.03125$\n",
    "- $i\\rightarrow i\\pm 5$ with $p=0.03125$\n",
    "\n",
    "Suppose cyclic conditions at the border of the space. So if $i=4$ the transition to $-5$ will point to $999+4-5=998$. In a similar way if $i=998$ the transition $+5$ will have to point at $i=4$."
   ]
  },
  {
   "cell_type": "code",
   "execution_count": null,
   "id": "e6eabd44-64ba-4cac-93ae-5789a0940360",
   "metadata": {},
   "outputs": [],
   "source": []
  },
  {
   "cell_type": "code",
   "execution_count": null,
   "id": "6092bb83-73f8-456f-a73e-7de8fe50e4b3",
   "metadata": {},
   "outputs": [],
   "source": []
  },
  {
   "cell_type": "code",
   "execution_count": null,
   "id": "49d73af7-89a1-4571-b1d5-451be1b4ba13",
   "metadata": {},
   "outputs": [],
   "source": []
  },
  {
   "cell_type": "code",
   "execution_count": null,
   "id": "0b18c587-4259-4424-a1be-959218dd00fe",
   "metadata": {
    "scrolled": true
   },
   "outputs": [],
   "source": []
  },
  {
   "cell_type": "code",
   "execution_count": null,
   "id": "f61611f1-3927-4c64-85a4-3f964832f516",
   "metadata": {},
   "outputs": [],
   "source": []
  },
  {
   "cell_type": "markdown",
   "id": "715b474a-6774-4a94-9bea-93d7ff2d4287",
   "metadata": {},
   "source": [
    "## Exercise 5"
   ]
  },
  {
   "cell_type": "markdown",
   "id": "50e7015b-dfbb-4fe7-9dca-e3427f85180f",
   "metadata": {},
   "source": [
    "In this exercise we will start to work with some unhomogenous matrix. This type of problems we will allow us to present another important type of simulations.\n",
    "\n",
    "Generally speaking there are two huge macro approach to the simulations in systems: the SD and the ABM. For the SD the book Thinking in Systems can be useful. However certain problem can be described using both the two approach while other can be written using only one of the two approches. Some problems are even an hybrid between two of them. If you want, at the end of this course I can do a small lecture about these two approaches. \n",
    "\n",
    "However, the simulations of all these kind of systems can be done again with one of the two methods and sometimes the implentation and simulation method will not coincide. "
   ]
  },
  {
   "cell_type": "markdown",
   "id": "b01daf9b-8aed-447f-b928-c0b5a7ea8fb4",
   "metadata": {},
   "source": [
    "We want to take in consideration the classical SIR problem.\n",
    "\n",
    "**SIR**: the SIR model is the most basic mathematical model to describe the behaviour of an epidemy. It works pretty well with malaria and it's used as base model to most complex epidemic model. According to the SIR, during an epidemy, all thhe population can be categorized in three classes: Susceptible, Infect, Removed. At each time instant we have that a person can pass from a class to another with a certain probability. The problem is that this probability is not fixed in time but depends on how many subjects there are for each category (es. the infection of a subsceptible is proportionaly frequent to the number of infects).\n",
    "We have the following defined transition\n",
    "\n",
    "- S -> I\n",
    "- I -> R\n",
    "\n",
    "This POV is based on a ABM approach but this problem can be also treated in SD considering not the single person but the number of subjects in each category."
   ]
  },
  {
   "cell_type": "markdown",
   "id": "4d0746ab-07a6-4e52-9703-2cb180645ace",
   "metadata": {},
   "source": [
    "Now we want to model a DTMC that will tell us given the starting probability for a person to be in each one of the categories the probability vector after a certain time of iterations $n$. Obviously the scenario we will change according to distribution of the population between the three categories at the beginning of the simulation. "
   ]
  },
  {
   "cell_type": "markdown",
   "id": "bbebbfd4-3622-4f02-a0c7-56132fc69699",
   "metadata": {},
   "source": [
    "The general idea to solve this problem is the subsequent. We will compute given a probability distribution using the matrix method. To compute the matrix we will performed a simulation with 1000 Agents that form the population that will evolve. This method allows us to consider a different initial probability distribution for the population and for our simulation. \n",
    "Technically doing this is as having a single person with an initial probability of being in one of the three states and look how it evolves. Obviously having different behaviours for the population we will need also to repeat this experiment multiple time and consider the mean probability distribution. \n",
    "\n",
    "This is not the only simulative method. There are different possibilities modelling different aspects. It's also theoretically possible to consider the population in a SD approach and evolve it. Obviously in this situation the equations will be different and computation of the matrix will be based on different mathematical operations. It's also possible to consider the population distribution and evolve it separately using the matrix and produce the newest with the new distribution."
   ]
  },
  {
   "cell_type": "code",
   "execution_count": null,
   "id": "16df10b3-f813-4a2f-af22-7207e4d02f5a",
   "metadata": {},
   "outputs": [],
   "source": []
  },
  {
   "cell_type": "code",
   "execution_count": null,
   "id": "4ab5dec8-b677-454c-bd06-bb0af1b52b43",
   "metadata": {},
   "outputs": [],
   "source": []
  },
  {
   "cell_type": "code",
   "execution_count": null,
   "id": "dfb0d16e-d83d-4899-8619-87e6f3ec060c",
   "metadata": {},
   "outputs": [],
   "source": []
  },
  {
   "cell_type": "code",
   "execution_count": null,
   "id": "e87d2066-7146-44cb-8fab-52d80da6f708",
   "metadata": {},
   "outputs": [],
   "source": []
  }
 ],
 "metadata": {
  "kernelspec": {
   "display_name": "Python 3 (ipykernel)",
   "language": "python",
   "name": "python3"
  },
  "language_info": {
   "codemirror_mode": {
    "name": "ipython",
    "version": 3
   },
   "file_extension": ".py",
   "mimetype": "text/x-python",
   "name": "python",
   "nbconvert_exporter": "python",
   "pygments_lexer": "ipython3",
   "version": "3.12.2"
  }
 },
 "nbformat": 4,
 "nbformat_minor": 5
}
