{
 "cells": [
  {
   "cell_type": "code",
   "execution_count": 1,
   "id": "13d82af6-1c5d-4628-9a32-129bfa5c65c6",
   "metadata": {},
   "outputs": [],
   "source": [
    "import numpy as np\n",
    "import matplotlib.pyplot as plt\n",
    "import time\n",
    "import random\n",
    "from numpy.random import Generator, PCG64"
   ]
  },
  {
   "cell_type": "markdown",
   "id": "b412b089-d8a8-4462-bc60-7a62d7ee7a61",
   "metadata": {},
   "source": [
    "## Noise Induced Bifurcations"
   ]
  },
  {
   "cell_type": "markdown",
   "id": "eca99fe2-8db7-4ee9-ae42-c991a450c9de",
   "metadata": {},
   "source": [
    "For today problem we will start to look to the noise induced bifurcations. We will try to simulate a bit a particular problem but we will performed before a qualitative analysis. The problem we will treat today is known as **harvest process** and it's a small variant of the logistic problem seen in Lecture 3.\n",
    "\n",
    "**PROBLEM**: Let's consider a forest in which we have a normalized, upon the logistic carry value, amount of biomass $x$. The forest grows or shrinks accordingly to the logistic law. However this forest is not so uncontaminated by the human presence and some companies conducts lumberjack activities in the region cutting of a certain percentage of trees. So the equation for our deterministic problem is given by:\n",
    "\n",
    "$$\n",
    "\\frac{dx}{dt}=a_0\\left(x(1-x)\\right)-kx\n",
    "$$\n",
    "\n",
    "where $\\alpha$ is a reinforcement parameter for the growth and $k$ is the intensity of the deforestation activities. We are still missing something: the growth capability of the forest is not fixed in time but have a perturbation so $a_0\\rightarrow a_0+s\\xi(t)$. So our equation become:\n",
    "\n",
    "$$\n",
    "\\frac{dx}{dt}=a_0\\left(x(1-x)\\right)-kx+s(x(1-x))\\xi(t)\n",
    "$$\n",
    "\n",
    "**REQUEST**: Model this problem and define the usual features (probability projections, trajs,...) and analyze the probability distribution looking for the bifurcations."
   ]
  },
  {
   "cell_type": "markdown",
   "id": "8430ea6f-4d5b-470f-8318-28ba034e3cad",
   "metadata": {},
   "source": [
    "### Step 1: a bit of qualitative analysis"
   ]
  },
  {
   "cell_type": "markdown",
   "id": "981734fc-6c86-434c-86a5-e98f82b1ca13",
   "metadata": {},
   "source": [
    "Doing qualitative analysis in the SDS it's not easier as for their deterministic counterparts but we can try to work a bit. Please eyes up to the blackboard. "
   ]
  },
  {
   "cell_type": "markdown",
   "id": "2986e53d-1963-4815-a0bb-10897d915b3e",
   "metadata": {},
   "source": [
    "### Step 2: Constructing the class and first checks"
   ]
  },
  {
   "cell_type": "markdown",
   "id": "dceb2128-c45a-49c9-9b29-b35ba1e611ba",
   "metadata": {},
   "source": [
    "After this qualitative analysis we can start to build the class for our problem. We will recycle the code used in Lecture 3 adjusting the different parts:"
   ]
  },
  {
   "cell_type": "code",
   "execution_count": 2,
   "id": "dea97425-6f01-479b-bd56-ab75e924ae3b",
   "metadata": {},
   "outputs": [
    {
     "ename": "SyntaxError",
     "evalue": "invalid syntax (2517960068.py, line 44)",
     "output_type": "error",
     "traceback": [
      "\u001b[1;36m  Cell \u001b[1;32mIn[2], line 44\u001b[1;36m\u001b[0m\n\u001b[1;33m    f = lambda x: #WE HAVE TO WRITE OUR NEW FUNCTION HERE!!!!\u001b[0m\n\u001b[1;37m                  ^\u001b[0m\n\u001b[1;31mSyntaxError\u001b[0m\u001b[1;31m:\u001b[0m invalid syntax\n"
     ]
    }
   ],
   "source": [
    "#We need to change the function, the class vars and the stochastic formula\n",
    "\n",
    "class Harvest(object):\n",
    "    '''\n",
    "    This function will simulate trajectories for an initialize\n",
    "    perturbed logistic system\n",
    "    '''\n",
    "\n",
    "    def __init__(self,a0: float,k: float,s:float)->None:\n",
    "\n",
    "        return\n",
    "\n",
    "    def __checkInputs(self,x0: float,T: float,N: int)->None:\n",
    "        '''\n",
    "        Given the inputs for a trajectory, this method will\n",
    "        check if they are correct\n",
    "        '''\n",
    "        #x0 checks:\n",
    "        if x0<0:\n",
    "            raise RuntimeError(\"Initial population must be positive\")\n",
    "\n",
    "        #T checks:\n",
    "        if T<0:\n",
    "            raise RuntimeError(\"Time interval must have a positive lenght\")\n",
    "\n",
    "        #N checks:\n",
    "        if N<=1:\n",
    "            raise RuntimeError(\"The simulation must have at least two steps\")\n",
    "\n",
    "        return\n",
    "\n",
    "    def __RK4(self,t_n: float,y_n: float,h: float)->float:\n",
    "        '''\n",
    "        Given a point in the trajectory, the time instant and the step lenght,\n",
    "        this method will compute the variation for y using the RK4 for the \n",
    "        deterministic part of the PLS\n",
    "        '''\n",
    "        #Perform the check of the inputs. For N we hard code a good \n",
    "        self.__checkInputs(y_n,t_n,10)\n",
    "        \n",
    "        if h<=0:\n",
    "            raise RuntimeError(\"Given h is negative or 0\")\n",
    "\n",
    "        f = lambda x: #WE HAVE TO WRITE OUR NEW FUNCTION HERE!!!!\n",
    "        \n",
    "        k_1 = f(y_n)\n",
    "        k_2 = f(y_n+h*k_1/2)\n",
    "        k_3 = f(y_n+h*k_2/2)\n",
    "        k_4 = f(y_n+h*k_3)\n",
    "\n",
    "        return h*(k_1+2*k_2+2*k_3+k_4)/6\n",
    "        \n",
    "        \n",
    "    \n",
    "    def simulateTraj(self,x0: float,T: float,N: int): \n",
    "        '''\n",
    "        Given the initial population value x0, the considered interval lenght T\n",
    "        and the number of step in the computation N, this method will return a\n",
    "        trajectory for the PLS.\n",
    "        '''\n",
    "        #Check the inputs\n",
    "        self.__checkInputs(x0,T,N)\n",
    "\n",
    "        if T==0:\n",
    "            return np.array([x0])\n",
    "\n",
    "        #Setup step lenght and traj array\n",
    "        h = T/N\n",
    "        traj = np.zeros(N+1,dtype=float)\n",
    "        traj[0] = x0\n",
    "        time = np.zeros(N+1,dtype=float)\n",
    "        time[0] = 0.0\n",
    "\n",
    "        #Setup random generator\n",
    "        rng = Generator(PCG64())\n",
    "\n",
    "        for i in range(1,N+1):\n",
    "            time[i] = i*h\n",
    "            dx = self.__RK4(time[i-1],traj[i-1],h) #determinstic part\n",
    "            dx += #WE HAVE TO WRITE HERE THE NEW STOCHASTIC ADDITION!\n",
    "            traj[i] = traj[i-1] + dx\n",
    "            # GOING TO 0 BUT ONLY BEING DEFINED FOR POSITIVE WE NEED TO CHECK IF NEGATIVE => 0\n",
    "\n",
    "        return traj,time"
   ]
  },
  {
   "cell_type": "markdown",
   "id": "18fcc410-8900-4d99-8730-2e98a4de9a73",
   "metadata": {},
   "source": [
    "We will try using the following parameters a0=1.0, k=0.3. For now let's pose s=0.25 (so, according to the explanation) we should have an attractive in-domain point and 0 repulsive point."
   ]
  },
  {
   "cell_type": "code",
   "execution_count": null,
   "id": "bec4f0b2-38e8-4459-8f24-435443010e45",
   "metadata": {
    "scrolled": true
   },
   "outputs": [],
   "source": [
    "system = Harvest(1.0,0.3,0.25)\n",
    "\n",
    "tr1, time1 = system.simulateTraj(0.2,50,500)\n",
    "plt.plot(time1,tr1)"
   ]
  },
  {
   "cell_type": "markdown",
   "id": "c46d7089-fb56-43da-86f4-b1154e601021",
   "metadata": {},
   "source": [
    "To check that all works properly let's also produce the probability distribution for a bunch of trajectories"
   ]
  },
  {
   "cell_type": "code",
   "execution_count": null,
   "id": "88f41aa9-5688-460a-abdc-3e9624875914",
   "metadata": {},
   "outputs": [],
   "source": [
    "omega = [0.0,1.0] #0,100\n",
    "Nbins = 150 #100\n",
    "Nsim = 10000 #10000\n",
    "m = (omega[1]-omega[0])/Nbins\n",
    "system = Harvest(1.0,0.3,0.25)\n",
    "\n",
    "rng_0 = Generator(PCG64())\n",
    "\n",
    "bins = np.zeros(Nbins,dtype=float)\n",
    "\n",
    "for _ in range(Nsim):\n",
    "    ptraj,ttraj = system.simulateTraj(rng_0.uniform(low=omega[0],high=omega[1]),50,500)\n",
    "    for i in range(Nbins):\n",
    "        if ptraj[-1] < (m*(i+1)+omega[0]):\n",
    "            bins[i] += 1.0\n",
    "            break\n",
    "\n",
    "bins = bins/(Nsim*m)"
   ]
  },
  {
   "cell_type": "code",
   "execution_count": null,
   "id": "099cad36-a99b-4fe2-b6e8-95258589565e",
   "metadata": {},
   "outputs": [],
   "source": [
    "x = np.linspace(omega[0],omega[1],Nbins)\n",
    "\n",
    "plt.xlabel(\"x\")\n",
    "plt.xlim(0.0,1.0)\n",
    "plt.plot(x,bins)"
   ]
  },
  {
   "cell_type": "markdown",
   "id": "a538caec-5cf1-41ec-8440-864617ba2bae",
   "metadata": {},
   "source": [
    "### Step 3: Looking to other values for the noise"
   ]
  },
  {
   "cell_type": "markdown",
   "id": "4a360b64-f425-4a54-abd6-926db020bd06",
   "metadata": {},
   "source": [
    "Now we can start to analyze the problem to try to see if our predictions where correct. Looking to the previous relationship the bifurcation should be at\n",
    "\n",
    "$$\n",
    "s=\\sqrt{a_0-k}\\approx 0.84\n",
    "$$"
   ]
  },
  {
   "cell_type": "code",
   "execution_count": null,
   "id": "c218ada1-490a-4b27-a989-d5d71853f96c",
   "metadata": {},
   "outputs": [],
   "source": [
    "omega = [0.0,1.0] #0,100\n",
    "Nbins = 150 #100\n",
    "Nsim = 10000 #10000\n",
    "m = (omega[1]-omega[0])/Nbins\n",
    "system = Harvest(1.0,0.3,0.75)\n",
    "\n",
    "rng_0 = Generator(PCG64())\n",
    "\n",
    "bins = np.zeros(Nbins,dtype=float)\n",
    "\n",
    "for _ in range(Nsim):\n",
    "    ptraj,ttraj = system.simulateTraj(rng_0.uniform(low=omega[0],high=omega[1]),50,500)\n",
    "    for i in range(Nbins):\n",
    "        if ptraj[-1] < (m*(i+1)+omega[0]):\n",
    "            bins[i] += 1.0\n",
    "            break\n",
    "\n",
    "bins = bins/(Nsim*m)"
   ]
  },
  {
   "cell_type": "code",
   "execution_count": null,
   "id": "4a53db24-38c1-4b83-8206-6f9091136850",
   "metadata": {},
   "outputs": [],
   "source": [
    "x = np.linspace(omega[0],omega[1],Nbins)\n",
    "\n",
    "plt.xlabel(\"x\")\n",
    "plt.xlim(0.0,1.0)\n",
    "plt.plot(x,bins)"
   ]
  },
  {
   "cell_type": "code",
   "execution_count": null,
   "id": "d4686610-75cf-4a97-9def-e7a48b748245",
   "metadata": {},
   "outputs": [],
   "source": [
    "omega = [0.0,1.0] #0,100\n",
    "Nbins = 150 #100\n",
    "Nsim = 10000 #10000\n",
    "m = (omega[1]-omega[0])/Nbins\n",
    "system = Harvest(1.0,0.3,0.95)\n",
    "\n",
    "rng_0 = Generator(PCG64())\n",
    "\n",
    "bins = np.zeros(Nbins,dtype=float)\n",
    "\n",
    "for _ in range(Nsim):\n",
    "    ptraj,ttraj = system.simulateTraj(rng_0.uniform(low=omega[0],high=omega[1]),50,500)\n",
    "    for i in range(Nbins):\n",
    "        if ptraj[-1] < (m*(i+1)+omega[0]):\n",
    "            bins[i] += 1.0\n",
    "            break\n",
    "\n",
    "bins = bins/(Nsim*m)"
   ]
  },
  {
   "cell_type": "code",
   "execution_count": null,
   "id": "0862907e-dd05-445c-a5a0-749fa1b1d8d7",
   "metadata": {},
   "outputs": [],
   "source": [
    "x = np.linspace(omega[0],omega[1],Nbins)\n",
    "\n",
    "plt.xlabel(\"x\")\n",
    "plt.xlim(-0.01,1.0)\n",
    "plt.plot(x,bins)"
   ]
  },
  {
   "cell_type": "markdown",
   "id": "530e76a3-50b6-469b-93a7-eaf81fb35923",
   "metadata": {},
   "source": [
    "We have found the two behaviours and the bigfurcation found previously by qualitative analysis!"
   ]
  },
  {
   "cell_type": "markdown",
   "id": "d77a8291-2dc1-4a9f-b12c-4d40c2fe8b93",
   "metadata": {},
   "source": [
    "### Step 4: FIN... Waiiiit a minute..."
   ]
  },
  {
   "cell_type": "markdown",
   "id": "fc0cf6f4-4d08-49b4-9143-42bd2de8a130",
   "metadata": {},
   "source": [
    "<img src=\"wait_a_minute.jpg\" alt=\"drawing\" width=\"200\"/>"
   ]
  },
  {
   "cell_type": "markdown",
   "id": "43a24870-9655-4aea-821c-e98552edc11f",
   "metadata": {},
   "source": [
    "Ok, this is all nice and beautiful but one can make some observations and argue some aspects of our analysis:\n",
    "\n",
    "- Firstly, potentially $s$ has no upper limite. We can suppose to have enormous flutuations. We have only studied the behaviour of the fluctuations moving from $s=0$ to the bifucartion but for bigger values will there be others? During our analysis we said also that for growing $s$ the unstable point (the minimum between the two peaks above) moves towards 1. Let's try to check this property first at least: "
   ]
  },
  {
   "cell_type": "code",
   "execution_count": null,
   "id": "e4a45ad7-2433-40cb-bce3-ba92b92ed3ce",
   "metadata": {},
   "outputs": [],
   "source": [
    "omega = [0.0,1.0] #0,100\n",
    "Nbins = 150 #100\n",
    "Nsim = 10000 #10000\n",
    "m = (omega[1]-omega[0])/Nbins\n",
    "system = Harvest(1.0,0.3,1.05)\n",
    "\n",
    "rng_0 = Generator(PCG64())\n",
    "\n",
    "bins = np.zeros(Nbins,dtype=float)\n",
    "\n",
    "for _ in range(Nsim):\n",
    "    ptraj,ttraj = system.simulateTraj(rng_0.uniform(low=omega[0],high=omega[1]),50,500)\n",
    "    for i in range(Nbins):\n",
    "        if ptraj[-1] < (m*(i+1)+omega[0]):\n",
    "            bins[i] += 1.0\n",
    "            break\n",
    "\n",
    "bins = bins/(Nsim*m)"
   ]
  },
  {
   "cell_type": "code",
   "execution_count": null,
   "id": "02d5f94e-c416-4349-8704-72cbcd1b599a",
   "metadata": {},
   "outputs": [],
   "source": [
    "x = np.linspace(omega[0],omega[1],Nbins)\n",
    "\n",
    "plt.xlabel(\"x\")\n",
    "plt.xlim(-0.01,1.0)\n",
    "plt.plot(x,bins)"
   ]
  },
  {
   "cell_type": "markdown",
   "id": "e3e4ed56-5585-4360-aa9f-1a24d918127c",
   "metadata": {},
   "source": [
    "- Ok, this property seems correctly predicted. However what will happend for greater $s$? And even if we are able to find a bifurcation how we can be sure generally that is the last one?\n",
    "\n",
    "- Secondly, this behaviour has been observed for a fixed combination of $a0$ and $k$. Obviously we can imagine that exists a neighbourhood where this behaviour persist but can we be sure that chaing this parameters the behaviours will conserve? We have also to consider the fact that in a SDS there are still the old deterministic bifurcations and this can have a strong influence on the stochastic behvaiour itself!"
   ]
  },
  {
   "cell_type": "markdown",
   "id": "73a80a14-7f1e-4236-b4f2-c97f39e76159",
   "metadata": {},
   "source": [
    "The answer of all of these questions will be given in the following lectures."
   ]
  }
 ],
 "metadata": {
  "kernelspec": {
   "display_name": "Python 3 (ipykernel)",
   "language": "python",
   "name": "python3"
  },
  "language_info": {
   "codemirror_mode": {
    "name": "ipython",
    "version": 3
   },
   "file_extension": ".py",
   "mimetype": "text/x-python",
   "name": "python",
   "nbconvert_exporter": "python",
   "pygments_lexer": "ipython3",
   "version": "3.12.2"
  }
 },
 "nbformat": 4,
 "nbformat_minor": 5
}
