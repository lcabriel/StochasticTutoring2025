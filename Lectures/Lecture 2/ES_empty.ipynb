{
 "cells": [
  {
   "cell_type": "code",
   "execution_count": 1,
   "id": "d3095328-bfe2-445f-982f-12fa2a7549f4",
   "metadata": {},
   "outputs": [],
   "source": [
    "import numpy as np\n",
    "import matplotlib.pyplot as plt\n",
    "import random\n",
    "import scipy.integrate as deqsol"
   ]
  },
  {
   "cell_type": "markdown",
   "id": "a46ceb95-c12b-4d79-90ef-be9b167bdd0a",
   "metadata": {},
   "source": [
    "## Exercise 1"
   ]
  },
  {
   "cell_type": "markdown",
   "id": "475f2c7b-bdfa-42e8-8761-96799b0a592b",
   "metadata": {},
   "source": [
    "Today we will analyse the following problem and we will implement it both in a direct way both in a full simulative approach seeing also some time differences. The generic theoretical problem we want to model is:"
   ]
  },
  {
   "cell_type": "markdown",
   "id": "687675ad-750f-4331-9881-6a7a324750ab",
   "metadata": {},
   "source": [
    "<em>Let's suppose to have a system that can stay in one of 5 possible states namely $[0,1,2,3,4]$. The transition rates, needed to compute the infinitesimal generator, have to be randomly computed first and the matrix have to be adapted according to these. We want to compute the probability of being in each state given an initial probability distribution $p_0$ after a certain time $T$.</em>"
   ]
  },
  {
   "cell_type": "markdown",
   "id": "aab0aaf6-9251-492f-8f1a-4793984c2aa8",
   "metadata": {},
   "source": [
    "### STEP 1"
   ]
  },
  {
   "cell_type": "code",
   "execution_count": 2,
   "id": "df082cba-faf7-45af-9d02-de9d39684723",
   "metadata": {},
   "outputs": [],
   "source": [
    "random.seed(123456)"
   ]
  },
  {
   "cell_type": "code",
   "execution_count": null,
   "id": "af2e4e2a-83ec-44a7-8ecc-bc2c3e322ead",
   "metadata": {},
   "outputs": [],
   "source": []
  },
  {
   "cell_type": "code",
   "execution_count": null,
   "id": "1d9ce155-a57c-4fb3-90fd-38eb4958d181",
   "metadata": {},
   "outputs": [],
   "source": []
  },
  {
   "cell_type": "markdown",
   "id": "ffa74eb1-3c3e-4278-bf1b-111d5d82dcc9",
   "metadata": {},
   "source": [
    "### STEP 2"
   ]
  },
  {
   "cell_type": "markdown",
   "id": "40559265-1511-4e6d-95e6-b875df85cd11",
   "metadata": {},
   "source": [
    "Now we can solve the Kolmogorov equations using a solver and in this way compute the probability distribution given $p_0$ at a certain time $T$. To do this we will expand the class above"
   ]
  },
  {
   "cell_type": "code",
   "execution_count": 3,
   "id": "5ccf9c26-8a31-455f-9c04-2a68b245cdb6",
   "metadata": {},
   "outputs": [],
   "source": [
    "random.seed(123456)"
   ]
  },
  {
   "cell_type": "code",
   "execution_count": null,
   "id": "b46de763-2321-4b50-a703-ea685964134d",
   "metadata": {},
   "outputs": [],
   "source": []
  },
  {
   "cell_type": "code",
   "execution_count": null,
   "id": "5b1aef00-7516-471a-aa4b-9b1839b1b396",
   "metadata": {},
   "outputs": [],
   "source": []
  },
  {
   "cell_type": "code",
   "execution_count": null,
   "id": "20247f59-adbb-440c-b894-c5bc8cdb737b",
   "metadata": {},
   "outputs": [],
   "source": []
  },
  {
   "cell_type": "markdown",
   "id": "29289864-a501-4f3d-a776-38dd2c1b0f9e",
   "metadata": {},
   "source": [
    "## Exercise 2"
   ]
  },
  {
   "cell_type": "markdown",
   "id": "ec513889-a521-4870-898c-dc541bc69cf1",
   "metadata": {},
   "source": [
    "Ok, now let's try again but this time we will compute the probability in a simulative way. The idea is the same we have used in the Exercise 4 of the last notebook: we will produce $N_sim$ randomizing the initial state and after $T$ time we will collect the state of each simulation to compute the probability distribution.\n",
    "Obviously we need a method to produce the stochastic trajectories. To do this we will implement the Gillespie - SSA algorithm seen in class."
   ]
  },
  {
   "cell_type": "code",
   "execution_count": 4,
   "id": "6fc92ecc-6ae9-4aa0-88d3-88a6254b478c",
   "metadata": {},
   "outputs": [],
   "source": [
    "random.seed(123456)"
   ]
  },
  {
   "cell_type": "code",
   "execution_count": null,
   "id": "d59bef85-ef20-4642-a754-b9fda8f63cc7",
   "metadata": {},
   "outputs": [],
   "source": []
  },
  {
   "cell_type": "code",
   "execution_count": null,
   "id": "fd4286b4-9016-49bb-8587-148930c0aef1",
   "metadata": {
    "scrolled": true
   },
   "outputs": [],
   "source": []
  },
  {
   "cell_type": "code",
   "execution_count": null,
   "id": "abd51f05-e060-4b02-bb1d-871b015824fa",
   "metadata": {},
   "outputs": [],
   "source": []
  },
  {
   "cell_type": "code",
   "execution_count": null,
   "id": "33ec6348-309e-44fc-9dd2-e99889d6c359",
   "metadata": {},
   "outputs": [],
   "source": []
  }
 ],
 "metadata": {
  "kernelspec": {
   "display_name": "Python 3 (ipykernel)",
   "language": "python",
   "name": "python3"
  },
  "language_info": {
   "codemirror_mode": {
    "name": "ipython",
    "version": 3
   },
   "file_extension": ".py",
   "mimetype": "text/x-python",
   "name": "python",
   "nbconvert_exporter": "python",
   "pygments_lexer": "ipython3",
   "version": "3.12.2"
  }
 },
 "nbformat": 4,
 "nbformat_minor": 5
}
