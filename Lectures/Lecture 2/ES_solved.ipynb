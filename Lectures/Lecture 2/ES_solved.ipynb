{
 "cells": [
  {
   "cell_type": "code",
   "execution_count": 1,
   "id": "d3095328-bfe2-445f-982f-12fa2a7549f4",
   "metadata": {},
   "outputs": [],
   "source": [
    "import numpy as np\n",
    "import matplotlib.pyplot as plt\n",
    "import random\n",
    "import scipy.integrate as deqsol"
   ]
  },
  {
   "cell_type": "markdown",
   "id": "a46ceb95-c12b-4d79-90ef-be9b167bdd0a",
   "metadata": {},
   "source": [
    "## Exercise 1"
   ]
  },
  {
   "cell_type": "markdown",
   "id": "475f2c7b-bdfa-42e8-8761-96799b0a592b",
   "metadata": {},
   "source": [
    "Today we will analyse the following problem and we will implement it both in a direct way both in a full simulative approach seeing also some time differences. The generic theoretical problem we want to model is:"
   ]
  },
  {
   "cell_type": "markdown",
   "id": "687675ad-750f-4331-9881-6a7a324750ab",
   "metadata": {},
   "source": [
    "<em>Let's suppose to have a system that can stay in one of 5 possible states namely $[0,1,2,3,4]$. The transition rates, needed to compute the infinitesimal generator, have to be randomly computed first and the matrix have to be adapted according to these. We want to compute the probability of being in each state given an initial probability distribution $p_0$ after a certain time $T$.</em>"
   ]
  },
  {
   "cell_type": "markdown",
   "id": "aab0aaf6-9251-492f-8f1a-4793984c2aa8",
   "metadata": {},
   "source": [
    "### STEP 1"
   ]
  },
  {
   "cell_type": "code",
   "execution_count": 2,
   "id": "df082cba-faf7-45af-9d02-de9d39684723",
   "metadata": {},
   "outputs": [],
   "source": [
    "random.seed(123456)"
   ]
  },
  {
   "cell_type": "code",
   "execution_count": 3,
   "id": "af2e4e2a-83ec-44a7-8ecc-bc2c3e322ead",
   "metadata": {},
   "outputs": [],
   "source": [
    "#FIRSTLY, AS THE LAST TIME, LET'S CREATE A CLASS WITH THE INFINITESIMAL GENERATOR METHOD AND THE GENERATOR CHECK CONDITIONS\n",
    "\n",
    "class CTMC(object):\n",
    "    '''Continuous-Time Markov Chain Class'''\n",
    "\n",
    "    @staticmethod\n",
    "    def generator_check(M: np.matrix)->None:\n",
    "        '''\n",
    "        This method will check if the given generator\n",
    "        is valid or not.\n",
    "        '''\n",
    "\n",
    "        #Let's check first if it's 2D\n",
    "        if(M.ndim!=2):\n",
    "            raise RuntimeError(\"The infinitesimal generator have to be 2D\")\n",
    "\n",
    "        #2. Check if it's a squared matrix\n",
    "        if(np.shape(M)[0]!=np.shape(M)[1]):\n",
    "            raise RuntimeError(\"Number of rows is different from the number of columns\")\n",
    "\n",
    "        #3. Check if the out of diagonal coefficient are positive and if the row sum up to zero\n",
    "        #NOTE: with the positivity request is equivalent to ask the sum up to the diagonal coeff.\n",
    "        for i in range(np.shape(M)[0]):\n",
    "            s = 0\n",
    "            for j in range(np.shape(M)[1]):\n",
    "                if(M[i,j]<0 and i!=j): #Out of diagonal\n",
    "                    print(i,j)\n",
    "                    raise RuntimeError(\"The infinitesimal generator has a negative entry\")\n",
    "                s=s+M[i,j]\n",
    "            if(s>0.0000001): #Row sum up\n",
    "                print(i)\n",
    "                raise RuntimeError(\"The infinitesimal generator has a row that does not sum up to 0\")\n",
    "\n",
    "        return\n",
    "\n",
    "    def __infinitesimal_generator_maker(self)->np.matrix:\n",
    "        '''\n",
    "        This function will make the infinitesimal generator\n",
    "        for our problem.\n",
    "        '''\n",
    "        Q = np.zeros((self.n_states,self.n_states),dtype=float)\n",
    "\n",
    "        for i in range(self.n_states):\n",
    "            s = 0.0\n",
    "            for j in range(self.n_states):\n",
    "                if(i!=j):\n",
    "                    Q[i,j] = random.random()\n",
    "                    s += Q[i,j]\n",
    "            Q[i,i] = -1.0*s\n",
    "\n",
    "        return Q\n",
    "\n",
    "    #CONSTRUCTOR\n",
    "    def __init__(self,N: int)->None:\n",
    "        self.n_states= N\n",
    "        self.inf_generator = self.__infinitesimal_generator_maker()\n",
    "        self.generator_check(self.inf_generator)\n",
    "        return"
   ]
  },
  {
   "cell_type": "code",
   "execution_count": 4,
   "id": "1d9ce155-a57c-4fb3-90fd-38eb4958d181",
   "metadata": {},
   "outputs": [
    {
     "name": "stdout",
     "output_type": "stream",
     "text": [
      "[[-1.80376829e+00  8.05627136e-01  7.94059011e-01  2.94257611e-02\n",
      "   1.74656383e-01]\n",
      " [ 2.22987616e-03 -1.01168564e+00  6.63883067e-01  7.70493005e-02\n",
      "   2.68523395e-01]\n",
      " [ 1.16395190e-01  2.29025190e-01 -1.01894287e+00  4.87417585e-01\n",
      "   1.86104901e-01]\n",
      " [ 2.42717976e-02  9.13573609e-01  3.77348206e-01 -1.96195437e+00\n",
      "   6.46760760e-01]\n",
      " [ 3.69956643e-01  8.53996643e-01  7.66786144e-01  4.40198105e-01\n",
      "  -2.43093753e+00]]\n"
     ]
    }
   ],
   "source": [
    "chain = CTMC(5)\n",
    "print(chain.inf_generator)"
   ]
  },
  {
   "cell_type": "markdown",
   "id": "ffa74eb1-3c3e-4278-bf1b-111d5d82dcc9",
   "metadata": {},
   "source": [
    "### STEP 2"
   ]
  },
  {
   "cell_type": "markdown",
   "id": "40559265-1511-4e6d-95e6-b875df85cd11",
   "metadata": {},
   "source": [
    "Now we can solve the Kolmogorov equations using a solver and in this way compute the probability distribution given $p_0$ at a certain time $T$. To do this we will expand the class above"
   ]
  },
  {
   "cell_type": "code",
   "execution_count": 5,
   "id": "5ccf9c26-8a31-455f-9c04-2a68b245cdb6",
   "metadata": {},
   "outputs": [],
   "source": [
    "random.seed(123456)"
   ]
  },
  {
   "cell_type": "code",
   "execution_count": 6,
   "id": "b46de763-2321-4b50-a703-ea685964134d",
   "metadata": {},
   "outputs": [],
   "source": [
    "class CTMC(object):\n",
    "    '''Continuous-Time Markov Chain Class'''\n",
    "\n",
    "    @staticmethod\n",
    "    def generator_check(M: np.matrix)->None:\n",
    "        '''\n",
    "        This method will check if the given generator\n",
    "        is valid or not.\n",
    "        '''\n",
    "\n",
    "        #Let's check first if it's 2D\n",
    "        if(M.ndim!=2):\n",
    "            raise RuntimeError(\"The infinitesimal generator have to be 2D\")\n",
    "\n",
    "        #2. Check if it's a squared matrix\n",
    "        if(np.shape(M)[0]!=np.shape(M)[1]):\n",
    "            raise RuntimeError(\"Number of rows is different from the number of columns\")\n",
    "\n",
    "        #3. Check if the out of diagonal coefficient are positive and if the row sum up to zero\n",
    "        #NOTE: with the positivity request is equivalent to ask the sum up to the diagonal coeff.\n",
    "        for i in range(np.shape(M)[0]):\n",
    "            s = 0\n",
    "            for j in range(np.shape(M)[1]):\n",
    "                if(M[i,j]<0 and i!=j): #Out of diagonal\n",
    "                    print(i,j)\n",
    "                    raise RuntimeError(\"The infinitesimal generator has a negative entry\")\n",
    "                s=s+M[i,j]\n",
    "            if(s>0.0000001): #Row sum up\n",
    "                print(i)\n",
    "                raise RuntimeError(\"The infinitesimal generator has a row that does not sum up to 0\")\n",
    "\n",
    "        return\n",
    "\n",
    "    def Kolmogorov_solve(self,p0: np.array,T: float,M: int)->np.array:\n",
    "        '''\n",
    "        Given the initial probabiity distribution and the time T\n",
    "        This function will compute the probability array after\n",
    "        T seconds a partition of M steps\n",
    "        '''\n",
    "        p = np.array(self.n_states,dtype=float)\n",
    "\n",
    "        #define the system\n",
    "        def system(y,t):\n",
    "            p = y\n",
    "            dydt = np.dot(p,self.inf_generator)\n",
    "            return dydt\n",
    "\n",
    "        t = np.linspace(0,T,M)\n",
    "\n",
    "        sol = deqsol.odeint(system,p0,t) #compute the results\n",
    "\n",
    "        return sol #The solution has also all the intermediate steps\n",
    "\n",
    "    def __infinitesimal_generator_maker(self)->np.matrix:\n",
    "        '''\n",
    "        This function will make the infinitesimal generator\n",
    "        for our problem.\n",
    "        '''\n",
    "        Q = np.zeros((self.n_states,self.n_states),dtype=float)\n",
    "\n",
    "        for i in range(self.n_states):\n",
    "            s = 0.0\n",
    "            for j in range(self.n_states):\n",
    "                if(i!=j):\n",
    "                    Q[i,j] = random.random()\n",
    "                    s += Q[i,j]\n",
    "            Q[i,i] = -1.0*s\n",
    "\n",
    "        return Q\n",
    "\n",
    "    #CONSTRUCTOR\n",
    "    def __init__(self,N: int)->None:\n",
    "        self.n_states= N\n",
    "        self.inf_generator = self.__infinitesimal_generator_maker()\n",
    "        self.generator_check(self.inf_generator)\n",
    "        return"
   ]
  },
  {
   "cell_type": "code",
   "execution_count": 7,
   "id": "5b1aef00-7516-471a-aa4b-9b1839b1b396",
   "metadata": {},
   "outputs": [
    {
     "name": "stdout",
     "output_type": "stream",
     "text": [
      "[0.04831269 0.33270149 0.38213085 0.13220495 0.10465002]\n"
     ]
    }
   ],
   "source": [
    "chain = CTMC(5)\n",
    "p0 = np.array([0.2,0.2,0.2,0.2,0.2])\n",
    "\n",
    "trajs = chain.Kolmogorov_solve(p0,50.0,40)\n",
    "\n",
    "print(trajs[-1,:])"
   ]
  },
  {
   "cell_type": "code",
   "execution_count": 8,
   "id": "20247f59-adbb-440c-b894-c5bc8cdb737b",
   "metadata": {},
   "outputs": [
    {
     "data": {
      "image/png": "[encoded data removed]",
      "text/plain": [
       "<Figure size 640x480 with 1 Axes>"
      ]
     },
     "metadata": {},
     "output_type": "display_data"
    }
   ],
   "source": [
    "t = np.linspace(0,50.0,40)\n",
    "plt.plot(t, trajs[:, 0], 'r', label='p[0]')\n",
    "plt.plot(t, trajs[:, 1], 'g', label='p[1]')\n",
    "plt.plot(t, trajs[:, 2], 'b', label='p[2]')\n",
    "plt.plot(t, trajs[:, 3], 'cyan', label='p[3]')\n",
    "plt.plot(t, trajs[:, 4], 'brown', label='p[4]')\n",
    "plt.legend(loc='best')\n",
    "plt.xlabel('t')\n",
    "plt.ylabel('p')\n",
    "plt.grid()\n",
    "plt.show()"
   ]
  },
  {
   "cell_type": "markdown",
   "id": "29289864-a501-4f3d-a776-38dd2c1b0f9e",
   "metadata": {},
   "source": [
    "## Exercise 2"
   ]
  },
  {
   "cell_type": "markdown",
   "id": "ec513889-a521-4870-898c-dc541bc69cf1",
   "metadata": {},
   "source": [
    "Ok, now let's try again but this time we will compute the probability in a simulative way. The idea is the same we have used in the Exercise 4 of the last notebook: we will produce $N_sim$ randomizing the initial state and after $T$ time we will collect the state of each simulation to compute the probability distribution.\n",
    "Obviously we need a method to produce the stochastic trajectories. To do this we will implement the Gillespie - SSA algorithm seen in class."
   ]
  },
  {
   "cell_type": "code",
   "execution_count": 9,
   "id": "6fc92ecc-6ae9-4aa0-88d3-88a6254b478c",
   "metadata": {},
   "outputs": [],
   "source": [
    "random.seed(123456)"
   ]
  },
  {
   "cell_type": "code",
   "execution_count": 10,
   "id": "d59bef85-ef20-4642-a754-b9fda8f63cc7",
   "metadata": {},
   "outputs": [],
   "source": [
    "#AS ALWAYS LET'S PRODUCE A CLASS STARTING FROM THE BASE SEEN BEFORE\n",
    "\n",
    "class CTMC_SIM(object):\n",
    "    '''\n",
    "    Continuous-Time Markov Chain Class\n",
    "    based on a simulative approach.\n",
    "    '''\n",
    "\n",
    "    @staticmethod\n",
    "    def generator_check(M: np.matrix)->None:\n",
    "        '''\n",
    "        This method will check if the given generator\n",
    "        is valid or not.\n",
    "        '''\n",
    "\n",
    "        #Let's check first if it's 2D\n",
    "        if(M.ndim!=2):\n",
    "            raise RuntimeError(\"The infinitesimal generator have to be 2D\")\n",
    "\n",
    "        #2. Check if it's a squared matrix\n",
    "        if(np.shape(M)[0]!=np.shape(M)[1]):\n",
    "            raise RuntimeError(\"Number of rows is different from the number of columns\")\n",
    "\n",
    "        #3. Check if the out of diagonal coefficient are positive and if the row sum up to zero\n",
    "        #NOTE: with the positivity request is equivalent to ask the sum up to the diagonal coeff.\n",
    "        for i in range(np.shape(M)[0]):\n",
    "            s = 0\n",
    "            for j in range(np.shape(M)[1]):\n",
    "                if(M[i,j]<0 and i!=j): #Out of diagonal\n",
    "                    print(i,j)\n",
    "                    raise RuntimeError(\"The infinitesimal generator has a negative entry\")\n",
    "                s=s+M[i,j]\n",
    "            if(s>0.0000001): #Row sum up\n",
    "                print(i)\n",
    "                raise RuntimeError(\"The infinitesimal generator has a row that does not sum up to 0\")\n",
    "\n",
    "        return\n",
    "\n",
    "    @staticmethod\n",
    "    def jump_chain_mat_generator(Q: np.matrix)->np.matrix:\n",
    "        '''\n",
    "        This function will take a supposed valid\n",
    "        infinitesimal generator and will produce\n",
    "        the transition matrix for the associated\n",
    "        jump chain.\n",
    "        '''\n",
    "\n",
    "        n = np.shape(Q)[0]\n",
    "        J = np.zeros((n,n),dtype=float)\n",
    "\n",
    "        for i in range(n):\n",
    "            a = -Q[i,i]\n",
    "            for j in range(n):\n",
    "                if(i!=j):\n",
    "                    J[i,j]=Q[i,j]/a\n",
    "\n",
    "            J[i,i]=0\n",
    "\n",
    "        return J\n",
    "\n",
    "    @staticmethod\n",
    "    def exp_time(l: float)->float:\n",
    "        '''\n",
    "        Given the rate, this function will generate a random time\n",
    "        exponentially distributed\n",
    "        '''\n",
    "        r = random.random()\n",
    "        n = -np.log(1-r)/l\n",
    "\n",
    "        return n\n",
    "\n",
    "    def __infinitesimal_generator_maker(self)->np.matrix:\n",
    "        '''\n",
    "        This function will make the infinitesimal generator\n",
    "        for our problem.\n",
    "        '''\n",
    "        Q = np.zeros((self.n_states,self.n_states),dtype=float)\n",
    "\n",
    "        for i in range(self.n_states):\n",
    "            s = 0.0\n",
    "            for j in range(self.n_states):\n",
    "                if(i!=j):\n",
    "                    Q[i,j] = random.random()\n",
    "                    s += Q[i,j]\n",
    "            Q[i,i] = -1.0*s\n",
    "\n",
    "        return Q\n",
    "\n",
    "    #COMPUTE CUMULATIVE PROBABILITY ARRAY\n",
    "    def __cumulativeTransformer(self,p0:np.array)->np.array:\n",
    "        '''\n",
    "        Given a probability array this function will compute\n",
    "        the cumulative of such distribution.\n",
    "        '''\n",
    "        p = np.zeros(len(p0),dtype=float)\n",
    "        p[0] = p0[0]\n",
    "\n",
    "        for i in range(1,len(p)):\n",
    "            p[i] = p0[i] + p[i-1]\n",
    "        \n",
    "        return p\n",
    "\n",
    "    #STATE COMPUTATION\n",
    "    def __obtainState(self,p0:np.array)->int:\n",
    "        '''\n",
    "        Given a probability distribution of the state this function will\n",
    "        produce a weighted random state.\n",
    "        '''\n",
    "        p = self.__cumulativeTransformer(p0)\n",
    "\n",
    "        r = random.random()\n",
    "        s = 0\n",
    "        \n",
    "        for i in range(len(p0)):\n",
    "            if((r<p[i]) and (abs(p[i]-p[i-1])>0.0000001)):\n",
    "                s = i\n",
    "                break\n",
    "        return s\n",
    "\n",
    "    def __simulationSSA(self,p0: np.array,T: float)->int:\n",
    "        '''\n",
    "        This function will use the Gillespie-SSA algorithm\n",
    "        to produce a stochastic trajectory for the CTCM\n",
    "        '''\n",
    "        #First thing we need to do is to obtain the transition mat of the jump chain\n",
    "        P = self.jump_chain_mat\n",
    "\n",
    "        #Simulate the trajectory\n",
    "        state_0 = self.__obtainState(p0) #generate the initial state\n",
    "        time = 0.0 #initialize time\n",
    "\n",
    "        while(time<T):\n",
    "            state_1 = self.__obtainState(P[state_0,:])\n",
    "            time = time + self.exp_time(self.inf_generator[state_0,state_1])\n",
    "            if(time>T):\n",
    "                break\n",
    "            state_0 = state_1\n",
    "            \n",
    "\n",
    "        return state_0\n",
    "\n",
    "    def compute_prob_dist(self,p0:np.array,T: float,Nsim: int)->np.array:\n",
    "        '''\n",
    "        Given the initial distribution this function will produce\n",
    "        the distribution after time T using Nsim simulations\n",
    "        '''\n",
    "        #if T=0 no projections have to be made\n",
    "        if(T==0):\n",
    "            return p0\n",
    "    \n",
    "        #if T is negative it as no sense \n",
    "        if(T<0):\n",
    "            raise RuntimeError(\"Negative time for forward prediction\")\n",
    "\n",
    "        #Check Nsim\n",
    "        if(Nsim<=0):\n",
    "            raise RuntimeError(\"Non positive number of simulations\")\n",
    "    \n",
    "        #Create the bins vector\n",
    "        bins = np.zeros(self.n_states,dtype=float)\n",
    "        \n",
    "        for i in range(Nsim):\n",
    "            s = self.__simulationSSA(p0,T) #simulate a CTMC's traj\n",
    "            bins[s] += 1.0\n",
    "\n",
    "        #Normalization\n",
    "        bins = bins/Nsim\n",
    "        \n",
    "        return bins\n",
    "        \n",
    "\n",
    "    #CONSTRUCTOR\n",
    "    def __init__(self,N: int)->None:\n",
    "        self.n_states= N\n",
    "        self.inf_generator = self.__infinitesimal_generator_maker()\n",
    "        self.generator_check(self.inf_generator)\n",
    "        self.jump_chain_mat = self.jump_chain_mat_generator(self.inf_generator)\n",
    "        return"
   ]
  },
  {
   "cell_type": "code",
   "execution_count": 11,
   "id": "fd4286b4-9016-49bb-8587-148930c0aef1",
   "metadata": {
    "scrolled": true
   },
   "outputs": [
    {
     "name": "stdout",
     "output_type": "stream",
     "text": [
      "[0.0482 0.291  0.4174 0.1277 0.1157]\n"
     ]
    }
   ],
   "source": [
    "chain = CTMC_SIM(5)\n",
    "p0 = np.array([0.2,0.2,0.2,0.2,0.2])\n",
    "\n",
    "p_out = chain.compute_prob_dist(p0,50.0,10000)\n",
    "\n",
    "print(p_out)"
   ]
  },
  {
   "cell_type": "code",
   "execution_count": 12,
   "id": "abd51f05-e060-4b02-bb1d-871b015824fa",
   "metadata": {},
   "outputs": [
    {
     "data": {
      "text/plain": [
       "<BarContainer object of 5 artists>"
      ]
     },
     "execution_count": 12,
     "metadata": {},
     "output_type": "execute_result"
    },
    {
     "data": {
      "image/png": "[encoded data removed]",
      "text/plain": [
       "<Figure size 640x480 with 1 Axes>"
      ]
     },
     "metadata": {},
     "output_type": "display_data"
    }
   ],
   "source": [
    "x = np.linspace(0,len(p_out)-1,len(p_out))\n",
    "\n",
    "plt.xlabel(\"states\")\n",
    "\n",
    "plt.bar(x,p_out)"
   ]
  },
  {
   "cell_type": "code",
   "execution_count": null,
   "id": "33ec6348-309e-44fc-9dd2-e99889d6c359",
   "metadata": {},
   "outputs": [],
   "source": []
  }
 ],
 "metadata": {
  "kernelspec": {
   "display_name": "Python 3 (ipykernel)",
   "language": "python",
   "name": "python3"
  },
  "language_info": {
   "codemirror_mode": {
    "name": "ipython",
    "version": 3
   },
   "file_extension": ".py",
   "mimetype": "text/x-python",
   "name": "python",
   "nbconvert_exporter": "python",
   "pygments_lexer": "ipython3",
   "version": "3.12.2"
  }
 },
 "nbformat": 4,
 "nbformat_minor": 5
}
