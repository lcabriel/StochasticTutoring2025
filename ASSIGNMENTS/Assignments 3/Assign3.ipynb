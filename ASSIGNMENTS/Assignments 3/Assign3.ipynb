{
 "cells": [
  {
   "cell_type": "markdown",
   "id": "822a89f5-a442-4f8d-a436-a58f7d8a46e7",
   "metadata": {},
   "source": [
    "# Assignment 3 (Simulations of a SDE)"
   ]
  },
  {
   "cell_type": "markdown",
   "id": "bf643900-927c-4a73-b84a-9accc023c5be",
   "metadata": {},
   "source": [
    "## EXERCISE 1"
   ]
  },
  {
   "cell_type": "markdown",
   "id": "80a569cd-b5a5-4d4d-95d2-09b1f293498f",
   "metadata": {},
   "source": [
    "We have seen in class how we are able to produce stochastic simulations using a variant of the Maruyama algorithm. In this tough assignment I will ask you to do something more. In fact the Maruyama alg. is used to simulate the $dW$ part of the stochastic differential equation but this noise (known as **white gaussian noise** or simply **white noise**) is not the only possible one. \n",
    "For this problem we will have a noise known as **white shot noise**. The noise acts as an impulsive force with a stochastic intensity capped by a certain parameter $\\alpha$. Moreover the occurance of this events is also stochastic and the time for the next event follow an exponential distribution with rate $\\lambda$. Graphically is something like this:"
   ]
  },
  {
   "cell_type": "markdown",
   "id": "371119e9-1383-4729-886d-a60ac2f58a42",
   "metadata": {},
   "source": [
    "<img src=\"white_shot.PNG\" alt=\"drawing\" width=\"400\"/>"
   ]
  },
  {
   "cell_type": "markdown",
   "id": "ebaa8a8c-8d09-4903-9b03-384b14e5aba0",
   "metadata": {},
   "source": [
    "I will not say how to model this kind of noise but you will realize that there will be some problems due to the changes of $dt$. With some calculus you should be able to solve this situation. You can also search online for some kind of algorithms to implement to simulate this but, if you do this, please link me in you notebook the references.\n",
    "\n",
    "So you have to model this problem:"
   ]
  },
  {
   "cell_type": "markdown",
   "id": "28478d9d-13f9-4e38-9d08-1a13a68b1708",
   "metadata": {},
   "source": [
    "**PROBLEM**: This is a variant of the harvest process seen in class. It's called **harvest events process** or, more commonly, **fire-induced tree grass coexistence**. The reason of this name is due to the fact that the fires' nature act as an harvest factor and is a shot event. The deterministic equation for this system is same of the harvest process:\n",
    "\n",
    "$$\n",
    "\\frac{dx}{dt}=a_0x(1-x)-kx\n",
    "$$\n",
    "\n",
    "but this time we will suppose that $k=\\xi_{sn}^{\\alpha,\\lambda}$.\n",
    "\n",
    "**REQUEST**: Model and implement the problem defining the functions to compute the trajectories and to obtain the usual distributions for our system (Step 2, Lecture 5)."
   ]
  },
  {
   "cell_type": "markdown",
   "id": "bffa8103-68ad-45df-a5ad-6f5b2887c3c8",
   "metadata": {},
   "source": [
    "## EXERCISE 2"
   ]
  },
  {
   "cell_type": "markdown",
   "id": "a378ea7c-54cf-412a-97cc-e1427b5d40c8",
   "metadata": {},
   "source": [
    "**REQUEST**: Using the model obtained in the first point performed a bit of analysis for the NIT using different parameters. Try to explore seeing if there are some particular cases. More things you will do better the mark will be. You can take as inspiration what we have done in class in Lecture 6-7. "
   ]
  },
  {
   "cell_type": "markdown",
   "id": "090fc5d4-8f68-4a8e-8e99-01affad6e793",
   "metadata": {},
   "source": [
    "**EXTRA**: Perform a bit of qualitative analysis. This time will be a bit more complex because you have not the Ito formula if you do not make the conversion to this noise to the $dW$. There are however other ways to understand some properties of the system. Please attach you calculus in a separate file."
   ]
  },
  {
   "cell_type": "code",
   "execution_count": null,
   "id": "2e586489-4274-4c14-9cf2-ef7381d65d07",
   "metadata": {},
   "outputs": [],
   "source": []
  }
 ],
 "metadata": {
  "kernelspec": {
   "display_name": "Python 3 (ipykernel)",
   "language": "python",
   "name": "python3"
  },
  "language_info": {
   "codemirror_mode": {
    "name": "ipython",
    "version": 3
   },
   "file_extension": ".py",
   "mimetype": "text/x-python",
   "name": "python",
   "nbconvert_exporter": "python",
   "pygments_lexer": "ipython3",
   "version": "3.12.2"
  }
 },
 "nbformat": 4,
 "nbformat_minor": 5
}
