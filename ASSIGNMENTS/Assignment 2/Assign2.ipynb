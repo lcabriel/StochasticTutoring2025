{
 "cells": [
  {
   "cell_type": "markdown",
   "id": "001b7e78-a416-45fb-be36-fae2a4095338",
   "metadata": {},
   "source": [
    "# Assignment 2 (NIT Analysis)"
   ]
  },
  {
   "cell_type": "markdown",
   "id": "abb0e8ee-198e-4418-b73b-7f1112770da6",
   "metadata": {},
   "source": [
    "During the last lectures, we have analysed in different ways the properties of the Harvest Process finding the Noise Induced Transitions that characterize this model. In this second assignment, I will ask you to perform the same kind of tests and analysis seen in class to explore the model. I would like to see a complete analysis therefore you should start in analyzing the critical point of the model for the different region of the parameters'space. After this, you should analyse the Noise Induced Transition understanding how the noise affects the behaviour in the different regions of the parameters space, as done in class. \n",
    "The proposed model is the following one:\n",
    "\n",
    "$$\n",
    "dx = \\left[a_0x(1-x)-kx+\\beta\\right]dt+sx(1-x)dW\n",
    "$$\n",
    "\n",
    "which is almost identical to the Harvest Process but this time, we have also a positive inflow term $\\beta$ which is independent by the state of the variable $x$. For simplicity, we will set $a_0=1$.\n",
    "As said, the analysis of the critical points,the NITs and the behaviours has to be conducted as we done in class in the last two lectures (obviously the regions will be different and you have to discover them) via numerical analysis. However...\n",
    "\n",
    "**EXTRA**: ... as extra, I will be glad to see some qualitative analysis. This task is optional as always, however, I strongly suggest you to do it because can help you to limit the different regions of the parameters'space, and their properties, without searching randomly. "
   ]
  },
  {
   "cell_type": "code",
   "execution_count": null,
   "id": "fee483f2-6936-40a8-9e66-4a5332d32600",
   "metadata": {},
   "outputs": [],
   "source": []
  }
 ],
 "metadata": {
  "kernelspec": {
   "display_name": "Python 3 (ipykernel)",
   "language": "python",
   "name": "python3"
  },
  "language_info": {
   "codemirror_mode": {
    "name": "ipython",
    "version": 3
   },
   "file_extension": ".py",
   "mimetype": "text/x-python",
   "name": "python",
   "nbconvert_exporter": "python",
   "pygments_lexer": "ipython3",
   "version": "3.12.2"
  }
 },
 "nbformat": 4,
 "nbformat_minor": 5
}
