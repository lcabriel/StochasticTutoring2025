{
 "cells": [
  {
   "cell_type": "markdown",
   "id": "d221111e-1b59-4a6e-8d45-1ecaa9e7ede2",
   "metadata": {},
   "source": [
    "# Assignment 1 (DTMC & CTMC, part 1)"
   ]
  },
  {
   "cell_type": "markdown",
   "id": "9eed1113-a307-4c6f-a0b7-623e8a3f7d60",
   "metadata": {},
   "source": [
    "## Exercise 1"
   ]
  },
  {
   "cell_type": "markdown",
   "id": "93e53760-b76c-4788-8622-d75c8a03dd6e",
   "metadata": {},
   "source": [
    "### EL BOTELLON"
   ]
  },
  {
   "cell_type": "markdown",
   "id": "c07246e6-73e4-478b-a4f1-2a64480cc7ab",
   "metadata": {},
   "source": [
    "In this exercise we will try to model a classical example of emergent behaviour due to stochastic mechanics (we will talk better and deeper about emergence in the future tutoring sessions). This phenonmena that we will model is known has El Botellon and happens on Saturday's nights in certain spanish cities such as Granada. People go out to party and start to wander between $M$ plazas howerver at the end of the night $M-1$ plazas are almost deserted while one is packed. The packed plaza is not the same every time. "
   ]
  },
  {
   "cell_type": "markdown",
   "id": "5bd76006-a318-42f6-8bd9-532e64d5423b",
   "metadata": {},
   "source": [
    "This phenomena can be explained supposing that the transition probability between a plaza A and plaza B for a person is proportional to the number of people in plaza B. For the sake of our exercise suppose that only the number of people in plaza B is relevant for the transition and not the difference between plaza A and plaza B. "
   ]
  },
  {
   "cell_type": "markdown",
   "id": "c247f027-4d51-4673-9885-0799a37592d1",
   "metadata": {},
   "source": [
    "**REQUEST**: implement a DTMC class as shown during Lecture 4 Exercise 1 to simulate a population system as done for the SIR. Consider the \"categories\" of our problem the $M$ plazas and produce the usual function in which given the probability distribution of the simulation and the initial distribution of the population produce the probability distribution after $N$. Obviously, the population have to evolve as well producing a variation in the probability for each transitions."
   ]
  }
 ],
 "metadata": {
  "kernelspec": {
   "display_name": "Python 3 (ipykernel)",
   "language": "python",
   "name": "python3"
  },
  "language_info": {
   "codemirror_mode": {
    "name": "ipython",
    "version": 3
   },
   "file_extension": ".py",
   "mimetype": "text/x-python",
   "name": "python",
   "nbconvert_exporter": "python",
   "pygments_lexer": "ipython3",
   "version": "3.12.2"
  }
 },
 "nbformat": 4,
 "nbformat_minor": 5
}
