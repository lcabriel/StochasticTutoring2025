{
 "cells": [
  {
   "cell_type": "markdown",
   "id": "ad2021a4-061e-4410-b83a-65fd48b3cd6b",
   "metadata": {},
   "source": [
    "# Assignment 4"
   ]
  },
  {
   "cell_type": "markdown",
   "id": "21942a8c-c257-4e79-aeea-c0aec44bd378",
   "metadata": {},
   "source": [
    "## Exercise 1"
   ]
  },
  {
   "cell_type": "markdown",
   "id": "ba44fab6-c90a-4397-a8e5-2658ebfad21e",
   "metadata": {},
   "source": [
    "In this last assignment I will ask you simply to perform an error analysis as done during the last tutoring session (ES1). The error analysis should be perform on the simulations of the model I asked you to implement and analyse in the previous assignment but this time using a gaussian error (the usual one). You have to simple reproduce all the things I have done in the ES1 but for the parameters of the model. Remember also to analyse the probability distribution, a priori or a posteriori, to understand if some configurations does not produce an integrable analytical distribution. \n",
    "\n",
    "EXTRA: I think that you will need a bit of qualitative analysis to do this so, please, attach to your assignment you calculus"
   ]
  },
  {
   "cell_type": "markdown",
   "id": "2573e66c-3953-4dff-b0f3-a42a89f1bd43",
   "metadata": {},
   "source": [
    "## Exercise 2"
   ]
  },
  {
   "cell_type": "markdown",
   "id": "8d57067a-dc1a-4060-a615-9dd947466610",
   "metadata": {},
   "source": [
    "For the second exercise you have to study if there are some kind of links on the parameters as done in ES2 of the last lecture. Try to play a bit with your parameters and the grid if you suspect the presence of some links."
   ]
  },
  {
   "cell_type": "code",
   "execution_count": null,
   "id": "c0b882db-985f-4d5f-b958-5c7faa55cab6",
   "metadata": {},
   "outputs": [],
   "source": []
  }
 ],
 "metadata": {
  "kernelspec": {
   "display_name": "Python 3 (ipykernel)",
   "language": "python",
   "name": "python3"
  },
  "language_info": {
   "codemirror_mode": {
    "name": "ipython",
    "version": 3
   },
   "file_extension": ".py",
   "mimetype": "text/x-python",
   "name": "python",
   "nbconvert_exporter": "python",
   "pygments_lexer": "ipython3",
   "version": "3.9.18"
  }
 },
 "nbformat": 4,
 "nbformat_minor": 5
}
