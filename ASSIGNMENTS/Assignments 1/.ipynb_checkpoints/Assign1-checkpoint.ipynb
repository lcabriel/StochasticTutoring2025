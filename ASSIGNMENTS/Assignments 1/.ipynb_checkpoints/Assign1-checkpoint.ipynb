{
 "cells": [
  {
   "cell_type": "markdown",
   "id": "d221111e-1b59-4a6e-8d45-1ecaa9e7ede2",
   "metadata": {},
   "source": [
    "# Assignment 1 (DTMC & CTMC, part 1)"
   ]
  },
  {
   "cell_type": "markdown",
   "id": "9eed1113-a307-4c6f-a0b7-623e8a3f7d60",
   "metadata": {},
   "source": [
    "## Exercise 1"
   ]
  },
  {
   "cell_type": "markdown",
   "id": "93e53760-b76c-4788-8622-d75c8a03dd6e",
   "metadata": {},
   "source": [
    "### ALTERNATING WHEEL"
   ]
  },
  {
   "cell_type": "markdown",
   "id": "c07246e6-73e4-478b-a4f1-2a64480cc7ab",
   "metadata": {},
   "source": [
    "Let's consider the problem in Figure. We have a system of possible states which are linked in this kind of wheel. "
   ]
  },
  {
   "cell_type": "markdown",
   "id": "dcb3cfda-0005-4eb0-87ac-8094e8aafdce",
   "metadata": {},
   "source": [
    "<img src=\"wheel_scheme.PNG\" alt=\"drawing\" width=\"512\"/>"
   ]
  },
  {
   "cell_type": "markdown",
   "id": "6a50ee6d-bb88-4087-bf39-d4d090dfb20b",
   "metadata": {},
   "source": [
    "This wheel is composed by two rings one internal and one external linked orthogonally. They are characterize by transition probabilities $\\lambda_1,\\lambda_2,\\lambda_{12}$. However this wheel has also a particular property. At each iteration of the system there is a probability of $10\\%$ that the external wheel of links change its verse from counter clockwise to clockwise and viceversa (NOTE: So there are two possible transition matrix for the system). \n"
   ]
  },
  {
   "cell_type": "markdown",
   "id": "c247f027-4d51-4673-9885-0799a37592d1",
   "metadata": {},
   "source": [
    "**REQUEST**: implement a DTMC class as shown during lectures being able to simulate this system. The probabilities can be choose on your own and it's possible to differentiate $\\lambda_{12}$ for the two directions. The class must have a method that allows the user to insert a initial probability distribution and number of iteration and to have in return the probability distribution after that number of iterations. The implementation can be made with either a direct computation (Exercise 1, Lecture 1) or a simulations system (Exercise 4, Lecture 1)"
   ]
  },
  {
   "cell_type": "markdown",
   "id": "021695b8-5095-4e49-801f-3061ece89da3",
   "metadata": {},
   "source": [
    "## Exercise 2"
   ]
  },
  {
   "cell_type": "markdown",
   "id": "d1baaa5c-f1aa-48fb-9ed2-9453b452a77c",
   "metadata": {},
   "source": [
    "### OFFICE WORKERS"
   ]
  },
  {
   "cell_type": "markdown",
   "id": "6c41e1ee-df81-4e37-8472-31c50de292fe",
   "metadata": {},
   "source": [
    "For the second exercise we will consider a classical problem. We have an office with $\\mu$ workers that have to elaborate a pile of jobs. In this situation we have an arrival rate for a job in the queue equal to $\\lambda$ and some elaboration rate for each worker given by a vector $\\bar{\\mu}$ and a starting number of jobs in the queue equal to $N_0$. The queue has no cap and potentially can be infinite."
   ]
  },
  {
   "cell_type": "markdown",
   "id": "fce7f48d-7dd2-4943-b3d0-ffc2f6e52d87",
   "metadata": {},
   "source": [
    "**REQUEST**: simulate the problem using a CTMC using as state space the number of jobs in the queues. As seen in the Exercise 2 of Lecture 2, you will have to implement a CTMC class able to produce the probability distribution for the number of jobs given a starting number of jobs after a given time $T$. The exercise must be solved using a simulative approach with the Gillespie-SSA algorithm. "
   ]
  },
  {
   "cell_type": "code",
   "execution_count": null,
   "id": "4021d2b7-02d3-4796-ba68-c2b783d8013a",
   "metadata": {},
   "outputs": [],
   "source": []
  }
 ],
 "metadata": {
  "kernelspec": {
   "display_name": "Python 3 (ipykernel)",
   "language": "python",
   "name": "python3"
  },
  "language_info": {
   "codemirror_mode": {
    "name": "ipython",
    "version": 3
   },
   "file_extension": ".py",
   "mimetype": "text/x-python",
   "name": "python",
   "nbconvert_exporter": "python",
   "pygments_lexer": "ipython3",
   "version": "3.12.2"
  }
 },
 "nbformat": 4,
 "nbformat_minor": 5
}
